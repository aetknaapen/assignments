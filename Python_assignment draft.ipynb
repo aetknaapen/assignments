{
  "nbformat": 4,
  "nbformat_minor": 0,
  "metadata": {
    "colab": {
      "name": "Python assignment",
      "version": "0.3.2",
      "provenance": [],
      "collapsed_sections": [
        "GGlA_Tj6NXdx"
      ],
      "include_colab_link": true
    },
    "kernelspec": {
      "name": "python3",
      "display_name": "Python 3"
    }
  },
  "cells": [
    {
      "cell_type": "markdown",
      "metadata": {
        "id": "view-in-github",
        "colab_type": "text"
      },
      "source": [
        "<a href=\"https://colab.research.google.com/github/aetknaapen/assignments/blob/master/Python_assignment%20draft.ipynb\" target=\"_parent\"><img src=\"https://colab.research.google.com/assets/colab-badge.svg\" alt=\"Open In Colab\"/></a>"
      ]
    },
    {
      "metadata": {
        "id": "_LuQ56iyGrCg",
        "colab_type": "text"
      },
      "cell_type": "markdown",
      "source": [
        "#Python Assignment Applied Economic Analysis 1\n",
        "\n",
        "**Annemarie van Oijen (213579) & Anne Knaapen (255349)**\n"
      ]
    },
    {
      "metadata": {
        "id": "HMAm_m2OGmHk",
        "colab_type": "text"
      },
      "cell_type": "markdown",
      "source": [
        "##Abstract"
      ]
    },
    {
      "metadata": {
        "id": "HPE9P-6ZG5vf",
        "colab_type": "text"
      },
      "cell_type": "markdown",
      "source": [
        "In this assignment, we examine whether the requirements of the climate accord of Paris will be reached in the European Union with regard to CO2 emissions. First, we discuss the research question and the corresponding motivation. Second, we outline the dataset, and look at the development of CO2 emission levels, both on worldwide and EU level. We find that, on EU level, CO2 emissions have already been decreasing in the last decades. Next, we make both a naive and an ARIMA prediction about the future development of the EU CO2 emission levels. With ARIMA, we find that Lastly, we end with a conclusion and a discussion. **Misschien moeten we hier nog wat meer specifieke info aan toevoegen ipv een algemene opbouw van het paper? Dus meer de conclusie is enzo**"
      ]
    },
    {
      "metadata": {
        "id": "XmQtDTMBG04x",
        "colab_type": "text"
      },
      "cell_type": "markdown",
      "source": [
        ""
      ]
    },
    {
      "metadata": {
        "id": "R6dZyRpBJ_aL",
        "colab_type": "text"
      },
      "cell_type": "markdown",
      "source": [
        "##Content"
      ]
    },
    {
      "metadata": {
        "id": "5ireie_iKIwR",
        "colab_type": "text"
      },
      "cell_type": "markdown",
      "source": [
        "\n",
        "\n",
        "*   [Research question](https://colab.research.google.com/drive/133wjBNYuZQkdMoPheY4JGEmMivVX3ktp#scrollTo=r5UjBz4gJqi0)\n",
        "*   [Motivation](https://colab.research.google.com/drive/133wjBNYuZQkdMoPheY4JGEmMivVX3ktp#scrollTo=6MliNdsULqPe)\n",
        "* [Results](https://colab.research.google.com/drive/133wjBNYuZQkdMoPheY4JGEmMivVX3ktp#scrollTo=e97jtheoL-Fp)\n",
        "* [Conclusion](https://colab.research.google.com/drive/133wjBNYuZQkdMoPheY4JGEmMivVX3ktp#scrollTo=GGlA_Tj6NXdx)\n",
        "* [Discussion](https://colab.research.google.com/drive/133wjBNYuZQkdMoPheY4JGEmMivVX3ktp#scrollTo=4Op9jggvNbrN)\n",
        "\n",
        "\n",
        "\n"
      ]
    },
    {
      "metadata": {
        "id": "r5UjBz4gJqi0",
        "colab_type": "text"
      },
      "cell_type": "markdown",
      "source": [
        "##Research question"
      ]
    },
    {
      "metadata": {
        "id": "O6MUvjIMJqGR",
        "colab_type": "text"
      },
      "cell_type": "markdown",
      "source": [
        "The research question is: Will the requirements of the climate accord of Paris be reached in the European Union with regard to CO2 emission?"
      ]
    },
    {
      "metadata": {
        "id": "6MliNdsULqPe",
        "colab_type": "text"
      },
      "cell_type": "markdown",
      "source": [
        "##Motivation"
      ]
    },
    {
      "metadata": {
        "id": "FVakB7mbvg-P",
        "colab_type": "text"
      },
      "cell_type": "markdown",
      "source": [
        "The last decades, the interest in and evidence of climate change has grown rapidly. All over the world, countries are taking action to reach a more green society with less polution. The Paris Agreement that was signed in 2015 was a big step towards a worldwide decrease of polution, a lower level of emissions, especially focussed towards CO2. Within this agreement of the  [United Nations]((https://unfccc.int/process-and-meetings/the-paris-agreement/the-paris-agreement), countries set their own goals for reducing emissions. The [European Union's nationally determined contribution](https://ec.europa.eu/clima/policies/international/negotiations/paris_en) was to reduce greenhouse gas emissions by at least 40 percent in 2030, compared to 1990. As shown by the data, the CO2 emissions in the European Union are already decreasing. However, a 40 percent decrease compared to 1990 is not yet reached. In this paper we will research whether and if this will be reached by forecasting the CO2 emission based on past data.\n"
      ]
    },
    {
      "metadata": {
        "id": "e97jtheoL-Fp",
        "colab_type": "text"
      },
      "cell_type": "markdown",
      "source": [
        "##Results"
      ]
    },
    {
      "metadata": {
        "id": "BJExUYW-MK0f",
        "colab_type": "text"
      },
      "cell_type": "markdown",
      "source": [
        "**Answer**\n",
        "The answer to the [research question](https://colab.research.google.com/drive/133wjBNYuZQkdMoPheY4JGEmMivVX3ktp#scrollTo=r5UjBz4gJqi0) is ......"
      ]
    },
    {
      "metadata": {
        "id": "-ClV1YcMMPOu",
        "colab_type": "text"
      },
      "cell_type": "markdown",
      "source": [
        "**Prepare data**"
      ]
    },
    {
      "metadata": {
        "id": "fM-Dk1CcUNAX",
        "colab_type": "text"
      },
      "cell_type": "markdown",
      "source": [
        "First, we have to import the [Worldbank dataset](https://data.worldbank.org/) and search for the right indicator we want to use, CO2 emission."
      ]
    },
    {
      "metadata": {
        "id": "o2duJ-flRjyL",
        "colab_type": "code",
        "outputId": "7e28b59a-233c-41d5-8471-8322dba154a7",
        "colab": {
          "base_uri": "https://localhost:8080/",
          "height": 193
        }
      },
      "cell_type": "code",
      "source": [
        "!pip install wbdata"
      ],
      "execution_count": 1,
      "outputs": [
        {
          "output_type": "stream",
          "text": [
            "Collecting wbdata\n",
            "  Downloading https://files.pythonhosted.org/packages/d8/a0/c83a8cb001885685f8344f4a6d3557ec3de73d367aea82dbb519aa6d2706/wbdata-0.2.7.tar.gz\n",
            "Requirement already satisfied: decorator in /usr/local/lib/python3.6/dist-packages (from wbdata) (4.3.0)\n",
            "Building wheels for collected packages: wbdata\n",
            "  Running setup.py bdist_wheel for wbdata ... \u001b[?25l-\b \bdone\n",
            "\u001b[?25h  Stored in directory: /root/.cache/pip/wheels/57/61/6a/3978e90cf2f9443b94ce56b4fa839850da9076e697be3a27e3\n",
            "Successfully built wbdata\n",
            "Installing collected packages: wbdata\n",
            "Successfully installed wbdata-0.2.7\n"
          ],
          "name": "stdout"
        }
      ]
    },
    {
      "metadata": {
        "id": "XVfcIyLKPXMc",
        "colab_type": "code",
        "colab": {}
      },
      "cell_type": "code",
      "source": [
        "import numpy as np\n",
        "import matplotlib.pyplot as plt\n",
        "import pandas as pd\n",
        "import wbdata as wb\n"
      ],
      "execution_count": 0,
      "outputs": []
    },
    {
      "metadata": {
        "id": "qSalY4EyPqVF",
        "colab_type": "code",
        "outputId": "c2c17ef0-394e-4425-f4b8-08de1df32a0d",
        "colab": {
          "base_uri": "https://localhost:8080/",
          "height": 384
        }
      },
      "cell_type": "code",
      "source": [
        "wb.search_indicators(\"CO2 emission\")"
      ],
      "execution_count": 3,
      "outputs": [
        {
          "output_type": "stream",
          "text": [
            "EN.ATM.CO2E.PC      \tCO2 emissions (metric tons per capita)\n",
            "EN.ATM.CO2E.LF.ZS   \tCO2 emissions from liquid fuel consumption (% of total) \n",
            "EN.ATM.CO2E.LF.KT   \tCO2 emissions from liquid fuel consumption (kt) \n",
            "EN.ATM.CO2E.KT      \tCO2 emissions (kt)\n",
            "EN.ATM.CO2E.KD.GD   \tCO2 emissions (kg per 2010 US$ of GDP)\n",
            "EN.ATM.CO2E.GL.KT   \tCO2 emissions from gas flaring (thousand metric tons)\n",
            "EN.ATM.CO2E.GF.ZS   \tCO2 emissions from gaseous fuel consumption (% of total) \n",
            "EN.ATM.CO2E.GF.KT   \tCO2 emissions from gaseous fuel consumption (kt) \n",
            "EN.ATM.CO2E.FF.ZS   \tCO2 emissions from fossil-fuels (% of total)\n",
            "EN.ATM.CO2E.FF.KT   \tCO2 emissions from fossil-fuels, total (thousand metric tons)\n",
            "EN.ATM.CO2E.CP.KT   \tCO2 emissions from cement production (thousand metric tons)\n",
            "EN.CO2.TRAN.ZS      \tCO2 emissions from transport (% of total fuel combustion)\n",
            "EN.CO2.OTHX.ZS      \tCO2 emissions from other sectors, excluding residential buildings and commercial and public services (% of total fuel combustion)\n",
            "EN.CO2.MANF.ZS      \tCO2 emissions from manufacturing industries and construction (% of total fuel combustion)\n",
            "EN.CO2.ETOT.ZS      \tCO2 emissions from electricity and heat production, total (% of total fuel combustion)\n",
            "EN.CO2.BLDG.ZS      \tCO2 emissions from residential buildings and commercial and public services (% of total fuel combustion)\n",
            "EN.ATM.CO2E.SF.ZS   \tCO2 emissions from solid fuel consumption (% of total)\n",
            "EN.ATM.CO2E.SF.KT   \tCO2 emissions from solid fuel consumption (kt) \n",
            "EN.ATM.CO2E.PP.GD.KD\tCO2 emissions (kg per 2011 PPP $ of GDP)\n",
            "EN.ATM.CO2E.PP.GD   \tCO2 emissions (kg per PPP $ of GDP)\n"
          ],
          "name": "stdout"
        }
      ]
    },
    {
      "metadata": {
        "id": "cxqmU_9hut3f",
        "colab_type": "text"
      },
      "cell_type": "markdown",
      "source": [
        "Above, all the possible indicators for CO2 emission are stated. We use the variabele for CO2 emission in kilo ton because the climate accord requirements are stated this way."
      ]
    },
    {
      "metadata": {
        "id": "nZo7vxGCMYbz",
        "colab_type": "text"
      },
      "cell_type": "markdown",
      "source": [
        "**Descriptive statistics**"
      ]
    },
    {
      "metadata": {
        "id": "jE3oAGvmVEPe",
        "colab_type": "text"
      },
      "cell_type": "markdown",
      "source": [
        "We now take a look at what the dataset looks like. We rename the indicator EN.ATM.CO2E.KT  into CO2 emission. Next, we display the first 10 and last 10 rows of the dataset, to get an idea what it looks like. "
      ]
    },
    {
      "metadata": {
        "id": "oxY4segPVfzg",
        "colab_type": "code",
        "outputId": "317db702-e6f1-40b5-8d91-922ef70cb1f3",
        "colab": {
          "base_uri": "https://localhost:8080/",
          "height": 355
        }
      },
      "cell_type": "code",
      "source": [
        "indicators = {\"EN.ATM.CO2E.KT \": \"CO2_emission\"}\n",
        "df_wb = wb.get_dataframe(indicators, convert_date=True)\n",
        "df_wb.reset_index(inplace = True)\n",
        "df_wb.head(10)"
      ],
      "execution_count": 4,
      "outputs": [
        {
          "output_type": "execute_result",
          "data": {
            "text/html": [
              "<div>\n",
              "<style scoped>\n",
              "    .dataframe tbody tr th:only-of-type {\n",
              "        vertical-align: middle;\n",
              "    }\n",
              "\n",
              "    .dataframe tbody tr th {\n",
              "        vertical-align: top;\n",
              "    }\n",
              "\n",
              "    .dataframe thead th {\n",
              "        text-align: right;\n",
              "    }\n",
              "</style>\n",
              "<table border=\"1\" class=\"dataframe\">\n",
              "  <thead>\n",
              "    <tr style=\"text-align: right;\">\n",
              "      <th></th>\n",
              "      <th>country</th>\n",
              "      <th>date</th>\n",
              "      <th>CO2_emission</th>\n",
              "    </tr>\n",
              "  </thead>\n",
              "  <tbody>\n",
              "    <tr>\n",
              "      <th>0</th>\n",
              "      <td>Arab World</td>\n",
              "      <td>2017-01-01</td>\n",
              "      <td>NaN</td>\n",
              "    </tr>\n",
              "    <tr>\n",
              "      <th>1</th>\n",
              "      <td>Arab World</td>\n",
              "      <td>2016-01-01</td>\n",
              "      <td>NaN</td>\n",
              "    </tr>\n",
              "    <tr>\n",
              "      <th>2</th>\n",
              "      <td>Arab World</td>\n",
              "      <td>2015-01-01</td>\n",
              "      <td>NaN</td>\n",
              "    </tr>\n",
              "    <tr>\n",
              "      <th>3</th>\n",
              "      <td>Arab World</td>\n",
              "      <td>2014-01-01</td>\n",
              "      <td>1.895700e+06</td>\n",
              "    </tr>\n",
              "    <tr>\n",
              "      <th>4</th>\n",
              "      <td>Arab World</td>\n",
              "      <td>2013-01-01</td>\n",
              "      <td>1.775096e+06</td>\n",
              "    </tr>\n",
              "    <tr>\n",
              "      <th>5</th>\n",
              "      <td>Arab World</td>\n",
              "      <td>2012-01-01</td>\n",
              "      <td>1.796962e+06</td>\n",
              "    </tr>\n",
              "    <tr>\n",
              "      <th>6</th>\n",
              "      <td>Arab World</td>\n",
              "      <td>2011-01-01</td>\n",
              "      <td>1.655808e+06</td>\n",
              "    </tr>\n",
              "    <tr>\n",
              "      <th>7</th>\n",
              "      <td>Arab World</td>\n",
              "      <td>2010-01-01</td>\n",
              "      <td>1.645559e+06</td>\n",
              "    </tr>\n",
              "    <tr>\n",
              "      <th>8</th>\n",
              "      <td>Arab World</td>\n",
              "      <td>2009-01-01</td>\n",
              "      <td>1.581328e+06</td>\n",
              "    </tr>\n",
              "    <tr>\n",
              "      <th>9</th>\n",
              "      <td>Arab World</td>\n",
              "      <td>2008-01-01</td>\n",
              "      <td>1.491970e+06</td>\n",
              "    </tr>\n",
              "  </tbody>\n",
              "</table>\n",
              "</div>"
            ],
            "text/plain": [
              "      country       date  CO2_emission\n",
              "0  Arab World 2017-01-01           NaN\n",
              "1  Arab World 2016-01-01           NaN\n",
              "2  Arab World 2015-01-01           NaN\n",
              "3  Arab World 2014-01-01  1.895700e+06\n",
              "4  Arab World 2013-01-01  1.775096e+06\n",
              "5  Arab World 2012-01-01  1.796962e+06\n",
              "6  Arab World 2011-01-01  1.655808e+06\n",
              "7  Arab World 2010-01-01  1.645559e+06\n",
              "8  Arab World 2009-01-01  1.581328e+06\n",
              "9  Arab World 2008-01-01  1.491970e+06"
            ]
          },
          "metadata": {
            "tags": []
          },
          "execution_count": 4
        }
      ]
    },
    {
      "metadata": {
        "id": "cPbTHZEtXC-4",
        "colab_type": "code",
        "outputId": "a0543ced-6340-4460-a069-cf1bb3223bac",
        "colab": {
          "base_uri": "https://localhost:8080/",
          "height": 355
        }
      },
      "cell_type": "code",
      "source": [
        "df_wb.tail(10)"
      ],
      "execution_count": 5,
      "outputs": [
        {
          "output_type": "execute_result",
          "data": {
            "text/html": [
              "<div>\n",
              "<style scoped>\n",
              "    .dataframe tbody tr th:only-of-type {\n",
              "        vertical-align: middle;\n",
              "    }\n",
              "\n",
              "    .dataframe tbody tr th {\n",
              "        vertical-align: top;\n",
              "    }\n",
              "\n",
              "    .dataframe thead th {\n",
              "        text-align: right;\n",
              "    }\n",
              "</style>\n",
              "<table border=\"1\" class=\"dataframe\">\n",
              "  <thead>\n",
              "    <tr style=\"text-align: right;\">\n",
              "      <th></th>\n",
              "      <th>country</th>\n",
              "      <th>date</th>\n",
              "      <th>CO2_emission</th>\n",
              "    </tr>\n",
              "  </thead>\n",
              "  <tbody>\n",
              "    <tr>\n",
              "      <th>15302</th>\n",
              "      <td>Zimbabwe</td>\n",
              "      <td>1969-01-01</td>\n",
              "      <td>6750.947</td>\n",
              "    </tr>\n",
              "    <tr>\n",
              "      <th>15303</th>\n",
              "      <td>Zimbabwe</td>\n",
              "      <td>1968-01-01</td>\n",
              "      <td>6384.247</td>\n",
              "    </tr>\n",
              "    <tr>\n",
              "      <th>15304</th>\n",
              "      <td>Zimbabwe</td>\n",
              "      <td>1967-01-01</td>\n",
              "      <td>5298.815</td>\n",
              "    </tr>\n",
              "    <tr>\n",
              "      <th>15305</th>\n",
              "      <td>Zimbabwe</td>\n",
              "      <td>1966-01-01</td>\n",
              "      <td>6046.883</td>\n",
              "    </tr>\n",
              "    <tr>\n",
              "      <th>15306</th>\n",
              "      <td>Zimbabwe</td>\n",
              "      <td>1965-01-01</td>\n",
              "      <td>5214.474</td>\n",
              "    </tr>\n",
              "    <tr>\n",
              "      <th>15307</th>\n",
              "      <td>Zimbabwe</td>\n",
              "      <td>1964-01-01</td>\n",
              "      <td>4473.740</td>\n",
              "    </tr>\n",
              "    <tr>\n",
              "      <th>15308</th>\n",
              "      <td>Zimbabwe</td>\n",
              "      <td>1963-01-01</td>\n",
              "      <td>NaN</td>\n",
              "    </tr>\n",
              "    <tr>\n",
              "      <th>15309</th>\n",
              "      <td>Zimbabwe</td>\n",
              "      <td>1962-01-01</td>\n",
              "      <td>NaN</td>\n",
              "    </tr>\n",
              "    <tr>\n",
              "      <th>15310</th>\n",
              "      <td>Zimbabwe</td>\n",
              "      <td>1961-01-01</td>\n",
              "      <td>NaN</td>\n",
              "    </tr>\n",
              "    <tr>\n",
              "      <th>15311</th>\n",
              "      <td>Zimbabwe</td>\n",
              "      <td>1960-01-01</td>\n",
              "      <td>NaN</td>\n",
              "    </tr>\n",
              "  </tbody>\n",
              "</table>\n",
              "</div>"
            ],
            "text/plain": [
              "        country       date  CO2_emission\n",
              "15302  Zimbabwe 1969-01-01      6750.947\n",
              "15303  Zimbabwe 1968-01-01      6384.247\n",
              "15304  Zimbabwe 1967-01-01      5298.815\n",
              "15305  Zimbabwe 1966-01-01      6046.883\n",
              "15306  Zimbabwe 1965-01-01      5214.474\n",
              "15307  Zimbabwe 1964-01-01      4473.740\n",
              "15308  Zimbabwe 1963-01-01           NaN\n",
              "15309  Zimbabwe 1962-01-01           NaN\n",
              "15310  Zimbabwe 1961-01-01           NaN\n",
              "15311  Zimbabwe 1960-01-01           NaN"
            ]
          },
          "metadata": {
            "tags": []
          },
          "execution_count": 5
        }
      ]
    },
    {
      "metadata": {
        "id": "g4OLKsyCXOqt",
        "colab_type": "text"
      },
      "cell_type": "markdown",
      "source": [
        "By looking at this overview, we can see that the dataset exists of data of all countries in the period 1960-2017. However, the dataset also includes empty cells (NaN)."
      ]
    },
    {
      "metadata": {
        "id": "VAes_UrDM07U",
        "colab_type": "text"
      },
      "cell_type": "markdown",
      "source": [
        "**CO2 emission over time**"
      ]
    },
    {
      "metadata": {
        "id": "6vFWzF8fYFvt",
        "colab_type": "text"
      },
      "cell_type": "markdown",
      "source": [
        "To see if and how CO2 emissions varies over time, we compare the dataset of 1990 with the one of 2014. This data is choosen because by looking more closely into the [dataset](https://databank.worldbank.org/data/reports.aspx?source=2&series=EN.ATM.CO2E.KT&country=) of the Worldbank, for this period many data is available. We merge the datasets based on 'inner', which means only countries with data for both periods are included in the new, merged dataset. We start by looking at the complet dataset. "
      ]
    },
    {
      "metadata": {
        "id": "2Dgr6OuwZTrH",
        "colab_type": "code",
        "colab": {}
      },
      "cell_type": "code",
      "source": [
        "df_1990=df_wb[df_wb['date']=='1990-01-01']\n",
        "df_2014=df_wb[df_wb['date']=='2014-01-01']"
      ],
      "execution_count": 0,
      "outputs": []
    },
    {
      "metadata": {
        "id": "Uq8akjNRZkey",
        "colab_type": "code",
        "colab": {}
      },
      "cell_type": "code",
      "source": [
        "df_merged = pd.merge(df_1990, df_2014, on=['country'], suffixes=['_1990', '_2014'], how='inner')"
      ],
      "execution_count": 0,
      "outputs": []
    },
    {
      "metadata": {
        "id": "gUP11QRfGEkt",
        "colab_type": "text"
      },
      "cell_type": "markdown",
      "source": [
        "We again take a look at the first 10 rows to see what the dataset looks like."
      ]
    },
    {
      "metadata": {
        "id": "BnPp4fV5Z4PW",
        "colab_type": "code",
        "outputId": "75e6a7c4-6f31-4278-e987-42eea830de8d",
        "colab": {
          "base_uri": "https://localhost:8080/",
          "height": 355
        }
      },
      "cell_type": "code",
      "source": [
        "df_merged.head(10)"
      ],
      "execution_count": 8,
      "outputs": [
        {
          "output_type": "execute_result",
          "data": {
            "text/html": [
              "<div>\n",
              "<style scoped>\n",
              "    .dataframe tbody tr th:only-of-type {\n",
              "        vertical-align: middle;\n",
              "    }\n",
              "\n",
              "    .dataframe tbody tr th {\n",
              "        vertical-align: top;\n",
              "    }\n",
              "\n",
              "    .dataframe thead th {\n",
              "        text-align: right;\n",
              "    }\n",
              "</style>\n",
              "<table border=\"1\" class=\"dataframe\">\n",
              "  <thead>\n",
              "    <tr style=\"text-align: right;\">\n",
              "      <th></th>\n",
              "      <th>country</th>\n",
              "      <th>date_1990</th>\n",
              "      <th>CO2_emission_1990</th>\n",
              "      <th>date_2014</th>\n",
              "      <th>CO2_emission_2014</th>\n",
              "    </tr>\n",
              "  </thead>\n",
              "  <tbody>\n",
              "    <tr>\n",
              "      <th>0</th>\n",
              "      <td>Arab World</td>\n",
              "      <td>1990-01-01</td>\n",
              "      <td>6.717361e+05</td>\n",
              "      <td>2014-01-01</td>\n",
              "      <td>1.895700e+06</td>\n",
              "    </tr>\n",
              "    <tr>\n",
              "      <th>1</th>\n",
              "      <td>Caribbean small states</td>\n",
              "      <td>1990-01-01</td>\n",
              "      <td>3.159487e+04</td>\n",
              "      <td>2014-01-01</td>\n",
              "      <td>6.363712e+04</td>\n",
              "    </tr>\n",
              "    <tr>\n",
              "      <th>2</th>\n",
              "      <td>Central Europe and the Baltics</td>\n",
              "      <td>1990-01-01</td>\n",
              "      <td>9.983024e+05</td>\n",
              "      <td>2014-01-01</td>\n",
              "      <td>6.363858e+05</td>\n",
              "    </tr>\n",
              "    <tr>\n",
              "      <th>3</th>\n",
              "      <td>Early-demographic dividend</td>\n",
              "      <td>1990-01-01</td>\n",
              "      <td>2.851175e+06</td>\n",
              "      <td>2014-01-01</td>\n",
              "      <td>7.079255e+06</td>\n",
              "    </tr>\n",
              "    <tr>\n",
              "      <th>4</th>\n",
              "      <td>East Asia &amp; Pacific</td>\n",
              "      <td>1990-01-01</td>\n",
              "      <td>4.703785e+06</td>\n",
              "      <td>2014-01-01</td>\n",
              "      <td>1.427211e+07</td>\n",
              "    </tr>\n",
              "    <tr>\n",
              "      <th>5</th>\n",
              "      <td>East Asia &amp; Pacific (excluding high income)</td>\n",
              "      <td>1990-01-01</td>\n",
              "      <td>2.864275e+06</td>\n",
              "      <td>2014-01-01</td>\n",
              "      <td>1.168863e+07</td>\n",
              "    </tr>\n",
              "    <tr>\n",
              "      <th>6</th>\n",
              "      <td>East Asia &amp; Pacific (IDA &amp; IBRD countries)</td>\n",
              "      <td>1990-01-01</td>\n",
              "      <td>2.822276e+06</td>\n",
              "      <td>2014-01-01</td>\n",
              "      <td>1.164808e+07</td>\n",
              "    </tr>\n",
              "    <tr>\n",
              "      <th>7</th>\n",
              "      <td>Euro area</td>\n",
              "      <td>1990-01-01</td>\n",
              "      <td>NaN</td>\n",
              "      <td>2014-01-01</td>\n",
              "      <td>2.191542e+06</td>\n",
              "    </tr>\n",
              "    <tr>\n",
              "      <th>8</th>\n",
              "      <td>Europe &amp; Central Asia</td>\n",
              "      <td>1990-01-01</td>\n",
              "      <td>NaN</td>\n",
              "      <td>2014-01-01</td>\n",
              "      <td>6.245992e+06</td>\n",
              "    </tr>\n",
              "    <tr>\n",
              "      <th>9</th>\n",
              "      <td>Europe &amp; Central Asia (excluding high income)</td>\n",
              "      <td>1990-01-01</td>\n",
              "      <td>NaN</td>\n",
              "      <td>2014-01-01</td>\n",
              "      <td>3.029861e+06</td>\n",
              "    </tr>\n",
              "  </tbody>\n",
              "</table>\n",
              "</div>"
            ],
            "text/plain": [
              "                                         country  date_1990  \\\n",
              "0                                     Arab World 1990-01-01   \n",
              "1                         Caribbean small states 1990-01-01   \n",
              "2                 Central Europe and the Baltics 1990-01-01   \n",
              "3                     Early-demographic dividend 1990-01-01   \n",
              "4                            East Asia & Pacific 1990-01-01   \n",
              "5    East Asia & Pacific (excluding high income) 1990-01-01   \n",
              "6     East Asia & Pacific (IDA & IBRD countries) 1990-01-01   \n",
              "7                                      Euro area 1990-01-01   \n",
              "8                          Europe & Central Asia 1990-01-01   \n",
              "9  Europe & Central Asia (excluding high income) 1990-01-01   \n",
              "\n",
              "   CO2_emission_1990  date_2014  CO2_emission_2014  \n",
              "0       6.717361e+05 2014-01-01       1.895700e+06  \n",
              "1       3.159487e+04 2014-01-01       6.363712e+04  \n",
              "2       9.983024e+05 2014-01-01       6.363858e+05  \n",
              "3       2.851175e+06 2014-01-01       7.079255e+06  \n",
              "4       4.703785e+06 2014-01-01       1.427211e+07  \n",
              "5       2.864275e+06 2014-01-01       1.168863e+07  \n",
              "6       2.822276e+06 2014-01-01       1.164808e+07  \n",
              "7                NaN 2014-01-01       2.191542e+06  \n",
              "8                NaN 2014-01-01       6.245992e+06  \n",
              "9                NaN 2014-01-01       3.029861e+06  "
            ]
          },
          "metadata": {
            "tags": []
          },
          "execution_count": 8
        }
      ]
    },
    {
      "metadata": {
        "id": "hm0D5wASFk8P",
        "colab_type": "text"
      },
      "cell_type": "markdown",
      "source": [
        "We describe the total dataset of both 1990 and 2014, to compare the averages of CO2 emission of these years. "
      ]
    },
    {
      "metadata": {
        "id": "LEPk-Ud4lwic",
        "colab_type": "code",
        "outputId": "d3c09566-0a07-44a1-94f8-d973848c697c",
        "colab": {
          "base_uri": "https://localhost:8080/",
          "height": 294
        }
      },
      "cell_type": "code",
      "source": [
        "df_merged.describe()"
      ],
      "execution_count": 9,
      "outputs": [
        {
          "output_type": "execute_result",
          "data": {
            "text/html": [
              "<div>\n",
              "<style scoped>\n",
              "    .dataframe tbody tr th:only-of-type {\n",
              "        vertical-align: middle;\n",
              "    }\n",
              "\n",
              "    .dataframe tbody tr th {\n",
              "        vertical-align: top;\n",
              "    }\n",
              "\n",
              "    .dataframe thead th {\n",
              "        text-align: right;\n",
              "    }\n",
              "</style>\n",
              "<table border=\"1\" class=\"dataframe\">\n",
              "  <thead>\n",
              "    <tr style=\"text-align: right;\">\n",
              "      <th></th>\n",
              "      <th>CO2_emission_1990</th>\n",
              "      <th>CO2_emission_2014</th>\n",
              "    </tr>\n",
              "  </thead>\n",
              "  <tbody>\n",
              "    <tr>\n",
              "      <th>count</th>\n",
              "      <td>2.150000e+02</td>\n",
              "      <td>2.510000e+02</td>\n",
              "    </tr>\n",
              "    <tr>\n",
              "      <th>mean</th>\n",
              "      <td>7.294724e+05</td>\n",
              "      <td>1.273323e+06</td>\n",
              "    </tr>\n",
              "    <tr>\n",
              "      <th>std</th>\n",
              "      <td>2.475727e+06</td>\n",
              "      <td>4.224233e+06</td>\n",
              "    </tr>\n",
              "    <tr>\n",
              "      <th>min</th>\n",
              "      <td>7.334000e+00</td>\n",
              "      <td>1.100100e+01</td>\n",
              "    </tr>\n",
              "    <tr>\n",
              "      <th>25%</th>\n",
              "      <td>8.599115e+02</td>\n",
              "      <td>2.458724e+03</td>\n",
              "    </tr>\n",
              "    <tr>\n",
              "      <th>50%</th>\n",
              "      <td>1.000358e+04</td>\n",
              "      <td>2.223302e+04</td>\n",
              "    </tr>\n",
              "    <tr>\n",
              "      <th>75%</th>\n",
              "      <td>1.477123e+05</td>\n",
              "      <td>2.455680e+05</td>\n",
              "    </tr>\n",
              "    <tr>\n",
              "      <th>max</th>\n",
              "      <td>2.214940e+07</td>\n",
              "      <td>3.613828e+07</td>\n",
              "    </tr>\n",
              "  </tbody>\n",
              "</table>\n",
              "</div>"
            ],
            "text/plain": [
              "       CO2_emission_1990  CO2_emission_2014\n",
              "count       2.150000e+02       2.510000e+02\n",
              "mean        7.294724e+05       1.273323e+06\n",
              "std         2.475727e+06       4.224233e+06\n",
              "min         7.334000e+00       1.100100e+01\n",
              "25%         8.599115e+02       2.458724e+03\n",
              "50%         1.000358e+04       2.223302e+04\n",
              "75%         1.477123e+05       2.455680e+05\n",
              "max         2.214940e+07       3.613828e+07"
            ]
          },
          "metadata": {
            "tags": []
          },
          "execution_count": 9
        }
      ]
    },
    {
      "metadata": {
        "id": "QPr5bMbZpGXq",
        "colab_type": "text"
      },
      "cell_type": "markdown",
      "source": [
        "If we compare the mean of the CO2 emission of 1990 and 2014, we see that in 2014, the average level of CO2 emissions is higher. Next, we show this graphically."
      ]
    },
    {
      "metadata": {
        "id": "lkzdIbOieHKU",
        "colab_type": "code",
        "outputId": "0a443b4d-5590-456d-cb00-aff59ef88142",
        "colab": {
          "base_uri": "https://localhost:8080/",
          "height": 390
        }
      },
      "cell_type": "code",
      "source": [
        "plt.scatter(df_merged['CO2_emission_1990'],df_merged['CO2_emission_2014'])\n",
        "plt.xlabel('CO2 emission in 1990')\n",
        "plt.ylabel('CO2 emission in 2014')"
      ],
      "execution_count": 10,
      "outputs": [
        {
          "output_type": "execute_result",
          "data": {
            "text/plain": [
              "Text(0, 0.5, 'CO2 emission in 2014')"
            ]
          },
          "metadata": {
            "tags": []
          },
          "execution_count": 10
        },
        {
          "output_type": "display_data",
          "data": {
            "image/png": "[encoded data removed]",
            "text/plain": [
              "<Figure size 576x396 with 1 Axes>"
            ]
          },
          "metadata": {
            "tags": []
          }
        }
      ]
    },
    {
      "metadata": {
        "id": "9ZdI0s1iGl5w",
        "colab_type": "text"
      },
      "cell_type": "markdown",
      "source": [
        "Next, we make this graph interactive, to show which point belongs to which country. It is important to remember that becaused we merged the dataset based on 'inner', only countries that have data in both periods are included. "
      ]
    },
    {
      "metadata": {
        "id": "XWdeUiHsizQp",
        "colab_type": "code",
        "outputId": "561c44e8-749a-4b13-e665-c0fe5814e09a",
        "colab": {
          "base_uri": "https://localhost:8080/",
          "height": 647
        }
      },
      "cell_type": "code",
      "source": [
        "from bokeh.io import output_file, show, output_notebook\n",
        "from bokeh.plotting import figure\n",
        "from bokeh.models import HoverTool\n",
        "output_notebook()\n",
        "\n",
        "hover = HoverTool(tooltips=[\n",
        "     ('country','@country'),\n",
        "     ])\n",
        "\n",
        "plot = figure(tools=[hover])\n",
        "plot.circle('CO2_emission_1990','CO2_emission_2014',\n",
        "    size=10, source=df_merged)\n",
        "output_file('inequality.html')\n",
        "show(plot)"
      ],
      "execution_count": 11,
      "outputs": [
        {
          "output_type": "display_data",
          "data": {
            "text/html": [
              "\n",
              "    <div class=\"bk-root\">\n",
              "        <a href=\"https://bokeh.pydata.org\" target=\"_blank\" class=\"bk-logo bk-logo-small bk-logo-notebook\"></a>\n",
              "        <span id=\"1001\">Loading BokehJS ...</span>\n",
              "    </div>"
            ]
          },
          "metadata": {
            "tags": []
          }
        },
        {
          "output_type": "display_data",
          "data": {
            "application/javascript": [
              "\n",
              "(function(root) {\n",
              "  function now() {\n",
              "    return new Date();\n",
              "  }\n",
              "\n",
              "  var force = true;\n",
              "\n",
              "  if (typeof (root._bokeh_onload_callbacks) === \"undefined\" || force === true) {\n",
              "    root._bokeh_onload_callbacks = [];\n",
              "    root._bokeh_is_loading = undefined;\n",
              "  }\n",
              "\n",
              "  var JS_MIME_TYPE = 'application/javascript';\n",
              "  var HTML_MIME_TYPE = 'text/html';\n",
              "  var EXEC_MIME_TYPE = 'application/vnd.bokehjs_exec.v0+json';\n",
              "  var CLASS_NAME = 'output_bokeh rendered_html';\n",
              "\n",
              "  /**\n",
              "   * Render data to the DOM node\n",
              "   */\n",
              "  function render(props, node) {\n",
              "    var script = document.createElement(\"script\");\n",
              "    node.appendChild(script);\n",
              "  }\n",
              "\n",
              "  /**\n",
              "   * Handle when an output is cleared or removed\n",
              "   */\n",
              "  function handleClearOutput(event, handle) {\n",
              "    var cell = handle.cell;\n",
              "\n",
              "    var id = cell.output_area._bokeh_element_id;\n",
              "    var server_id = cell.output_area._bokeh_server_id;\n",
              "    // Clean up Bokeh references\n",
              "    if (id != null && id in Bokeh.index) {\n",
              "      Bokeh.index[id].model.document.clear();\n",
              "      delete Bokeh.index[id];\n",
              "    }\n",
              "\n",
              "    if (server_id !== undefined) {\n",
              "      // Clean up Bokeh references\n",
              "      var cmd = \"from bokeh.io.state import curstate; print(curstate().uuid_to_server['\" + server_id + \"'].get_sessions()[0].document.roots[0]._id)\";\n",
              "      cell.notebook.kernel.execute(cmd, {\n",
              "        iopub: {\n",
              "          output: function(msg) {\n",
              "            var id = msg.content.text.trim();\n",
              "            if (id in Bokeh.index) {\n",
              "              Bokeh.index[id].model.document.clear();\n",
              "              delete Bokeh.index[id];\n",
              "            }\n",
              "          }\n",
              "        }\n",
              "      });\n",
              "      // Destroy server and session\n",
              "      var cmd = \"import bokeh.io.notebook as ion; ion.destroy_server('\" + server_id + \"')\";\n",
              "      cell.notebook.kernel.execute(cmd);\n",
              "    }\n",
              "  }\n",
              "\n",
              "  /**\n",
              "   * Handle when a new output is added\n",
              "   */\n",
              "  function handleAddOutput(event, handle) {\n",
              "    var output_area = handle.output_area;\n",
              "    var output = handle.output;\n",
              "\n",
              "    // limit handleAddOutput to display_data with EXEC_MIME_TYPE content only\n",
              "    if ((output.output_type != \"display_data\") || (!output.data.hasOwnProperty(EXEC_MIME_TYPE))) {\n",
              "      return\n",
              "    }\n",
              "\n",
              "    var toinsert = output_area.element.find(\".\" + CLASS_NAME.split(' ')[0]);\n",
              "\n",
              "    if (output.metadata[EXEC_MIME_TYPE][\"id\"] !== undefined) {\n",
              "      toinsert[toinsert.length - 1].firstChild.textContent = output.data[JS_MIME_TYPE];\n",
              "      // store reference to embed id on output_area\n",
              "      output_area._bokeh_element_id = output.metadata[EXEC_MIME_TYPE][\"id\"];\n",
              "    }\n",
              "    if (output.metadata[EXEC_MIME_TYPE][\"server_id\"] !== undefined) {\n",
              "      var bk_div = document.createElement(\"div\");\n",
              "      bk_div.innerHTML = output.data[HTML_MIME_TYPE];\n",
              "      var script_attrs = bk_div.children[0].attributes;\n",
              "      for (var i = 0; i < script_attrs.length; i++) {\n",
              "        toinsert[toinsert.length - 1].firstChild.setAttribute(script_attrs[i].name, script_attrs[i].value);\n",
              "      }\n",
              "      // store reference to server id on output_area\n",
              "      output_area._bokeh_server_id = output.metadata[EXEC_MIME_TYPE][\"server_id\"];\n",
              "    }\n",
              "  }\n",
              "\n",
              "  function register_renderer(events, OutputArea) {\n",
              "\n",
              "    function append_mime(data, metadata, element) {\n",
              "      // create a DOM node to render to\n",
              "      var toinsert = this.create_output_subarea(\n",
              "        metadata,\n",
              "        CLASS_NAME,\n",
              "        EXEC_MIME_TYPE\n",
              "      );\n",
              "      this.keyboard_manager.register_events(toinsert);\n",
              "      // Render to node\n",
              "      var props = {data: data, metadata: metadata[EXEC_MIME_TYPE]};\n",
              "      render(props, toinsert[toinsert.length - 1]);\n",
              "      element.append(toinsert);\n",
              "      return toinsert\n",
              "    }\n",
              "\n",
              "    /* Handle when an output is cleared or removed */\n",
              "    events.on('clear_output.CodeCell', handleClearOutput);\n",
              "    events.on('delete.Cell', handleClearOutput);\n",
              "\n",
              "    /* Handle when a new output is added */\n",
              "    events.on('output_added.OutputArea', handleAddOutput);\n",
              "\n",
              "    /**\n",
              "     * Register the mime type and append_mime function with output_area\n",
              "     */\n",
              "    OutputArea.prototype.register_mime_type(EXEC_MIME_TYPE, append_mime, {\n",
              "      /* Is output safe? */\n",
              "      safe: true,\n",
              "      /* Index of renderer in `output_area.display_order` */\n",
              "      index: 0\n",
              "    });\n",
              "  }\n",
              "\n",
              "  // register the mime type if in Jupyter Notebook environment and previously unregistered\n",
              "  if (root.Jupyter !== undefined) {\n",
              "    var events = require('base/js/events');\n",
              "    var OutputArea = require('notebook/js/outputarea').OutputArea;\n",
              "\n",
              "    if (OutputArea.prototype.mime_types().indexOf(EXEC_MIME_TYPE) == -1) {\n",
              "      register_renderer(events, OutputArea);\n",
              "    }\n",
              "  }\n",
              "\n",
              "  \n",
              "  if (typeof (root._bokeh_timeout) === \"undefined\" || force === true) {\n",
              "    root._bokeh_timeout = Date.now() + 5000;\n",
              "    root._bokeh_failed_load = false;\n",
              "  }\n",
              "\n",
              "  var NB_LOAD_WARNING = {'data': {'text/html':\n",
              "     \"<div style='background-color: #fdd'>\\n\"+\n",
              "     \"<p>\\n\"+\n",
              "     \"BokehJS does not appear to have successfully loaded. If loading BokehJS from CDN, this \\n\"+\n",
              "     \"may be due to a slow or bad network connection. Possible fixes:\\n\"+\n",
              "     \"</p>\\n\"+\n",
              "     \"<ul>\\n\"+\n",
              "     \"<li>re-rerun `output_notebook()` to attempt to load from CDN again, or</li>\\n\"+\n",
              "     \"<li>use INLINE resources instead, as so:</li>\\n\"+\n",
              "     \"</ul>\\n\"+\n",
              "     \"<code>\\n\"+\n",
              "     \"from bokeh.resources import INLINE\\n\"+\n",
              "     \"output_notebook(resources=INLINE)\\n\"+\n",
              "     \"</code>\\n\"+\n",
              "     \"</div>\"}};\n",
              "\n",
              "  function display_loaded() {\n",
              "    var el = document.getElementById(\"1001\");\n",
              "    if (el != null) {\n",
              "      el.textContent = \"BokehJS is loading...\";\n",
              "    }\n",
              "    if (root.Bokeh !== undefined) {\n",
              "      if (el != null) {\n",
              "        el.textContent = \"BokehJS \" + root.Bokeh.version + \" successfully loaded.\";\n",
              "      }\n",
              "    } else if (Date.now() < root._bokeh_timeout) {\n",
              "      setTimeout(display_loaded, 100)\n",
              "    }\n",
              "  }\n",
              "\n",
              "\n",
              "  function run_callbacks() {\n",
              "    try {\n",
              "      root._bokeh_onload_callbacks.forEach(function(callback) { callback() });\n",
              "    }\n",
              "    finally {\n",
              "      delete root._bokeh_onload_callbacks\n",
              "    }\n",
              "    console.info(\"Bokeh: all callbacks have finished\");\n",
              "  }\n",
              "\n",
              "  function load_libs(js_urls, callback) {\n",
              "    root._bokeh_onload_callbacks.push(callback);\n",
              "    if (root._bokeh_is_loading > 0) {\n",
              "      console.log(\"Bokeh: BokehJS is being loaded, scheduling callback at\", now());\n",
              "      return null;\n",
              "    }\n",
              "    if (js_urls == null || js_urls.length === 0) {\n",
              "      run_callbacks();\n",
              "      return null;\n",
              "    }\n",
              "    console.log(\"Bokeh: BokehJS not loaded, scheduling load and callback at\", now());\n",
              "    root._bokeh_is_loading = js_urls.length;\n",
              "    for (var i = 0; i < js_urls.length; i++) {\n",
              "      var url = js_urls[i];\n",
              "      var s = document.createElement('script');\n",
              "      s.src = url;\n",
              "      s.async = false;\n",
              "      s.onreadystatechange = s.onload = function() {\n",
              "        root._bokeh_is_loading--;\n",
              "        if (root._bokeh_is_loading === 0) {\n",
              "          console.log(\"Bokeh: all BokehJS libraries loaded\");\n",
              "          run_callbacks()\n",
              "        }\n",
              "      };\n",
              "      s.onerror = function() {\n",
              "        console.warn(\"failed to load library \" + url);\n",
              "      };\n",
              "      console.log(\"Bokeh: injecting script tag for BokehJS library: \", url);\n",
              "      document.getElementsByTagName(\"head\")[0].appendChild(s);\n",
              "    }\n",
              "  };var element = document.getElementById(\"1001\");\n",
              "  if (element == null) {\n",
              "    console.log(\"Bokeh: ERROR: autoload.js configured with elementid '1001' but no matching script tag was found. \")\n",
              "    return false;\n",
              "  }\n",
              "\n",
              "  var js_urls = [\"https://cdn.pydata.org/bokeh/release/bokeh-1.0.4.min.js\", \"https://cdn.pydata.org/bokeh/release/bokeh-widgets-1.0.4.min.js\", \"https://cdn.pydata.org/bokeh/release/bokeh-tables-1.0.4.min.js\", \"https://cdn.pydata.org/bokeh/release/bokeh-gl-1.0.4.min.js\"];\n",
              "\n",
              "  var inline_js = [\n",
              "    function(Bokeh) {\n",
              "      Bokeh.set_log_level(\"info\");\n",
              "    },\n",
              "    \n",
              "    function(Bokeh) {\n",
              "      \n",
              "    },\n",
              "    function(Bokeh) {\n",
              "      console.log(\"Bokeh: injecting CSS: https://cdn.pydata.org/bokeh/release/bokeh-1.0.4.min.css\");\n",
              "      Bokeh.embed.inject_css(\"https://cdn.pydata.org/bokeh/release/bokeh-1.0.4.min.css\");\n",
              "      console.log(\"Bokeh: injecting CSS: https://cdn.pydata.org/bokeh/release/bokeh-widgets-1.0.4.min.css\");\n",
              "      Bokeh.embed.inject_css(\"https://cdn.pydata.org/bokeh/release/bokeh-widgets-1.0.4.min.css\");\n",
              "      console.log(\"Bokeh: injecting CSS: https://cdn.pydata.org/bokeh/release/bokeh-tables-1.0.4.min.css\");\n",
              "      Bokeh.embed.inject_css(\"https://cdn.pydata.org/bokeh/release/bokeh-tables-1.0.4.min.css\");\n",
              "    }\n",
              "  ];\n",
              "\n",
              "  function run_inline_js() {\n",
              "    \n",
              "    if ((root.Bokeh !== undefined) || (force === true)) {\n",
              "      for (var i = 0; i < inline_js.length; i++) {\n",
              "        inline_js[i].call(root, root.Bokeh);\n",
              "      }if (force === true) {\n",
              "        display_loaded();\n",
              "      }} else if (Date.now() < root._bokeh_timeout) {\n",
              "      setTimeout(run_inline_js, 100);\n",
              "    } else if (!root._bokeh_failed_load) {\n",
              "      console.log(\"Bokeh: BokehJS failed to load within specified timeout.\");\n",
              "      root._bokeh_failed_load = true;\n",
              "    } else if (force !== true) {\n",
              "      var cell = $(document.getElementById(\"1001\")).parents('.cell').data().cell;\n",
              "      cell.output_area.append_execute_result(NB_LOAD_WARNING)\n",
              "    }\n",
              "\n",
              "  }\n",
              "\n",
              "  if (root._bokeh_is_loading === 0) {\n",
              "    console.log(\"Bokeh: BokehJS loaded, going straight to plotting\");\n",
              "    run_inline_js();\n",
              "  } else {\n",
              "    load_libs(js_urls, function() {\n",
              "      console.log(\"Bokeh: BokehJS plotting callback run at\", now());\n",
              "      run_inline_js();\n",
              "    });\n",
              "  }\n",
              "}(window));"
            ],
            "application/vnd.bokehjs_load.v0+json": "\n(function(root) {\n  function now() {\n    return new Date();\n  }\n\n  var force = true;\n\n  if (typeof (root._bokeh_onload_callbacks) === \"undefined\" || force === true) {\n    root._bokeh_onload_callbacks = [];\n    root._bokeh_is_loading = undefined;\n  }\n\n  \n\n  \n  if (typeof (root._bokeh_timeout) === \"undefined\" || force === true) {\n    root._bokeh_timeout = Date.now() + 5000;\n    root._bokeh_failed_load = false;\n  }\n\n  var NB_LOAD_WARNING = {'data': {'text/html':\n     \"<div style='background-color: #fdd'>\\n\"+\n     \"<p>\\n\"+\n     \"BokehJS does not appear to have successfully loaded. If loading BokehJS from CDN, this \\n\"+\n     \"may be due to a slow or bad network connection. Possible fixes:\\n\"+\n     \"</p>\\n\"+\n     \"<ul>\\n\"+\n     \"<li>re-rerun `output_notebook()` to attempt to load from CDN again, or</li>\\n\"+\n     \"<li>use INLINE resources instead, as so:</li>\\n\"+\n     \"</ul>\\n\"+\n     \"<code>\\n\"+\n     \"from bokeh.resources import INLINE\\n\"+\n     \"output_notebook(resources=INLINE)\\n\"+\n     \"</code>\\n\"+\n     \"</div>\"}};\n\n  function display_loaded() {\n    var el = document.getElementById(\"1001\");\n    if (el != null) {\n      el.textContent = \"BokehJS is loading...\";\n    }\n    if (root.Bokeh !== undefined) {\n      if (el != null) {\n        el.textContent = \"BokehJS \" + root.Bokeh.version + \" successfully loaded.\";\n      }\n    } else if (Date.now() < root._bokeh_timeout) {\n      setTimeout(display_loaded, 100)\n    }\n  }\n\n\n  function run_callbacks() {\n    try {\n      root._bokeh_onload_callbacks.forEach(function(callback) { callback() });\n    }\n    finally {\n      delete root._bokeh_onload_callbacks\n    }\n    console.info(\"Bokeh: all callbacks have finished\");\n  }\n\n  function load_libs(js_urls, callback) {\n    root._bokeh_onload_callbacks.push(callback);\n    if (root._bokeh_is_loading > 0) {\n      console.log(\"Bokeh: BokehJS is being loaded, scheduling callback at\", now());\n      return null;\n    }\n    if (js_urls == null || js_urls.length === 0) {\n      run_callbacks();\n      return null;\n    }\n    console.log(\"Bokeh: BokehJS not loaded, scheduling load and callback at\", now());\n    root._bokeh_is_loading = js_urls.length;\n    for (var i = 0; i < js_urls.length; i++) {\n      var url = js_urls[i];\n      var s = document.createElement('script');\n      s.src = url;\n      s.async = false;\n      s.onreadystatechange = s.onload = function() {\n        root._bokeh_is_loading--;\n        if (root._bokeh_is_loading === 0) {\n          console.log(\"Bokeh: all BokehJS libraries loaded\");\n          run_callbacks()\n        }\n      };\n      s.onerror = function() {\n        console.warn(\"failed to load library \" + url);\n      };\n      console.log(\"Bokeh: injecting script tag for BokehJS library: \", url);\n      document.getElementsByTagName(\"head\")[0].appendChild(s);\n    }\n  };var element = document.getElementById(\"1001\");\n  if (element == null) {\n    console.log(\"Bokeh: ERROR: autoload.js configured with elementid '1001' but no matching script tag was found. \")\n    return false;\n  }\n\n  var js_urls = [\"https://cdn.pydata.org/bokeh/release/bokeh-1.0.4.min.js\", \"https://cdn.pydata.org/bokeh/release/bokeh-widgets-1.0.4.min.js\", \"https://cdn.pydata.org/bokeh/release/bokeh-tables-1.0.4.min.js\", \"https://cdn.pydata.org/bokeh/release/bokeh-gl-1.0.4.min.js\"];\n\n  var inline_js = [\n    function(Bokeh) {\n      Bokeh.set_log_level(\"info\");\n    },\n    \n    function(Bokeh) {\n      \n    },\n    function(Bokeh) {\n      console.log(\"Bokeh: injecting CSS: https://cdn.pydata.org/bokeh/release/bokeh-1.0.4.min.css\");\n      Bokeh.embed.inject_css(\"https://cdn.pydata.org/bokeh/release/bokeh-1.0.4.min.css\");\n      console.log(\"Bokeh: injecting CSS: https://cdn.pydata.org/bokeh/release/bokeh-widgets-1.0.4.min.css\");\n      Bokeh.embed.inject_css(\"https://cdn.pydata.org/bokeh/release/bokeh-widgets-1.0.4.min.css\");\n      console.log(\"Bokeh: injecting CSS: https://cdn.pydata.org/bokeh/release/bokeh-tables-1.0.4.min.css\");\n      Bokeh.embed.inject_css(\"https://cdn.pydata.org/bokeh/release/bokeh-tables-1.0.4.min.css\");\n    }\n  ];\n\n  function run_inline_js() {\n    \n    if ((root.Bokeh !== undefined) || (force === true)) {\n      for (var i = 0; i < inline_js.length; i++) {\n        inline_js[i].call(root, root.Bokeh);\n      }if (force === true) {\n        display_loaded();\n      }} else if (Date.now() < root._bokeh_timeout) {\n      setTimeout(run_inline_js, 100);\n    } else if (!root._bokeh_failed_load) {\n      console.log(\"Bokeh: BokehJS failed to load within specified timeout.\");\n      root._bokeh_failed_load = true;\n    } else if (force !== true) {\n      var cell = $(document.getElementById(\"1001\")).parents('.cell').data().cell;\n      cell.output_area.append_execute_result(NB_LOAD_WARNING)\n    }\n\n  }\n\n  if (root._bokeh_is_loading === 0) {\n    console.log(\"Bokeh: BokehJS loaded, going straight to plotting\");\n    run_inline_js();\n  } else {\n    load_libs(js_urls, function() {\n      console.log(\"Bokeh: BokehJS plotting callback run at\", now());\n      run_inline_js();\n    });\n  }\n}(window));"
          },
          "metadata": {
            "tags": []
          }
        },
        {
          "output_type": "display_data",
          "data": {
            "text/html": [
              "\n",
              "\n",
              "\n",
              "\n",
              "\n",
              "\n",
              "  <div class=\"bk-root\" id=\"6635165a-1f1d-469f-8698-bd8bf227b91a\" data-root-id=\"1003\"></div>\n"
            ]
          },
          "metadata": {
            "tags": []
          }
        },
        {
          "output_type": "display_data",
          "data": {
            "application/javascript": [
              "(function(root) {\n",
              "  function embed_document(root) {\n",
              "    \n",
              "  var docs_json = {\"806202f0-823c-4fc4-b654-e521e1fe2380\":{\"roots\":{\"references\":[{\"attributes\":{\"below\":[{\"id\":\"1012\",\"type\":\"LinearAxis\"}],\"left\":[{\"id\":\"1017\",\"type\":\"LinearAxis\"}],\"renderers\":[{\"id\":\"1012\",\"type\":\"LinearAxis\"},{\"id\":\"1016\",\"type\":\"Grid\"},{\"id\":\"1017\",\"type\":\"LinearAxis\"},{\"id\":\"1021\",\"type\":\"Grid\"},{\"id\":\"1028\",\"type\":\"GlyphRenderer\"}],\"title\":{\"id\":\"1030\",\"type\":\"Title\"},\"toolbar\":{\"id\":\"1022\",\"type\":\"Toolbar\"},\"x_range\":{\"id\":\"1004\",\"type\":\"DataRange1d\"},\"x_scale\":{\"id\":\"1008\",\"type\":\"LinearScale\"},\"y_range\":{\"id\":\"1006\",\"type\":\"DataRange1d\"},\"y_scale\":{\"id\":\"1010\",\"type\":\"LinearScale\"}},\"id\":\"1003\",\"subtype\":\"Figure\",\"type\":\"Plot\"},{\"attributes\":{\"formatter\":{\"id\":\"1034\",\"type\":\"BasicTickFormatter\"},\"plot\":{\"id\":\"1003\",\"subtype\":\"Figure\",\"type\":\"Plot\"},\"ticker\":{\"id\":\"1018\",\"type\":\"BasicTicker\"}},\"id\":\"1017\",\"type\":\"LinearAxis\"},{\"attributes\":{\"callback\":null,\"tooltips\":[[\"country\",\"@country\"]]},\"id\":\"1002\",\"type\":\"HoverTool\"},{\"attributes\":{},\"id\":\"1018\",\"type\":\"BasicTicker\"},{\"attributes\":{\"dimension\":1,\"plot\":{\"id\":\"1003\",\"subtype\":\"Figure\",\"type\":\"Plot\"},\"ticker\":{\"id\":\"1018\",\"type\":\"BasicTicker\"}},\"id\":\"1021\",\"type\":\"Grid\"},{\"attributes\":{\"fill_alpha\":{\"value\":0.1},\"fill_color\":{\"value\":\"#1f77b4\"},\"line_alpha\":{\"value\":0.1},\"line_color\":{\"value\":\"#1f77b4\"},\"size\":{\"units\":\"screen\",\"value\":10},\"x\":{\"field\":\"CO2_emission_1990\"},\"y\":{\"field\":\"CO2_emission_2014\"}},\"id\":\"1027\",\"type\":\"Circle\"},{\"attributes\":{\"plot\":null,\"text\":\"\"},\"id\":\"1030\",\"type\":\"Title\"},{\"attributes\":{\"active_drag\":\"auto\",\"active_inspect\":\"auto\",\"active_multi\":null,\"active_scroll\":\"auto\",\"active_tap\":\"auto\",\"tools\":[{\"id\":\"1002\",\"type\":\"HoverTool\"}]},\"id\":\"1022\",\"type\":\"Toolbar\"},{\"attributes\":{\"data_source\":{\"id\":\"1024\",\"type\":\"ColumnDataSource\"},\"glyph\":{\"id\":\"1026\",\"type\":\"Circle\"},\"hover_glyph\":null,\"muted_glyph\":null,\"nonselection_glyph\":{\"id\":\"1027\",\"type\":\"Circle\"},\"selection_glyph\":null,\"view\":{\"id\":\"1029\",\"type\":\"CDSView\"}},\"id\":\"1028\",\"type\":\"GlyphRenderer\"},{\"attributes\":{\"callback\":null,\"data\":{\"CO2_emission_1990\":{\"__ndarray__\":\"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\",\"dtype\":\"float64\",\"shape\":[264]},\"CO2_emission_2014\":{\"__ndarray__\":\"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\",\"dtype\":\"float64\",\"shape\":[264]},\"country\":[\"Arab World\",\"Caribbean small states\",\"Central Europe and the Baltics\",\"Early-demographic dividend\",\"East Asia & Pacific\",\"East Asia & Pacific (excluding high income)\",\"East Asia & Pacific (IDA & IBRD countries)\",\"Euro area\",\"Europe & Central Asia\",\"Europe & Central Asia (excluding high income)\",\"Europe & Central Asia (IDA & IBRD countries)\",\"European Union\",\"Fragile and conflict affected situations\",\"Heavily indebted poor countries (HIPC)\",\"High income\",\"IBRD only\",\"IDA & IBRD total\",\"IDA blend\",\"IDA only\",\"IDA total\",\"Late-demographic dividend\",\"Latin America & Caribbean\",\"Latin America & Caribbean (excluding high income)\",\"Latin America & the Caribbean (IDA & IBRD countries)\",\"Least developed countries: UN classification\",\"Low & middle income\",\"Low income\",\"Lower middle income\",\"Middle East & North Africa\",\"Middle East & North Africa (excluding high income)\",\"Middle East & North Africa (IDA & IBRD countries)\",\"Middle income\",\"North America\",\"Not classified\",\"OECD members\",\"Other small states\",\"Pacific island small states\",\"Post-demographic dividend\",\"Pre-demographic dividend\",\"Small states\",\"South Asia\",\"South Asia (IDA & IBRD)\",\"Sub-Saharan Africa\",\"Sub-Saharan Africa (excluding high income)\",\"Sub-Saharan Africa (IDA & IBRD countries)\",\"Upper middle income\",\"World\",\"Afghanistan\",\"Albania\",\"Algeria\",\"American Samoa\",\"Andorra\",\"Angola\",\"Antigua and Barbuda\",\"Argentina\",\"Armenia\",\"Aruba\",\"Australia\",\"Austria\",\"Azerbaijan\",\"Bahamas, The\",\"Bahrain\",\"Bangladesh\",\"Barbados\",\"Belarus\",\"Belgium\",\"Belize\",\"Benin\",\"Bermuda\",\"Bhutan\",\"Bolivia\",\"Bosnia and Herzegovina\",\"Botswana\",\"Brazil\",\"British Virgin Islands\",\"Brunei Darussalam\",\"Bulgaria\",\"Burkina Faso\",\"Burundi\",\"Cabo Verde\",\"Cambodia\",\"Cameroon\",\"Canada\",\"Cayman Islands\",\"Central African Republic\",\"Chad\",\"Channel Islands\",\"Chile\",\"China\",\"Colombia\",\"Comoros\",\"Congo, Dem. Rep.\",\"Congo, Rep.\",\"Costa Rica\",\"Cote d'Ivoire\",\"Croatia\",\"Cuba\",\"Curacao\",\"Cyprus\",\"Czech Republic\",\"Denmark\",\"Djibouti\",\"Dominica\",\"Dominican Republic\",\"Ecuador\",\"Egypt, Arab Rep.\",\"El Salvador\",\"Equatorial Guinea\",\"Eritrea\",\"Estonia\",\"Eswatini\",\"Ethiopia\",\"Faroe Islands\",\"Fiji\",\"Finland\",\"France\",\"French Polynesia\",\"Gabon\",\"Gambia, The\",\"Georgia\",\"Germany\",\"Ghana\",\"Gibraltar\",\"Greece\",\"Greenland\",\"Grenada\",\"Guam\",\"Guatemala\",\"Guinea\",\"Guinea-Bissau\",\"Guyana\",\"Haiti\",\"Honduras\",\"Hong Kong SAR, China\",\"Hungary\",\"Iceland\",\"India\",\"Indonesia\",\"Iran, Islamic Rep.\",\"Iraq\",\"Ireland\",\"Isle of Man\",\"Israel\",\"Italy\",\"Jamaica\",\"Japan\",\"Jordan\",\"Kazakhstan\",\"Kenya\",\"Kiribati\",\"Korea, Dem. People\\ufffd\\ufffd\\ufffds Rep.\",\"Korea, Rep.\",\"Kosovo\",\"Kuwait\",\"Kyrgyz Republic\",\"Lao PDR\",\"Latvia\",\"Lebanon\",\"Lesotho\",\"Liberia\",\"Libya\",\"Liechtenstein\",\"Lithuania\",\"Luxembourg\",\"Macao SAR, China\",\"Macedonia, FYR\",\"Madagascar\",\"Malawi\",\"Malaysia\",\"Maldives\",\"Mali\",\"Malta\",\"Marshall Islands\",\"Mauritania\",\"Mauritius\",\"Mexico\",\"Micronesia, Fed. Sts.\",\"Moldova\",\"Monaco\",\"Mongolia\",\"Montenegro\",\"Morocco\",\"Mozambique\",\"Myanmar\",\"Namibia\",\"Nauru\",\"Nepal\",\"Netherlands\",\"New Caledonia\",\"New Zealand\",\"Nicaragua\",\"Niger\",\"Nigeria\",\"Northern Mariana Islands\",\"Norway\",\"Oman\",\"Pakistan\",\"Palau\",\"Panama\",\"Papua New Guinea\",\"Paraguay\",\"Peru\",\"Philippines\",\"Poland\",\"Portugal\",\"Puerto Rico\",\"Qatar\",\"Romania\",\"Russian Federation\",\"Rwanda\",\"Samoa\",\"San Marino\",\"Sao Tome and Principe\",\"Saudi Arabia\",\"Senegal\",\"Serbia\",\"Seychelles\",\"Sierra Leone\",\"Singapore\",\"Sint Maarten (Dutch part)\",\"Slovak Republic\",\"Slovenia\",\"Solomon Islands\",\"Somalia\",\"South Africa\",\"South Sudan\",\"Spain\",\"Sri Lanka\",\"St. Kitts and Nevis\",\"St. Lucia\",\"St. Martin (French part)\",\"St. Vincent and the Grenadines\",\"Sudan\",\"Suriname\",\"Sweden\",\"Switzerland\",\"Syrian Arab Republic\",\"Tajikistan\",\"Tanzania\",\"Thailand\",\"Timor-Leste\",\"Togo\",\"Tonga\",\"Trinidad and Tobago\",\"Tunisia\",\"Turkey\",\"Turkmenistan\",\"Turks and Caicos Islands\",\"Tuvalu\",\"Uganda\",\"Ukraine\",\"United Arab Emirates\",\"United Kingdom\",\"United States\",\"Uruguay\",\"Uzbekistan\",\"Vanuatu\",\"Venezuela, RB\",\"Vietnam\",\"Virgin Islands (U.S.)\",\"West Bank and Gaza\",\"Yemen, Rep.\",\"Zambia\",\"Zimbabwe\"],\"date_1990\":{\"__ndarray__\":\"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\",\"dtype\":\"float64\",\"shape\":[264]},\"date_2014\":{\"__ndarray__\":\"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\",\"dtype\":\"float64\",\"shape\":[264]},\"index\":[0,1,2,3,4,5,6,7,8,9,10,11,12,13,14,15,16,17,18,19,20,21,22,23,24,25,26,27,28,29,30,31,32,33,34,35,36,37,38,39,40,41,42,43,44,45,46,47,48,49,50,51,52,53,54,55,56,57,58,59,60,61,62,63,64,65,66,67,68,69,70,71,72,73,74,75,76,77,78,79,80,81,82,83,84,85,86,87,88,89,90,91,92,93,94,95,96,97,98,99,100,101,102,103,104,105,106,107,108,109,110,111,112,113,114,115,116,117,118,119,120,121,122,123,124,125,126,127,128,129,130,131,132,133,134,135,136,137,138,139,140,141,142,143,144,145,146,147,148,149,150,151,152,153,154,155,156,157,158,159,160,161,162,163,164,165,166,167,168,169,170,171,172,173,174,175,176,177,178,179,180,181,182,183,184,185,186,187,188,189,190,191,192,193,194,195,196,197,198,199,200,201,202,203,204,205,206,207,208,209,210,211,212,213,214,215,216,217,218,219,220,221,222,223,224,225,226,227,228,229,230,231,232,233,234,235,236,237,238,239,240,241,242,243,244,245,246,247,248,249,250,251,252,253,254,255,256,257,258,259,260,261,262,263]},\"selected\":{\"id\":\"1036\",\"type\":\"Selection\"},\"selection_policy\":{\"id\":\"1037\",\"type\":\"UnionRenderers\"}},\"id\":\"1024\",\"type\":\"ColumnDataSource\"},{\"attributes\":{\"callback\":null},\"id\":\"1004\",\"type\":\"DataRange1d\"},{\"attributes\":{\"callback\":null},\"id\":\"1006\",\"type\":\"DataRange1d\"},{\"attributes\":{\"source\":{\"id\":\"1024\",\"type\":\"ColumnDataSource\"}},\"id\":\"1029\",\"type\":\"CDSView\"},{\"attributes\":{},\"id\":\"1008\",\"type\":\"LinearScale\"},{\"attributes\":{\"fill_color\":{\"value\":\"#1f77b4\"},\"line_color\":{\"value\":\"#1f77b4\"},\"size\":{\"units\":\"screen\",\"value\":10},\"x\":{\"field\":\"CO2_emission_1990\"},\"y\":{\"field\":\"CO2_emission_2014\"}},\"id\":\"1026\",\"type\":\"Circle\"},{\"attributes\":{},\"id\":\"1010\",\"type\":\"LinearScale\"},{\"attributes\":{},\"id\":\"1032\",\"type\":\"BasicTickFormatter\"},{\"attributes\":{\"formatter\":{\"id\":\"1032\",\"type\":\"BasicTickFormatter\"},\"plot\":{\"id\":\"1003\",\"subtype\":\"Figure\",\"type\":\"Plot\"},\"ticker\":{\"id\":\"1013\",\"type\":\"BasicTicker\"}},\"id\":\"1012\",\"type\":\"LinearAxis\"},{\"attributes\":{},\"id\":\"1034\",\"type\":\"BasicTickFormatter\"},{\"attributes\":{},\"id\":\"1013\",\"type\":\"BasicTicker\"},{\"attributes\":{},\"id\":\"1036\",\"type\":\"Selection\"},{\"attributes\":{\"plot\":{\"id\":\"1003\",\"subtype\":\"Figure\",\"type\":\"Plot\"},\"ticker\":{\"id\":\"1013\",\"type\":\"BasicTicker\"}},\"id\":\"1016\",\"type\":\"Grid\"},{\"attributes\":{},\"id\":\"1037\",\"type\":\"UnionRenderers\"}],\"root_ids\":[\"1003\"]},\"title\":\"Bokeh Application\",\"version\":\"1.0.4\"}};\n",
              "  var render_items = [{\"docid\":\"806202f0-823c-4fc4-b654-e521e1fe2380\",\"roots\":{\"1003\":\"6635165a-1f1d-469f-8698-bd8bf227b91a\"}}];\n",
              "  root.Bokeh.embed.embed_items_notebook(docs_json, render_items);\n",
              "\n",
              "  }\n",
              "  if (root.Bokeh !== undefined) {\n",
              "    embed_document(root);\n",
              "  } else {\n",
              "    var attempts = 0;\n",
              "    var timer = setInterval(function(root) {\n",
              "      if (root.Bokeh !== undefined) {\n",
              "        embed_document(root);\n",
              "        clearInterval(timer);\n",
              "      }\n",
              "      attempts++;\n",
              "      if (attempts > 100) {\n",
              "        console.log(\"Bokeh: ERROR: Unable to run BokehJS code because BokehJS library is missing\");\n",
              "        clearInterval(timer);\n",
              "      }\n",
              "    }, 10, root)\n",
              "  }\n",
              "})(window);"
            ],
            "application/vnd.bokehjs_exec.v0+json": ""
          },
          "metadata": {
            "tags": [],
            "application/vnd.bokehjs_exec.v0+json": {
              "id": "1003"
            }
          }
        }
      ]
    },
    {
      "metadata": {
        "id": "x-h3vJ8UcxUb",
        "colab_type": "text"
      },
      "cell_type": "markdown",
      "source": [
        "We showed that for the dataset as a whole, CO2 emission rises over time. The quantities have to be interpreted with care, for example in the upper right corner, there is a dot whith enormous CO2 emission. However, this is the CO2 emission level for the world as total. This has to do with the way the dataset of the Worldbank is build, it consists of both countries and groups of countries. "
      ]
    },
    {
      "metadata": {
        "id": "TVlwmO4HHswX",
        "colab_type": "text"
      },
      "cell_type": "markdown",
      "source": [
        "To be able to make a prediction with regard to the climate accord, and to solve for the earlier mentioned difficulties with the dataset, we now isolate the variabele for the European Union. To meet our [research question](https://colab.research.google.com/drive/133wjBNYuZQkdMoPheY4JGEmMivVX3ktp#scrollTo=O6MUvjIMJqGR), we must check whether the emission level of 2030 will be 40 percent lower as compared to 1990. \n",
        "First, we start with selecting the data for the European Union and display the first and last 10 rows. "
      ]
    },
    {
      "metadata": {
        "id": "-Pqd-fCAnM4z",
        "colab_type": "code",
        "colab": {}
      },
      "cell_type": "code",
      "source": [
        "indicators={\"EN.ATM.CO2E.KT\":\"CO2_emission\"}\n",
        "countries=[\"EUU\"]\n",
        "df_wb_1=wb.get_dataframe(indicators, country=countries, convert_date=True)"
      ],
      "execution_count": 0,
      "outputs": []
    },
    {
      "metadata": {
        "id": "3pUZklybn4-e",
        "colab_type": "code",
        "outputId": "206e9390-364d-477e-dea6-9786bb293ea6",
        "colab": {
          "base_uri": "https://localhost:8080/",
          "height": 386
        }
      },
      "cell_type": "code",
      "source": [
        "df_wb_1.head(10)"
      ],
      "execution_count": 13,
      "outputs": [
        {
          "output_type": "execute_result",
          "data": {
            "text/html": [
              "<div>\n",
              "<style scoped>\n",
              "    .dataframe tbody tr th:only-of-type {\n",
              "        vertical-align: middle;\n",
              "    }\n",
              "\n",
              "    .dataframe tbody tr th {\n",
              "        vertical-align: top;\n",
              "    }\n",
              "\n",
              "    .dataframe thead th {\n",
              "        text-align: right;\n",
              "    }\n",
              "</style>\n",
              "<table border=\"1\" class=\"dataframe\">\n",
              "  <thead>\n",
              "    <tr style=\"text-align: right;\">\n",
              "      <th></th>\n",
              "      <th>CO2_emission</th>\n",
              "    </tr>\n",
              "    <tr>\n",
              "      <th>date</th>\n",
              "      <th></th>\n",
              "    </tr>\n",
              "  </thead>\n",
              "  <tbody>\n",
              "    <tr>\n",
              "      <th>2017-01-01</th>\n",
              "      <td>NaN</td>\n",
              "    </tr>\n",
              "    <tr>\n",
              "      <th>2016-01-01</th>\n",
              "      <td>NaN</td>\n",
              "    </tr>\n",
              "    <tr>\n",
              "      <th>2015-01-01</th>\n",
              "      <td>NaN</td>\n",
              "    </tr>\n",
              "    <tr>\n",
              "      <th>2014-01-01</th>\n",
              "      <td>3241844.353</td>\n",
              "    </tr>\n",
              "    <tr>\n",
              "      <th>2013-01-01</th>\n",
              "      <td>3421472.348</td>\n",
              "    </tr>\n",
              "    <tr>\n",
              "      <th>2012-01-01</th>\n",
              "      <td>3494155.955</td>\n",
              "    </tr>\n",
              "    <tr>\n",
              "      <th>2011-01-01</th>\n",
              "      <td>3568090.009</td>\n",
              "    </tr>\n",
              "    <tr>\n",
              "      <th>2010-01-01</th>\n",
              "      <td>3709775.555</td>\n",
              "    </tr>\n",
              "    <tr>\n",
              "      <th>2009-01-01</th>\n",
              "      <td>3601566.052</td>\n",
              "    </tr>\n",
              "    <tr>\n",
              "      <th>2008-01-01</th>\n",
              "      <td>3915303.571</td>\n",
              "    </tr>\n",
              "  </tbody>\n",
              "</table>\n",
              "</div>"
            ],
            "text/plain": [
              "            CO2_emission\n",
              "date                    \n",
              "2017-01-01           NaN\n",
              "2016-01-01           NaN\n",
              "2015-01-01           NaN\n",
              "2014-01-01   3241844.353\n",
              "2013-01-01   3421472.348\n",
              "2012-01-01   3494155.955\n",
              "2011-01-01   3568090.009\n",
              "2010-01-01   3709775.555\n",
              "2009-01-01   3601566.052\n",
              "2008-01-01   3915303.571"
            ]
          },
          "metadata": {
            "tags": []
          },
          "execution_count": 13
        }
      ]
    },
    {
      "metadata": {
        "id": "AbbeGHF17xX1",
        "colab_type": "code",
        "outputId": "fbbf3091-6767-4285-a164-8447acf51153",
        "colab": {
          "base_uri": "https://localhost:8080/",
          "height": 386
        }
      },
      "cell_type": "code",
      "source": [
        "df_wb_1.tail(10)"
      ],
      "execution_count": 14,
      "outputs": [
        {
          "output_type": "execute_result",
          "data": {
            "text/html": [
              "<div>\n",
              "<style scoped>\n",
              "    .dataframe tbody tr th:only-of-type {\n",
              "        vertical-align: middle;\n",
              "    }\n",
              "\n",
              "    .dataframe tbody tr th {\n",
              "        vertical-align: top;\n",
              "    }\n",
              "\n",
              "    .dataframe thead th {\n",
              "        text-align: right;\n",
              "    }\n",
              "</style>\n",
              "<table border=\"1\" class=\"dataframe\">\n",
              "  <thead>\n",
              "    <tr style=\"text-align: right;\">\n",
              "      <th></th>\n",
              "      <th>CO2_emission</th>\n",
              "    </tr>\n",
              "    <tr>\n",
              "      <th>date</th>\n",
              "      <th></th>\n",
              "    </tr>\n",
              "  </thead>\n",
              "  <tbody>\n",
              "    <tr>\n",
              "      <th>1969-01-01</th>\n",
              "      <td>3.520601e+06</td>\n",
              "    </tr>\n",
              "    <tr>\n",
              "      <th>1968-01-01</th>\n",
              "      <td>3.317199e+06</td>\n",
              "    </tr>\n",
              "    <tr>\n",
              "      <th>1967-01-01</th>\n",
              "      <td>3.135495e+06</td>\n",
              "    </tr>\n",
              "    <tr>\n",
              "      <th>1966-01-01</th>\n",
              "      <td>3.066068e+06</td>\n",
              "    </tr>\n",
              "    <tr>\n",
              "      <th>1965-01-01</th>\n",
              "      <td>2.977006e+06</td>\n",
              "    </tr>\n",
              "    <tr>\n",
              "      <th>1964-01-01</th>\n",
              "      <td>2.879590e+06</td>\n",
              "    </tr>\n",
              "    <tr>\n",
              "      <th>1963-01-01</th>\n",
              "      <td>2.763661e+06</td>\n",
              "    </tr>\n",
              "    <tr>\n",
              "      <th>1962-01-01</th>\n",
              "      <td>2.587256e+06</td>\n",
              "    </tr>\n",
              "    <tr>\n",
              "      <th>1961-01-01</th>\n",
              "      <td>2.445946e+06</td>\n",
              "    </tr>\n",
              "    <tr>\n",
              "      <th>1960-01-01</th>\n",
              "      <td>2.359595e+06</td>\n",
              "    </tr>\n",
              "  </tbody>\n",
              "</table>\n",
              "</div>"
            ],
            "text/plain": [
              "            CO2_emission\n",
              "date                    \n",
              "1969-01-01  3.520601e+06\n",
              "1968-01-01  3.317199e+06\n",
              "1967-01-01  3.135495e+06\n",
              "1966-01-01  3.066068e+06\n",
              "1965-01-01  2.977006e+06\n",
              "1964-01-01  2.879590e+06\n",
              "1963-01-01  2.763661e+06\n",
              "1962-01-01  2.587256e+06\n",
              "1961-01-01  2.445946e+06\n",
              "1960-01-01  2.359595e+06"
            ]
          },
          "metadata": {
            "tags": []
          },
          "execution_count": 14
        }
      ]
    },
    {
      "metadata": {
        "id": "UpU8r-1XoR81",
        "colab_type": "code",
        "outputId": "2b79f7d7-56dd-4b86-99b2-048534cfe8e9",
        "colab": {
          "base_uri": "https://localhost:8080/",
          "height": 379
        }
      },
      "cell_type": "code",
      "source": [
        "df_wb_1.plot()\n",
        "plt.ylabel('CO2 emission European Union in kiloton')\n",
        "plt.xlabel('year')"
      ],
      "execution_count": 15,
      "outputs": [
        {
          "output_type": "execute_result",
          "data": {
            "text/plain": [
              "Text(0.5, 0, 'year')"
            ]
          },
          "metadata": {
            "tags": []
          },
          "execution_count": 15
        },
        {
          "output_type": "display_data",
          "data": {
            "image/png": "[encoded data removed]",
            "text/plain": [
              "<Figure size 576x396 with 1 Axes>"
            ]
          },
          "metadata": {
            "tags": []
          }
        }
      ]
    },
    {
      "metadata": {
        "id": "TxKj1IVTplDY",
        "colab_type": "text"
      },
      "cell_type": "markdown",
      "source": [
        "By looking at this graph, in contrast to the worldwide data, the CO2 emission level at the EU level is already falling. now we are going to predict whether the target will be reached. The decrease in CO2 emissions in the EU over the last decades can be explained by the fact that the Europe is a relatively high developed continent, compared to other continents like Africa or Asia. As a high developed continent, Europe has a large service sector and a small industrial sector. In contrast, developing continents like Asia still have a large industrial sector, which explains why CO2 emission levels are higher.  **Misschien kunnen we hier iets toevoegen dat wereld niveau alleen een gemiddelde is en dat EU niet de meest vervuilende industriële landen bevat maar meer de service sector omvat**"
      ]
    },
    {
      "metadata": {
        "id": "LKF3zkXFNDle",
        "colab_type": "text"
      },
      "cell_type": "markdown",
      "source": [
        "**Prediction**"
      ]
    },
    {
      "metadata": {
        "id": "14KGAlBuCVty",
        "colab_type": "text"
      },
      "cell_type": "markdown",
      "source": [
        "We are going the predict the EU wide level of CO2 emission. We start we a naive prediction inspired by an [example](https://machinelearningmastery.com/time-series-forecast-study-python-monthly-sales-french-champagne/) about predicting the level of sales of champagne."
      ]
    },
    {
      "metadata": {
        "id": "NZ1seI4C74ZB",
        "colab_type": "code",
        "colab": {}
      },
      "cell_type": "code",
      "source": [
        "import scipy as sc\n",
        "import sklearn as sk\n",
        "import statsmodels as st"
      ],
      "execution_count": 0,
      "outputs": []
    },
    {
      "metadata": {
        "id": "kWJQ0olOpGCP",
        "colab_type": "text"
      },
      "cell_type": "markdown",
      "source": [
        "The dataset needs to be adapted, it consists of empty cells for the period 2015-2017. This is solved by dropping the first three rows of the dataset."
      ]
    },
    {
      "metadata": {
        "id": "jFurE_zVFJvU",
        "colab_type": "code",
        "colab": {}
      },
      "cell_type": "code",
      "source": [
        "df_wb_1.drop(df_wb_1.index[:3], inplace=True)"
      ],
      "execution_count": 0,
      "outputs": []
    },
    {
      "metadata": {
        "id": "0zyv-EC7GyXo",
        "colab_type": "code",
        "outputId": "388b498f-d170-4d2a-9f6a-92928ac2d6ed",
        "colab": {
          "base_uri": "https://localhost:8080/",
          "height": 386
        }
      },
      "cell_type": "code",
      "source": [
        "df_wb_1.head(10)"
      ],
      "execution_count": 18,
      "outputs": [
        {
          "output_type": "execute_result",
          "data": {
            "text/html": [
              "<div>\n",
              "<style scoped>\n",
              "    .dataframe tbody tr th:only-of-type {\n",
              "        vertical-align: middle;\n",
              "    }\n",
              "\n",
              "    .dataframe tbody tr th {\n",
              "        vertical-align: top;\n",
              "    }\n",
              "\n",
              "    .dataframe thead th {\n",
              "        text-align: right;\n",
              "    }\n",
              "</style>\n",
              "<table border=\"1\" class=\"dataframe\">\n",
              "  <thead>\n",
              "    <tr style=\"text-align: right;\">\n",
              "      <th></th>\n",
              "      <th>CO2_emission</th>\n",
              "    </tr>\n",
              "    <tr>\n",
              "      <th>date</th>\n",
              "      <th></th>\n",
              "    </tr>\n",
              "  </thead>\n",
              "  <tbody>\n",
              "    <tr>\n",
              "      <th>2014-01-01</th>\n",
              "      <td>3241844.353</td>\n",
              "    </tr>\n",
              "    <tr>\n",
              "      <th>2013-01-01</th>\n",
              "      <td>3421472.348</td>\n",
              "    </tr>\n",
              "    <tr>\n",
              "      <th>2012-01-01</th>\n",
              "      <td>3494155.955</td>\n",
              "    </tr>\n",
              "    <tr>\n",
              "      <th>2011-01-01</th>\n",
              "      <td>3568090.009</td>\n",
              "    </tr>\n",
              "    <tr>\n",
              "      <th>2010-01-01</th>\n",
              "      <td>3709775.555</td>\n",
              "    </tr>\n",
              "    <tr>\n",
              "      <th>2009-01-01</th>\n",
              "      <td>3601566.052</td>\n",
              "    </tr>\n",
              "    <tr>\n",
              "      <th>2008-01-01</th>\n",
              "      <td>3915303.571</td>\n",
              "    </tr>\n",
              "    <tr>\n",
              "      <th>2007-01-01</th>\n",
              "      <td>4003410.580</td>\n",
              "    </tr>\n",
              "    <tr>\n",
              "      <th>2006-01-01</th>\n",
              "      <td>4071767.127</td>\n",
              "    </tr>\n",
              "    <tr>\n",
              "      <th>2005-01-01</th>\n",
              "      <td>4039746.883</td>\n",
              "    </tr>\n",
              "  </tbody>\n",
              "</table>\n",
              "</div>"
            ],
            "text/plain": [
              "            CO2_emission\n",
              "date                    \n",
              "2014-01-01   3241844.353\n",
              "2013-01-01   3421472.348\n",
              "2012-01-01   3494155.955\n",
              "2011-01-01   3568090.009\n",
              "2010-01-01   3709775.555\n",
              "2009-01-01   3601566.052\n",
              "2008-01-01   3915303.571\n",
              "2007-01-01   4003410.580\n",
              "2006-01-01   4071767.127\n",
              "2005-01-01   4039746.883"
            ]
          },
          "metadata": {
            "tags": []
          },
          "execution_count": 18
        }
      ]
    },
    {
      "metadata": {
        "id": "pK-m8dPRIjiN",
        "colab_type": "text"
      },
      "cell_type": "markdown",
      "source": [
        "*Naive prediction*\n",
        "\n",
        "Next, we start with preparing the dataset for the naive forecast. The naive forecast is a baseline prediction with which more elaborate predictions are compared with. This naive way of predicting uses the data of t-1 for the prediction of t+1 and predicts the average outcome. **Dit moet nog verder uitgelegd worden, deel staat in het voorbeeld van de champagne. Maar de data voorbereiding komt er op neer dat je de data verdeeld in een train set en een test set**"
      ]
    },
    {
      "metadata": {
        "id": "uC7e_zkVIg8i",
        "colab_type": "code",
        "colab": {}
      },
      "cell_type": "code",
      "source": [
        "from sklearn.metrics import mean_squared_error\n",
        "from math import sqrt\n",
        "\n",
        "\n",
        "X = df_wb_1.values\n",
        "X = X.astype('float32')\n",
        "train_size = int(len(X) * 0.50)\n",
        "train, test = X[0:train_size], X[train_size:]"
      ],
      "execution_count": 0,
      "outputs": []
    },
    {
      "metadata": {
        "id": "rUkSn6ufljSN",
        "colab_type": "text"
      },
      "cell_type": "markdown",
      "source": [
        "Now, we run a naive forecast, where the observation of the previous period is used for prediction in the next period. "
      ]
    },
    {
      "metadata": {
        "id": "m_ZMzAITHnQ9",
        "colab_type": "code",
        "outputId": "e1d93463-0cff-4249-aeb4-da057ac047c7",
        "colab": {
          "base_uri": "https://localhost:8080/",
          "height": 520
        }
      },
      "cell_type": "code",
      "source": [
        "from sklearn.metrics import mean_squared_error\n",
        "from math import sqrt\n",
        "\n",
        "\n",
        "X = df_wb_1.values\n",
        "X = X.astype('float32')\n",
        "train_size = int(len(X) * 0.50)\n",
        "train, test = X[0:train_size], X[train_size:]\n",
        "\n",
        "history = [x for x in train]\n",
        "predictions = list()\n",
        "for i in range(len(test)):\n",
        "\t\n",
        "\tyhat = history[-1]\n",
        "\tpredictions.append(yhat)\n",
        "\t\n",
        "\tobs = test[i]\n",
        "\thistory.append(obs)\n",
        "\tprint('>Predicted=%.3f, Expected=%3.f' % (yhat, obs))\n",
        "\n",
        "mse = mean_squared_error(test, predictions)\n",
        "rmse = sqrt(mse)\n",
        "print('RMSE: %.3f' % rmse)"
      ],
      "execution_count": 20,
      "outputs": [
        {
          "output_type": "stream",
          "text": [
            ">Predicted=4202996.500, Expected=4258990\n",
            ">Predicted=4258990.000, Expected=4179574\n",
            ">Predicted=4179574.000, Expected=4189512\n",
            ">Predicted=4189511.500, Expected=4084429\n",
            ">Predicted=4084428.750, Expected=4111986\n",
            ">Predicted=4111986.250, Expected=4171917\n",
            ">Predicted=4171917.000, Expected=4266013\n",
            ">Predicted=4266013.000, Expected=4518359\n",
            ">Predicted=4518359.000, Expected=4647644\n",
            ">Predicted=4647644.000, Expected=4457561\n",
            ">Predicted=4457561.000, Expected=4315908\n",
            ">Predicted=4315908.000, Expected=4331570\n",
            ">Predicted=4331569.500, Expected=4065318\n",
            ">Predicted=4065317.500, Expected=4142868\n",
            ">Predicted=4142868.500, Expected=4203896\n",
            ">Predicted=4203895.500, Expected=3999496\n",
            ">Predicted=3999496.000, Expected=3846742\n",
            ">Predicted=3846742.000, Expected=3753441\n",
            ">Predicted=3753440.750, Expected=3520601\n",
            ">Predicted=3520600.750, Expected=3317199\n",
            ">Predicted=3317198.750, Expected=3135495\n",
            ">Predicted=3135494.750, Expected=3066068\n",
            ">Predicted=3066068.250, Expected=2977006\n",
            ">Predicted=2977005.750, Expected=2879590\n",
            ">Predicted=2879590.500, Expected=2763661\n",
            ">Predicted=2763661.250, Expected=2587256\n",
            ">Predicted=2587256.000, Expected=2445946\n",
            ">Predicted=2445945.750, Expected=2359595\n",
            "RMSE: 139885.056\n"
          ],
          "name": "stdout"
        }
      ]
    },
    {
      "metadata": {
        "id": "AjaIcYa6Oiss",
        "colab_type": "text"
      },
      "cell_type": "markdown",
      "source": [
        "The RMSE has a value of 139885.056, which means the model was wrong 139885.056 kilo ton CO2 emission in each prediction. "
      ]
    },
    {
      "metadata": {
        "id": "r2fSXzNcmT_m",
        "colab_type": "text"
      },
      "cell_type": "markdown",
      "source": [
        "\n",
        "\n",
        "\n",
        "\n",
        "*ARIMA prediction*\n",
        "\n",
        "Now, we will use another [example](https://towardsdatascience.com/an-end-to-end-project-on-time-series-analysis-and-forecasting-with-python-4835e6bf050b) to perform a less naive way of forcasting, ARIMA. This is a way of forecasting which controls for seasonality, noise and trend in data. However, since we work with yearly data, it is expected that the roll of this factors is not that big. \n",
        "\n",
        "**Meer uitleg over ARIMA hier.** Bijvoorbeeld dat je seasonal en niet seasonal variant hebt, gebruiken nu seasonal. Zie deze link https://www.digitalocean.com/community/tutorials/a-guide-to-time-series-forecasting-with-arima-in-python-3 \n",
        "\n",
        "We start with finding the optimal set of parameters for our model. "
      ]
    },
    {
      "metadata": {
        "id": "reLIxZdgPjXe",
        "colab_type": "code",
        "outputId": "ce5592e0-c64a-42ab-f22f-43beb4918a70",
        "colab": {
          "base_uri": "https://localhost:8080/",
          "height": 72
        }
      },
      "cell_type": "code",
      "source": [
        "import warnings\n",
        "import itertools\n",
        "import statsmodels.api as sm\n",
        "warnings.filterwarnings(\"ignore\")\n",
        "plt.style.use('fivethirtyeight')\n",
        "\n"
      ],
      "execution_count": 21,
      "outputs": [
        {
          "output_type": "stream",
          "text": [
            "/usr/local/lib/python3.6/dist-packages/statsmodels/compat/pandas.py:56: FutureWarning: The pandas.core.datetools module is deprecated and will be removed in a future version. Please use the pandas.tseries module instead.\n",
            "  from pandas.core import datetools\n"
          ],
          "name": "stderr"
        }
      ]
    },
    {
      "metadata": {
        "id": "iZ3cL5aOPMXC",
        "colab_type": "code",
        "outputId": "b062a280-8d1e-4b05-e66e-4c40d021c1e8",
        "colab": {
          "base_uri": "https://localhost:8080/",
          "height": 1057
        }
      },
      "cell_type": "code",
      "source": [
        "p = d = q = range(0, 2)\n",
        "pdq = list(itertools.product(p, d, q))\n",
        "seasonal_pdq = [(x[0], x[1], x[2], 12) for x in list(itertools.product(p, d, q))]\n",
        "\n",
        "for param in pdq:\n",
        "    for param_seasonal in seasonal_pdq:\n",
        "        try:\n",
        "            mod = sm.tsa.statespace.SARIMAX(df_wb_1,\n",
        "                                            order=param,\n",
        "                                            seasonal_order=param_seasonal,\n",
        "                                            enforce_stationarity=False,\n",
        "                                            enforce_invertibility=False)\n",
        "\n",
        "            results = mod.fit()\n",
        "\n",
        "            print('ARIMA{}x{}12 - AIC:{}'.format(param, param_seasonal, results.aic))\n",
        "        except:\n",
        "            continue\n",
        "\n",
        "\n",
        "\n",
        "\n"
      ],
      "execution_count": 22,
      "outputs": [
        {
          "output_type": "stream",
          "text": [
            "ARIMA(0, 0, 0)x(0, 0, 1, 12)12 - AIC:1362.2344142947532\n",
            "ARIMA(0, 0, 0)x(0, 1, 1, 12)12 - AIC:2923.1529269386456\n",
            "ARIMA(0, 0, 0)x(1, 0, 0, 12)12 - AIC:1283.0118241730431\n",
            "ARIMA(0, 0, 0)x(1, 0, 1, 12)12 - AIC:1251.3170481866048\n",
            "ARIMA(0, 0, 0)x(1, 1, 0, 12)12 - AIC:936.2275792940903\n",
            "ARIMA(0, 0, 0)x(1, 1, 1, 12)12 - AIC:2925.4184337206984\n",
            "ARIMA(0, 0, 1)x(0, 0, 0, 12)12 - AIC:1724.4881648172227\n",
            "ARIMA(0, 0, 1)x(0, 0, 1, 12)12 - AIC:1329.3813120240857\n",
            "ARIMA(0, 0, 1)x(0, 1, 0, 12)12 - AIC:1202.2371281742026\n",
            "ARIMA(0, 0, 1)x(0, 1, 1, 12)12 - AIC:2922.4446583425865\n",
            "ARIMA(0, 0, 1)x(1, 0, 0, 12)12 - AIC:1390.4749127645719\n",
            "ARIMA(0, 0, 1)x(1, 0, 1, 12)12 - AIC:1327.9530775585313\n",
            "ARIMA(0, 0, 1)x(1, 1, 0, 12)12 - AIC:941.0967126985146\n",
            "ARIMA(0, 0, 1)x(1, 1, 1, 12)12 - AIC:2819.305710555847\n",
            "ARIMA(0, 1, 0)x(0, 0, 1, 12)12 - AIC:1085.4689112651556\n",
            "ARIMA(0, 1, 0)x(0, 1, 1, 12)12 - AIC:2674.2426922494105\n",
            "ARIMA(0, 1, 0)x(1, 0, 0, 12)12 - AIC:1109.7295104449195\n",
            "ARIMA(0, 1, 0)x(1, 0, 1, 12)12 - AIC:1087.3876025850268\n",
            "ARIMA(0, 1, 0)x(1, 1, 0, 12)12 - AIC:812.1168623086726\n",
            "ARIMA(0, 1, 0)x(1, 1, 1, 12)12 - AIC:798.4419542735201\n",
            "ARIMA(0, 1, 1)x(0, 0, 0, 12)12 - AIC:1370.2928775424305\n",
            "ARIMA(0, 1, 1)x(0, 0, 1, 12)12 - AIC:1057.048781501769\n",
            "ARIMA(0, 1, 1)x(0, 1, 0, 12)12 - AIC:1084.2153745034313\n",
            "ARIMA(0, 1, 1)x(0, 1, 1, 12)12 - AIC:2590.1492856819414\n",
            "ARIMA(0, 1, 1)x(1, 0, 0, 12)12 - AIC:1108.2635937508544\n",
            "ARIMA(0, 1, 1)x(1, 0, 1, 12)12 - AIC:1059.044530201852\n",
            "ARIMA(0, 1, 1)x(1, 1, 0, 12)12 - AIC:814.2719209566072\n",
            "ARIMA(0, 1, 1)x(1, 1, 1, 12)12 - AIC:762.3027923334173\n",
            "ARIMA(1, 0, 0)x(0, 0, 0, 12)12 - AIC:1425.2488334481243\n",
            "ARIMA(1, 0, 0)x(0, 0, 1, 12)12 - AIC:1108.8975506933016\n",
            "ARIMA(1, 0, 0)x(0, 1, 0, 12)12 - AIC:1139.1228208972534\n",
            "ARIMA(1, 0, 0)x(0, 1, 1, 12)12 - AIC:2831.9212310784983\n",
            "ARIMA(1, 0, 0)x(1, 0, 0, 12)12 - AIC:1108.9003924493963\n",
            "ARIMA(1, 0, 0)x(1, 0, 1, 12)12 - AIC:1110.887148019631\n",
            "ARIMA(1, 0, 0)x(1, 1, 0, 12)12 - AIC:813.0394560750407\n",
            "ARIMA(1, 0, 0)x(1, 1, 1, 12)12 - AIC:2834.178777411163\n",
            "ARIMA(1, 0, 1)x(0, 0, 0, 12)12 - AIC:1396.8058938223642\n",
            "ARIMA(1, 0, 1)x(0, 0, 1, 12)12 - AIC:1082.6345926353322\n",
            "ARIMA(1, 0, 1)x(0, 1, 0, 12)12 - AIC:1113.2783599957656\n",
            "ARIMA(1, 0, 1)x(0, 1, 1, 12)12 - AIC:2739.7035322365623\n",
            "ARIMA(1, 0, 1)x(1, 0, 0, 12)12 - AIC:1107.9707665826104\n",
            "ARIMA(1, 0, 1)x(1, 0, 1, 12)12 - AIC:1084.5943549568776\n",
            "ARIMA(1, 0, 1)x(1, 1, 0, 12)12 - AIC:815.0275466631863\n",
            "ARIMA(1, 0, 1)x(1, 1, 1, 12)12 - AIC:2741.9524936914745\n",
            "ARIMA(1, 1, 0)x(0, 0, 0, 12)12 - AIC:1393.9765556560496\n",
            "ARIMA(1, 1, 0)x(0, 0, 1, 12)12 - AIC:1081.1189811172428\n",
            "ARIMA(1, 1, 0)x(0, 1, 0, 12)12 - AIC:1110.0777727409134\n",
            "ARIMA(1, 1, 0)x(0, 1, 1, 12)12 - AIC:2680.3137060380573\n",
            "ARIMA(1, 1, 0)x(1, 0, 0, 12)12 - AIC:1081.14007054411\n",
            "ARIMA(1, 1, 0)x(1, 0, 1, 12)12 - AIC:1083.1175510704586\n",
            "ARIMA(1, 1, 0)x(1, 1, 0, 12)12 - AIC:786.3521806735605\n",
            "ARIMA(1, 1, 0)x(1, 1, 1, 12)12 - AIC:788.2649523582136\n",
            "ARIMA(1, 1, 1)x(0, 0, 0, 12)12 - AIC:1367.569428577461\n",
            "ARIMA(1, 1, 1)x(0, 0, 1, 12)12 - AIC:1052.8875924129563\n",
            "ARIMA(1, 1, 1)x(0, 1, 0, 12)12 - AIC:1084.9804137360534\n",
            "ARIMA(1, 1, 1)x(0, 1, 1, 12)12 - AIC:2591.525844699523\n",
            "ARIMA(1, 1, 1)x(1, 0, 0, 12)12 - AIC:1079.1202674817825\n",
            "ARIMA(1, 1, 1)x(1, 0, 1, 12)12 - AIC:1054.601620886623\n",
            "ARIMA(1, 1, 1)x(1, 1, 0, 12)12 - AIC:784.9197517709299\n",
            "ARIMA(1, 1, 1)x(1, 1, 1, 12)12 - AIC:761.2893521732979\n"
          ],
          "name": "stdout"
        }
      ]
    },
    {
      "metadata": {
        "id": "Tp1ydtsAo1PK",
        "colab_type": "text"
      },
      "cell_type": "markdown",
      "source": [
        "The optimal ARIMA is the ARIMA with the lowest AIC value. Looking at the results, ARIMA(1, 1, 1)x(1, 1, 1, 12)12 has the lowest AIC value, namely 761.289...      \n",
        "Optimal -> laagste AIC waarde. **Volgens mij is dat 761,28.... maar heb ff snel gekeken en die hieronder daar op aangepast** optimal parameters, will be fitted into the model. "
      ]
    },
    {
      "metadata": {
        "id": "qF_MYBMutdwK",
        "colab_type": "code",
        "outputId": "b181a1b4-c635-477f-b390-2008eed3a2f8",
        "colab": {
          "base_uri": "https://localhost:8080/",
          "height": 173
        }
      },
      "cell_type": "code",
      "source": [
        "mod = sm.tsa.statespace.SARIMAX(df_wb_1,\n",
        "                                order=(1, 1, 1),\n",
        "                                seasonal_order=(1, 1, 1, 12),\n",
        "                                enforce_stationarity=False,\n",
        "                                enforce_invertibility=False)\n",
        "results = mod.fit()\n",
        "print(results.summary().tables[1])"
      ],
      "execution_count": 23,
      "outputs": [
        {
          "output_type": "stream",
          "text": [
            "==============================================================================\n",
            "                 coef    std err          z      P>|z|      [0.025      0.975]\n",
            "------------------------------------------------------------------------------\n",
            "ar.L1          0.8640      0.216      4.004      0.000       0.441       1.287\n",
            "ma.L1         -0.7030      0.337     -2.084      0.037      -1.364      -0.042\n",
            "ar.S.L12      -0.6928      0.297     -2.330      0.020      -1.276      -0.110\n",
            "ma.S.L12       0.0562      0.207      0.272      0.786      -0.349       0.461\n",
            "sigma2      3.205e+10   2.94e-12   1.09e+22      0.000    3.21e+10    3.21e+10\n",
            "==============================================================================\n"
          ],
          "name": "stdout"
        }
      ]
    },
    {
      "metadata": {
        "id": "IYOpDRBPIRC_",
        "colab_type": "code",
        "outputId": "3c2b16d8-6374-4be6-f1b8-5ab74540edca",
        "colab": {
          "base_uri": "https://localhost:8080/",
          "height": 671
        }
      },
      "cell_type": "code",
      "source": [
        "results.plot_diagnostics(figsize=(10, 10))\n",
        "plt.show()"
      ],
      "execution_count": 24,
      "outputs": [
        {
          "output_type": "display_data",
          "data": {
            "image/png": "[encoded data removed]",
            "text/plain": [
              "<Figure size 720x720 with 4 Axes>"
            ]
          },
          "metadata": {
            "tags": []
          }
        }
      ]
    },
    {
      "metadata": {
        "id": "WsRIyG0JIYeB",
        "colab_type": "text"
      },
      "cell_type": "markdown",
      "source": [
        "Looking at the results presented in the graphs above, we can see that the model residuals are relatively similar to a normal distribution. However, the graph in the up right shows that our model residuals are a little bit skewed to the right.\n",
        "\n",
        "Moet een normale verdeling zijn met mean 0 en st dev 1., tabel rechts boven. Is niet helemaal, beetje skewed nog naar rechts. \n",
        "\n",
        "Mogelijk nog iets zeggen over tabel hierboven."
      ]
    },
    {
      "metadata": {
        "id": "GOM8aiUm6Kc7",
        "colab_type": "text"
      },
      "cell_type": "markdown",
      "source": [
        "To validate our model, we have to split our dataset into two groups to check whether we have a good prediction model. If we look back to the [first rows of our EU dataset](https://colab.research.google.com/drive/133wjBNYuZQkdMoPheY4JGEmMivVX3ktp#scrollTo=3pUZklybn4-e), we can see data is available until 2014. The [first data](https://colab.research.google.com/drive/133wjBNYuZQkdMoPheY4JGEmMivVX3ktp#scrollTo=AbbeGHF17xX1) is available in 1960. Given this, we use the period 1960-1999 as dataset to develop the model, and we use 2010-2014 to validate it.\n"
      ]
    },
    {
      "metadata": {
        "id": "fFdJF0k1-E-B",
        "colab_type": "code",
        "outputId": "844be619-6171-421c-b347-45adf52a21ee",
        "colab": {
          "base_uri": "https://localhost:8080/",
          "height": 35
        }
      },
      "cell_type": "code",
      "source": [
        "split_point = len(df_wb_1) - 5\n",
        "dataset, validation = df_wb_1[0:split_point], df_wb_1[split_point:]\n",
        "print('Dataset %d, Validation %d' % (len(dataset), len(validation)))\n",
        "dataset.to_csv('dataset.csv')\n",
        "validation.to_csv('validation.csv')"
      ],
      "execution_count": 25,
      "outputs": [
        {
          "output_type": "stream",
          "text": [
            "Dataset 50, Validation 5\n"
          ],
          "name": "stdout"
        }
      ]
    },
    {
      "metadata": {
        "id": "lHrp97GkRwKE",
        "colab_type": "text"
      },
      "cell_type": "markdown",
      "source": [
        "**Starten met voorspellen in 2010, daar heb je ook nog gemeten data van dus aan de hand van periode 2010-2014 zie je eigenlijk hoe goed model is. **"
      ]
    },
    {
      "metadata": {
        "id": "XdhJroaFvjXW",
        "colab_type": "code",
        "outputId": "ae556a42-71ee-4792-980c-05f30fd9b8f5",
        "colab": {
          "base_uri": "https://localhost:8080/",
          "height": 1295
        }
      },
      "cell_type": "code",
      "source": [
        "pred = results.get_prediction(start=pd.to_datetime('2010-01-01'), dynamic=False)\n",
        "pred_ci = pred.conf_int()\n",
        "\n",
        "ax = df_wb_1['1960':].plot(label='observed')\n",
        "pred.predicted_mean.plot(ax=ax, label='One-step ahead Forecast', alpha=.7, figsize=(14, 7))\n",
        "ax.fill_between(pred_ci.index,\n",
        "                pred_ci.iloc[:, 0],\n",
        "                pred_ci.iloc[:, 1], color='k', alpha=.2)\n",
        "\n",
        "ax.set_xlabel('Year')\n",
        "ax.set_ylabel('CO2 emission')\n",
        "plt.legend()\n",
        "plt.show()"
      ],
      "execution_count": 26,
      "outputs": [
        {
          "output_type": "error",
          "ename": "ValueError",
          "evalue": "ignored",
          "traceback": [
            "\u001b[0;31m---------------------------------------------------------------------------\u001b[0m",
            "\u001b[0;31mValueError\u001b[0m                                Traceback (most recent call last)",
            "\u001b[0;32m/usr/local/lib/python3.6/dist-packages/pandas/core/internals.py\u001b[0m in \u001b[0;36mcreate_block_manager_from_blocks\u001b[0;34m(blocks, axes)\u001b[0m\n\u001b[1;32m   4623\u001b[0m \u001b[0;34m\u001b[0m\u001b[0m\n\u001b[0;32m-> 4624\u001b[0;31m         \u001b[0mmgr\u001b[0m \u001b[0;34m=\u001b[0m \u001b[0mBlockManager\u001b[0m\u001b[0;34m(\u001b[0m\u001b[0mblocks\u001b[0m\u001b[0;34m,\u001b[0m \u001b[0maxes\u001b[0m\u001b[0;34m)\u001b[0m\u001b[0;34m\u001b[0m\u001b[0;34m\u001b[0m\u001b[0m\n\u001b[0m\u001b[1;32m   4625\u001b[0m         \u001b[0mmgr\u001b[0m\u001b[0;34m.\u001b[0m\u001b[0m_consolidate_inplace\u001b[0m\u001b[0;34m(\u001b[0m\u001b[0;34m)\u001b[0m\u001b[0;34m\u001b[0m\u001b[0;34m\u001b[0m\u001b[0m\n",
            "\u001b[0;32m/usr/local/lib/python3.6/dist-packages/pandas/core/internals.py\u001b[0m in \u001b[0;36m__init__\u001b[0;34m(self, blocks, axes, do_integrity_check, fastpath)\u001b[0m\n\u001b[1;32m   3032\u001b[0m         \u001b[0;32mif\u001b[0m \u001b[0mdo_integrity_check\u001b[0m\u001b[0;34m:\u001b[0m\u001b[0;34m\u001b[0m\u001b[0;34m\u001b[0m\u001b[0m\n\u001b[0;32m-> 3033\u001b[0;31m             \u001b[0mself\u001b[0m\u001b[0;34m.\u001b[0m\u001b[0m_verify_integrity\u001b[0m\u001b[0;34m(\u001b[0m\u001b[0;34m)\u001b[0m\u001b[0;34m\u001b[0m\u001b[0;34m\u001b[0m\u001b[0m\n\u001b[0m\u001b[1;32m   3034\u001b[0m \u001b[0;34m\u001b[0m\u001b[0m\n",
            "\u001b[0;32m/usr/local/lib/python3.6/dist-packages/pandas/core/internals.py\u001b[0m in \u001b[0;36m_verify_integrity\u001b[0;34m(self)\u001b[0m\n\u001b[1;32m   3243\u001b[0m             \u001b[0;32mif\u001b[0m \u001b[0mblock\u001b[0m\u001b[0;34m.\u001b[0m\u001b[0m_verify_integrity\u001b[0m \u001b[0;32mand\u001b[0m \u001b[0mblock\u001b[0m\u001b[0;34m.\u001b[0m\u001b[0mshape\u001b[0m\u001b[0;34m[\u001b[0m\u001b[0;36m1\u001b[0m\u001b[0;34m:\u001b[0m\u001b[0;34m]\u001b[0m \u001b[0;34m!=\u001b[0m \u001b[0mmgr_shape\u001b[0m\u001b[0;34m[\u001b[0m\u001b[0;36m1\u001b[0m\u001b[0;34m:\u001b[0m\u001b[0;34m]\u001b[0m\u001b[0;34m:\u001b[0m\u001b[0;34m\u001b[0m\u001b[0;34m\u001b[0m\u001b[0m\n\u001b[0;32m-> 3244\u001b[0;31m                 \u001b[0mconstruction_error\u001b[0m\u001b[0;34m(\u001b[0m\u001b[0mtot_items\u001b[0m\u001b[0;34m,\u001b[0m \u001b[0mblock\u001b[0m\u001b[0;34m.\u001b[0m\u001b[0mshape\u001b[0m\u001b[0;34m[\u001b[0m\u001b[0;36m1\u001b[0m\u001b[0;34m:\u001b[0m\u001b[0;34m]\u001b[0m\u001b[0;34m,\u001b[0m \u001b[0mself\u001b[0m\u001b[0;34m.\u001b[0m\u001b[0maxes\u001b[0m\u001b[0;34m)\u001b[0m\u001b[0;34m\u001b[0m\u001b[0;34m\u001b[0m\u001b[0m\n\u001b[0m\u001b[1;32m   3245\u001b[0m         \u001b[0;32mif\u001b[0m \u001b[0mlen\u001b[0m\u001b[0;34m(\u001b[0m\u001b[0mself\u001b[0m\u001b[0;34m.\u001b[0m\u001b[0mitems\u001b[0m\u001b[0;34m)\u001b[0m \u001b[0;34m!=\u001b[0m \u001b[0mtot_items\u001b[0m\u001b[0;34m:\u001b[0m\u001b[0;34m\u001b[0m\u001b[0;34m\u001b[0m\u001b[0m\n",
            "\u001b[0;32m/usr/local/lib/python3.6/dist-packages/pandas/core/internals.py\u001b[0m in \u001b[0;36mconstruction_error\u001b[0;34m(tot_items, block_shape, axes, e)\u001b[0m\n\u001b[1;32m   4607\u001b[0m     raise ValueError(\"Shape of passed values is {0}, indices imply {1}\".format(\n\u001b[0;32m-> 4608\u001b[0;31m         passed, implied))\n\u001b[0m\u001b[1;32m   4609\u001b[0m \u001b[0;34m\u001b[0m\u001b[0m\n",
            "\u001b[0;31mValueError\u001b[0m: Shape of passed values is (2, 51), indices imply (2, 0)",
            "\nDuring handling of the above exception, another exception occurred:\n",
            "\u001b[0;31mValueError\u001b[0m                                Traceback (most recent call last)",
            "\u001b[0;32m<ipython-input-26-bed5e3d00f9b>\u001b[0m in \u001b[0;36m<module>\u001b[0;34m()\u001b[0m\n\u001b[1;32m      1\u001b[0m \u001b[0mpred\u001b[0m \u001b[0;34m=\u001b[0m \u001b[0mresults\u001b[0m\u001b[0;34m.\u001b[0m\u001b[0mget_prediction\u001b[0m\u001b[0;34m(\u001b[0m\u001b[0mstart\u001b[0m\u001b[0;34m=\u001b[0m\u001b[0mpd\u001b[0m\u001b[0;34m.\u001b[0m\u001b[0mto_datetime\u001b[0m\u001b[0;34m(\u001b[0m\u001b[0;34m'2010-01-01'\u001b[0m\u001b[0;34m)\u001b[0m\u001b[0;34m,\u001b[0m \u001b[0mdynamic\u001b[0m\u001b[0;34m=\u001b[0m\u001b[0;32mFalse\u001b[0m\u001b[0;34m)\u001b[0m\u001b[0;34m\u001b[0m\u001b[0;34m\u001b[0m\u001b[0m\n\u001b[0;32m----> 2\u001b[0;31m \u001b[0mpred_ci\u001b[0m \u001b[0;34m=\u001b[0m \u001b[0mpred\u001b[0m\u001b[0;34m.\u001b[0m\u001b[0mconf_int\u001b[0m\u001b[0;34m(\u001b[0m\u001b[0;34m)\u001b[0m\u001b[0;34m\u001b[0m\u001b[0;34m\u001b[0m\u001b[0m\n\u001b[0m\u001b[1;32m      3\u001b[0m \u001b[0;34m\u001b[0m\u001b[0m\n\u001b[1;32m      4\u001b[0m \u001b[0max\u001b[0m \u001b[0;34m=\u001b[0m \u001b[0mdf_wb_1\u001b[0m\u001b[0;34m[\u001b[0m\u001b[0;34m'1960'\u001b[0m\u001b[0;34m:\u001b[0m\u001b[0;34m]\u001b[0m\u001b[0;34m.\u001b[0m\u001b[0mplot\u001b[0m\u001b[0;34m(\u001b[0m\u001b[0mlabel\u001b[0m\u001b[0;34m=\u001b[0m\u001b[0;34m'observed'\u001b[0m\u001b[0;34m)\u001b[0m\u001b[0;34m\u001b[0m\u001b[0;34m\u001b[0m\u001b[0m\n\u001b[1;32m      5\u001b[0m \u001b[0mpred\u001b[0m\u001b[0;34m.\u001b[0m\u001b[0mpredicted_mean\u001b[0m\u001b[0;34m.\u001b[0m\u001b[0mplot\u001b[0m\u001b[0;34m(\u001b[0m\u001b[0max\u001b[0m\u001b[0;34m=\u001b[0m\u001b[0max\u001b[0m\u001b[0;34m,\u001b[0m \u001b[0mlabel\u001b[0m\u001b[0;34m=\u001b[0m\u001b[0;34m'One-step ahead Forecast'\u001b[0m\u001b[0;34m,\u001b[0m \u001b[0malpha\u001b[0m\u001b[0;34m=\u001b[0m\u001b[0;36m.7\u001b[0m\u001b[0;34m,\u001b[0m \u001b[0mfigsize\u001b[0m\u001b[0;34m=\u001b[0m\u001b[0;34m(\u001b[0m\u001b[0;36m14\u001b[0m\u001b[0;34m,\u001b[0m \u001b[0;36m7\u001b[0m\u001b[0;34m)\u001b[0m\u001b[0;34m)\u001b[0m\u001b[0;34m\u001b[0m\u001b[0;34m\u001b[0m\u001b[0m\n",
            "\u001b[0;32m/usr/local/lib/python3.6/dist-packages/statsmodels/tsa/statespace/mlemodel.py\u001b[0m in \u001b[0;36mconf_int\u001b[0;34m(self, method, alpha, **kwds)\u001b[0m\n\u001b[1;32m   2786\u001b[0m         \u001b[0;32mif\u001b[0m \u001b[0mself\u001b[0m\u001b[0;34m.\u001b[0m\u001b[0mmodel\u001b[0m\u001b[0;34m.\u001b[0m\u001b[0mdata\u001b[0m\u001b[0;34m.\u001b[0m\u001b[0mpredict_dates\u001b[0m \u001b[0;32mis\u001b[0m \u001b[0;32mnot\u001b[0m \u001b[0;32mNone\u001b[0m\u001b[0;34m:\u001b[0m\u001b[0;34m\u001b[0m\u001b[0;34m\u001b[0m\u001b[0m\n\u001b[1;32m   2787\u001b[0m             conf_int = pd.DataFrame(conf_int,\n\u001b[0;32m-> 2788\u001b[0;31m                                     index=self.model.data.predict_dates)\n\u001b[0m\u001b[1;32m   2789\u001b[0m         \u001b[0;32melse\u001b[0m\u001b[0;34m:\u001b[0m\u001b[0;34m\u001b[0m\u001b[0;34m\u001b[0m\u001b[0m\n\u001b[1;32m   2790\u001b[0m             \u001b[0mconf_int\u001b[0m \u001b[0;34m=\u001b[0m \u001b[0mpd\u001b[0m\u001b[0;34m.\u001b[0m\u001b[0mDataFrame\u001b[0m\u001b[0;34m(\u001b[0m\u001b[0mconf_int\u001b[0m\u001b[0;34m)\u001b[0m\u001b[0;34m\u001b[0m\u001b[0;34m\u001b[0m\u001b[0m\n",
            "\u001b[0;32m/usr/local/lib/python3.6/dist-packages/pandas/core/frame.py\u001b[0m in \u001b[0;36m__init__\u001b[0;34m(self, data, index, columns, dtype, copy)\u001b[0m\n\u001b[1;32m    359\u001b[0m             \u001b[0;32melse\u001b[0m\u001b[0;34m:\u001b[0m\u001b[0;34m\u001b[0m\u001b[0;34m\u001b[0m\u001b[0m\n\u001b[1;32m    360\u001b[0m                 mgr = self._init_ndarray(data, index, columns, dtype=dtype,\n\u001b[0;32m--> 361\u001b[0;31m                                          copy=copy)\n\u001b[0m\u001b[1;32m    362\u001b[0m         \u001b[0;32melif\u001b[0m \u001b[0misinstance\u001b[0m\u001b[0;34m(\u001b[0m\u001b[0mdata\u001b[0m\u001b[0;34m,\u001b[0m \u001b[0;34m(\u001b[0m\u001b[0mlist\u001b[0m\u001b[0;34m,\u001b[0m \u001b[0mtypes\u001b[0m\u001b[0;34m.\u001b[0m\u001b[0mGeneratorType\u001b[0m\u001b[0;34m)\u001b[0m\u001b[0;34m)\u001b[0m\u001b[0;34m:\u001b[0m\u001b[0;34m\u001b[0m\u001b[0;34m\u001b[0m\u001b[0m\n\u001b[1;32m    363\u001b[0m             \u001b[0;32mif\u001b[0m \u001b[0misinstance\u001b[0m\u001b[0;34m(\u001b[0m\u001b[0mdata\u001b[0m\u001b[0;34m,\u001b[0m \u001b[0mtypes\u001b[0m\u001b[0;34m.\u001b[0m\u001b[0mGeneratorType\u001b[0m\u001b[0;34m)\u001b[0m\u001b[0;34m:\u001b[0m\u001b[0;34m\u001b[0m\u001b[0;34m\u001b[0m\u001b[0m\n",
            "\u001b[0;32m/usr/local/lib/python3.6/dist-packages/pandas/core/frame.py\u001b[0m in \u001b[0;36m_init_ndarray\u001b[0;34m(self, values, index, columns, dtype, copy)\u001b[0m\n\u001b[1;32m    531\u001b[0m             \u001b[0mvalues\u001b[0m \u001b[0;34m=\u001b[0m \u001b[0mmaybe_infer_to_datetimelike\u001b[0m\u001b[0;34m(\u001b[0m\u001b[0mvalues\u001b[0m\u001b[0;34m)\u001b[0m\u001b[0;34m\u001b[0m\u001b[0;34m\u001b[0m\u001b[0m\n\u001b[1;32m    532\u001b[0m \u001b[0;34m\u001b[0m\u001b[0m\n\u001b[0;32m--> 533\u001b[0;31m         \u001b[0;32mreturn\u001b[0m \u001b[0mcreate_block_manager_from_blocks\u001b[0m\u001b[0;34m(\u001b[0m\u001b[0;34m[\u001b[0m\u001b[0mvalues\u001b[0m\u001b[0;34m]\u001b[0m\u001b[0;34m,\u001b[0m \u001b[0;34m[\u001b[0m\u001b[0mcolumns\u001b[0m\u001b[0;34m,\u001b[0m \u001b[0mindex\u001b[0m\u001b[0;34m]\u001b[0m\u001b[0;34m)\u001b[0m\u001b[0;34m\u001b[0m\u001b[0;34m\u001b[0m\u001b[0m\n\u001b[0m\u001b[1;32m    534\u001b[0m \u001b[0;34m\u001b[0m\u001b[0m\n\u001b[1;32m    535\u001b[0m     \u001b[0;34m@\u001b[0m\u001b[0mproperty\u001b[0m\u001b[0;34m\u001b[0m\u001b[0;34m\u001b[0m\u001b[0m\n",
            "\u001b[0;32m/usr/local/lib/python3.6/dist-packages/pandas/core/internals.py\u001b[0m in \u001b[0;36mcreate_block_manager_from_blocks\u001b[0;34m(blocks, axes)\u001b[0m\n\u001b[1;32m   4629\u001b[0m         \u001b[0mblocks\u001b[0m \u001b[0;34m=\u001b[0m \u001b[0;34m[\u001b[0m\u001b[0mgetattr\u001b[0m\u001b[0;34m(\u001b[0m\u001b[0mb\u001b[0m\u001b[0;34m,\u001b[0m \u001b[0;34m'values'\u001b[0m\u001b[0;34m,\u001b[0m \u001b[0mb\u001b[0m\u001b[0;34m)\u001b[0m \u001b[0;32mfor\u001b[0m \u001b[0mb\u001b[0m \u001b[0;32min\u001b[0m \u001b[0mblocks\u001b[0m\u001b[0;34m]\u001b[0m\u001b[0;34m\u001b[0m\u001b[0;34m\u001b[0m\u001b[0m\n\u001b[1;32m   4630\u001b[0m         \u001b[0mtot_items\u001b[0m \u001b[0;34m=\u001b[0m \u001b[0msum\u001b[0m\u001b[0;34m(\u001b[0m\u001b[0mb\u001b[0m\u001b[0;34m.\u001b[0m\u001b[0mshape\u001b[0m\u001b[0;34m[\u001b[0m\u001b[0;36m0\u001b[0m\u001b[0;34m]\u001b[0m \u001b[0;32mfor\u001b[0m \u001b[0mb\u001b[0m \u001b[0;32min\u001b[0m \u001b[0mblocks\u001b[0m\u001b[0;34m)\u001b[0m\u001b[0;34m\u001b[0m\u001b[0;34m\u001b[0m\u001b[0m\n\u001b[0;32m-> 4631\u001b[0;31m         \u001b[0mconstruction_error\u001b[0m\u001b[0;34m(\u001b[0m\u001b[0mtot_items\u001b[0m\u001b[0;34m,\u001b[0m \u001b[0mblocks\u001b[0m\u001b[0;34m[\u001b[0m\u001b[0;36m0\u001b[0m\u001b[0;34m]\u001b[0m\u001b[0;34m.\u001b[0m\u001b[0mshape\u001b[0m\u001b[0;34m[\u001b[0m\u001b[0;36m1\u001b[0m\u001b[0;34m:\u001b[0m\u001b[0;34m]\u001b[0m\u001b[0;34m,\u001b[0m \u001b[0maxes\u001b[0m\u001b[0;34m,\u001b[0m \u001b[0me\u001b[0m\u001b[0;34m)\u001b[0m\u001b[0;34m\u001b[0m\u001b[0;34m\u001b[0m\u001b[0m\n\u001b[0m\u001b[1;32m   4632\u001b[0m \u001b[0;34m\u001b[0m\u001b[0m\n\u001b[1;32m   4633\u001b[0m \u001b[0;34m\u001b[0m\u001b[0m\n",
            "\u001b[0;32m/usr/local/lib/python3.6/dist-packages/pandas/core/internals.py\u001b[0m in \u001b[0;36mconstruction_error\u001b[0;34m(tot_items, block_shape, axes, e)\u001b[0m\n\u001b[1;32m   4606\u001b[0m         \u001b[0;32mraise\u001b[0m \u001b[0mValueError\u001b[0m\u001b[0;34m(\u001b[0m\u001b[0;34m\"Empty data passed with indices specified.\"\u001b[0m\u001b[0;34m)\u001b[0m\u001b[0;34m\u001b[0m\u001b[0;34m\u001b[0m\u001b[0m\n\u001b[1;32m   4607\u001b[0m     raise ValueError(\"Shape of passed values is {0}, indices imply {1}\".format(\n\u001b[0;32m-> 4608\u001b[0;31m         passed, implied))\n\u001b[0m\u001b[1;32m   4609\u001b[0m \u001b[0;34m\u001b[0m\u001b[0m\n\u001b[1;32m   4610\u001b[0m \u001b[0;34m\u001b[0m\u001b[0m\n",
            "\u001b[0;31mValueError\u001b[0m: Shape of passed values is (2, 51), indices imply (2, 0)"
          ]
        }
      ]
    },
    {
      "metadata": {
        "id": "96eZ14a7xN7a",
        "colab_type": "code",
        "colab": {}
      },
      "cell_type": "code",
      "source": [
        "df_wb_1_forecasted = pred.predicted_mean\n",
        "df_wb_1_truth = df_wb_1['2010-01-01':]\n",
        "mse = ((df_wb_1_forecasted - df_wb_1_truth) ** 2).mean()\n",
        "print('The Mean Squared Error of our forecasts is {}'.format(round(mse, 2)))"
      ],
      "execution_count": 0,
      "outputs": []
    },
    {
      "metadata": {
        "id": "cazTTrh_NTRW",
        "colab_type": "text"
      },
      "cell_type": "markdown",
      "source": [
        "**Prediction for the upcomming years**"
      ]
    },
    {
      "metadata": {
        "id": "sAhmagRKxvpl",
        "colab_type": "code",
        "colab": {}
      },
      "cell_type": "code",
      "source": [
        "pred_uc = results.get_forecast(steps=100)\n",
        "pred_ci = pred_uc.conf_int()\n",
        "ax = df_wb_1.plot(label='observed', figsize=(14, 7))\n",
        "pred_uc.predicted_mean.plot(ax=ax, label='Forecast')\n",
        "ax.fill_between(pred_ci.index,\n",
        "                pred_ci.iloc[:, 0],\n",
        "                pred_ci.iloc[:, 1], color='k', alpha=.25)\n",
        "ax.set_xlabel('Year')\n",
        "ax.set_ylabel('CO2 emission')\n",
        "plt.legend()\n",
        "plt.show()"
      ],
      "execution_count": 0,
      "outputs": []
    },
    {
      "metadata": {
        "id": "GGlA_Tj6NXdx",
        "colab_type": "text"
      },
      "cell_type": "markdown",
      "source": [
        "##Conclusion"
      ]
    },
    {
      "metadata": {
        "id": "4Op9jggvNbrN",
        "colab_type": "text"
      },
      "cell_type": "markdown",
      "source": [
        "##Discussion"
      ]
    },
    {
      "metadata": {
        "id": "_BsDvvfhKfNl",
        "colab_type": "text"
      },
      "cell_type": "markdown",
      "source": [
        "Meer data zou beter zijn, bijvoorbeeld maandelijkse data, zeker als je kijkt naar de grafiek met de normale distributie en dergelijke. In deze sectie nog wat daarover uitleggen, je wil meer zoals in deze link staat https://www.digitalocean.com/community/tutorials/a-guide-to-time-series-forecasting-with-arima-in-python-3. Mogelijk dat maandelijkse data beter is, wordt in dat voorbeeld ook gedaan. Verwijzen naar voorbeeld met link. Maandelijks ook beter omdat we corrigeren voor seasonality maar dat is bij jaarlijkse data weinig aanwezig. "
      ]
    },
    {
      "metadata": {
        "id": "9A8FvDOONJfQ",
        "colab_type": "code",
        "colab": {}
      },
      "cell_type": "code",
      "source": [
        ""
      ],
      "execution_count": 0,
      "outputs": []
    }
  ]
}