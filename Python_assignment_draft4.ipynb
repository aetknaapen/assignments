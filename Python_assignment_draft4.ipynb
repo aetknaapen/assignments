{
  "nbformat": 4,
  "nbformat_minor": 0,
  "metadata": {
    "colab": {
      "name": "Python assignment",
      "version": "0.3.2",
      "provenance": [],
      "collapsed_sections": [],
      "include_colab_link": true
    },
    "kernelspec": {
      "name": "python2",
      "display_name": "Python 2"
    }
  },
  "cells": [
    {
      "cell_type": "markdown",
      "metadata": {
        "id": "view-in-github",
        "colab_type": "text"
      },
      "source": [
        "<a href=\"https://colab.research.google.com/github/aetknaapen/assignments/blob/master/Python_assignment_draft4.ipynb\" target=\"_parent\"><img src=\"https://colab.research.google.com/assets/colab-badge.svg\" alt=\"Open In Colab\"/></a>"
      ]
    },
    {
      "metadata": {
        "id": "_LuQ56iyGrCg",
        "colab_type": "text"
      },
      "cell_type": "markdown",
      "source": [
        "#Python Assignment Applied Economic Analysis 1\n",
        "\n",
        "**Annemarie van Oijen (213579) & Anne Knaapen (255349)**\n"
      ]
    },
    {
      "metadata": {
        "id": "HMAm_m2OGmHk",
        "colab_type": "text"
      },
      "cell_type": "markdown",
      "source": [
        "##Abstract"
      ]
    },
    {
      "metadata": {
        "id": "HPE9P-6ZG5vf",
        "colab_type": "text"
      },
      "cell_type": "markdown",
      "source": [
        "In this assignment, we examine whether the requirements of the climate accord of Paris will be reached in the European Union with regard to CO2 emissions. First, we discuss the research question and the corresponding motivation. Second, we outline the dataset, and look at the development of CO2 emission levels, both on worldwide and EU level. We find that, on EU level, CO2 emissions have already been decreasing in the last decades. Next, we make both a naive and an ARIMA prediction about the future development of the EU CO2 emission levels. With ARIMA, we find that the target for the CO2 emission level will be reached. "
      ]
    },
    {
      "metadata": {
        "id": "R6dZyRpBJ_aL",
        "colab_type": "text"
      },
      "cell_type": "markdown",
      "source": [
        "##Content"
      ]
    },
    {
      "metadata": {
        "id": "5ireie_iKIwR",
        "colab_type": "text"
      },
      "cell_type": "markdown",
      "source": [
        "\n",
        "\n",
        "*   [Research question](https://colab.research.google.com/drive/133wjBNYuZQkdMoPheY4JGEmMivVX3ktp#scrollTo=r5UjBz4gJqi0)\n",
        "*   [Motivation](https://colab.research.google.com/drive/133wjBNYuZQkdMoPheY4JGEmMivVX3ktp#scrollTo=6MliNdsULqPe)\n",
        "* [Results](https://colab.research.google.com/drive/133wjBNYuZQkdMoPheY4JGEmMivVX3ktp#scrollTo=e97jtheoL-Fp)\n",
        "* [Conclusion](https://colab.research.google.com/drive/133wjBNYuZQkdMoPheY4JGEmMivVX3ktp#scrollTo=GGlA_Tj6NXdx)\n",
        "* [Discussion](https://colab.research.google.com/drive/133wjBNYuZQkdMoPheY4JGEmMivVX3ktp#scrollTo=4Op9jggvNbrN)\n",
        "\n",
        "\n",
        "\n"
      ]
    },
    {
      "metadata": {
        "id": "r5UjBz4gJqi0",
        "colab_type": "text"
      },
      "cell_type": "markdown",
      "source": [
        "##Research question"
      ]
    },
    {
      "metadata": {
        "id": "O6MUvjIMJqGR",
        "colab_type": "text"
      },
      "cell_type": "markdown",
      "source": [
        "The research question is: Will the requirements of the climate accord of Paris be reached in the European Union with regard to CO2 emissions?"
      ]
    },
    {
      "metadata": {
        "id": "6MliNdsULqPe",
        "colab_type": "text"
      },
      "cell_type": "markdown",
      "source": [
        "##Motivation"
      ]
    },
    {
      "metadata": {
        "id": "FVakB7mbvg-P",
        "colab_type": "text"
      },
      "cell_type": "markdown",
      "source": [
        "The last decades, the interest in and evidence of climate change has grown rapidly. All over the world, countries are taking action to reach a more green society with less polution. The Paris Agreement that was signed in 2015 was a big step towards a worldwide decrease of polution, a lower level of emissions, especially focussed towards CO2. Within this agreement of the  [United Nations](https://unfccc.int/process-and-meetings/the-paris-agreement/the-paris-agreement), countries set their own goals for reducing emissions. The [European Union's nationally determined contribution](https://ec.europa.eu/clima/policies/international/negotiations/paris_en) was to reduce greenhouse gas emissions by at least 40 percent in 2030, compared to 1990. As shown by the data, the CO2 emissions in the European Union are already decreasing. However, a 40 percent decrease compared to 1990 is not yet reached. In this paper, we will find whether and if this will be reached by forecasting the CO2 emission based on past data.\n"
      ]
    },
    {
      "metadata": {
        "id": "e97jtheoL-Fp",
        "colab_type": "text"
      },
      "cell_type": "markdown",
      "source": [
        "##Results"
      ]
    },
    {
      "metadata": {
        "id": "BJExUYW-MK0f",
        "colab_type": "text"
      },
      "cell_type": "markdown",
      "source": [
        "**Answer**\n",
        "The answer to the [research question](https://colab.research.google.com/drive/133wjBNYuZQkdMoPheY4JGEmMivVX3ktp#scrollTo=r5UjBz4gJqi0) is: Yes, the requirements of the climate accord will be reached in 2030 when looking at the EU level."
      ]
    },
    {
      "metadata": {
        "id": "-ClV1YcMMPOu",
        "colab_type": "text"
      },
      "cell_type": "markdown",
      "source": [
        "**Prepare data**"
      ]
    },
    {
      "metadata": {
        "id": "fM-Dk1CcUNAX",
        "colab_type": "text"
      },
      "cell_type": "markdown",
      "source": [
        "First, we have to import the [Worldbank dataset](https://data.worldbank.org/) and search a  right indicator for the level of CO2 emission."
      ]
    },
    {
      "metadata": {
        "id": "o2duJ-flRjyL",
        "colab_type": "code",
        "outputId": "ab2e51d5-313d-4f8d-aabc-533a59ada727",
        "colab": {
          "base_uri": "https://localhost:8080/",
          "height": 52
        }
      },
      "cell_type": "code",
      "source": [
        "!pip install wbdata"
      ],
      "execution_count": 40,
      "outputs": [
        {
          "output_type": "stream",
          "text": [
            "Requirement already satisfied: wbdata in /usr/local/lib/python2.7/dist-packages (0.2.7)\n",
            "Requirement already satisfied: decorator in /usr/local/lib/python2.7/dist-packages (from wbdata) (4.3.2)\n"
          ],
          "name": "stdout"
        }
      ]
    },
    {
      "metadata": {
        "id": "XVfcIyLKPXMc",
        "colab_type": "code",
        "colab": {}
      },
      "cell_type": "code",
      "source": [
        "import numpy as np\n",
        "import matplotlib.pyplot as plt\n",
        "import pandas as pd\n",
        "import wbdata as wb\n"
      ],
      "execution_count": 0,
      "outputs": []
    },
    {
      "metadata": {
        "id": "qSalY4EyPqVF",
        "colab_type": "code",
        "outputId": "2a95c594-290f-419c-a335-a37ce6191a12",
        "colab": {
          "base_uri": "https://localhost:8080/",
          "height": 505
        }
      },
      "cell_type": "code",
      "source": [
        "wb.search_indicators(\"CO2 emission\")"
      ],
      "execution_count": 42,
      "outputs": [
        {
          "output_type": "stream",
          "text": [
            "EN.CO2.TRAN.ZS      \tCO2 emissions from transport (% of total fuel combustion)\n",
            "EN.CO2.TRAN.MT      \tCO2 emissions from transport (million metric tons)\n",
            "EN.CO2.OTHX.ZS      \tCO2 emissions from other sectors, excluding residential buildings and commercial and public services (% of total fuel combustion)\n",
            "EN.CO2.OTHX.MT      \tCO2 emissions from other sectors, excluding residential buildings and commercial and public services (million metric tons)\n",
            "EN.CO2.MANF.ZS      \tCO2 emissions from manufacturing industries and construction (% of total fuel combustion)\n",
            "EN.CO2.MANF.MT      \tCO2 emissions from manufacturing industries and construction (million metric tons)\n",
            "EN.CO2.ETOT.ZS      \tCO2 emissions from electricity and heat production, total (% of total fuel combustion)\n",
            "EN.CO2.ETOT.MT      \tCO2 emissions from electricity and heat production, total (million metric tons)\n",
            "EN.CO2.BLDG.ZS      \tCO2 emissions from residential buildings and commercial and public services (% of total fuel combustion)\n",
            "EN.CO2.BLDG.MT      \tCO2 emissions from residential buildings and commercial and public services (million metric tons)\n",
            "EN.ATM.CO2E.SF.ZS   \tCO2 emissions from solid fuel consumption (% of total)\n",
            "EN.ATM.CO2E.SF.KT   \tCO2 emissions from solid fuel consumption (kt) \n",
            "EN.ATM.CO2E.PP.GD.KD\tCO2 emissions (kg per 2011 PPP $ of GDP)\n",
            "EN.ATM.CO2E.PP.GD   \tCO2 emissions (kg per PPP $ of GDP)\n",
            "EN.ATM.CO2E.PC      \tCO2 emissions (metric tons per capita)\n",
            "EN.ATM.CO2E.LF.ZS   \tCO2 emissions from liquid fuel consumption (% of total) \n",
            "EN.ATM.CO2E.LF.KT   \tCO2 emissions from liquid fuel consumption (kt) \n",
            "EN.ATM.CO2E.KT      \tCO2 emissions (kt)\n",
            "EN.ATM.CO2E.KD.GD   \tCO2 emissions (kg per 2010 US$ of GDP)\n",
            "EN.ATM.CO2E.KD.87.GD\tCO2 emissions, industrial (kg per 1987 US$ of GDP)\n",
            "EN.ATM.CO2E.GL.KT   \tCO2 emissions from gas flaring (thousand metric tons)\n",
            "EN.ATM.CO2E.GF.ZS   \tCO2 emissions from gaseous fuel consumption (% of total) \n",
            "EN.ATM.CO2E.GF.KT   \tCO2 emissions from gaseous fuel consumption (kt) \n",
            "EN.ATM.CO2E.GDP     \tCO2 emissions, industrial (kg per 1987 US$ of GDP)\n",
            "EN.ATM.CO2E.FF.ZS   \tCO2 emissions from fossil-fuels (% of total)\n",
            "EN.ATM.CO2E.FF.KT   \tCO2 emissions from fossil-fuels, total (thousand metric tons)\n",
            "EN.ATM.CO2E.CP.KT   \tCO2 emissions from cement production (thousand metric tons)\n"
          ],
          "name": "stdout"
        }
      ]
    },
    {
      "metadata": {
        "id": "cxqmU_9hut3f",
        "colab_type": "text"
      },
      "cell_type": "markdown",
      "source": [
        "Above, all the possible indicators for CO2 emission are stated. We choose the variabele for CO2 emission in kilo ton because the climate accord requirements are stated in this way."
      ]
    },
    {
      "metadata": {
        "id": "nZo7vxGCMYbz",
        "colab_type": "text"
      },
      "cell_type": "markdown",
      "source": [
        "**Descriptive statistics**"
      ]
    },
    {
      "metadata": {
        "id": "jE3oAGvmVEPe",
        "colab_type": "text"
      },
      "cell_type": "markdown",
      "source": [
        "We now take a look at what the dataset looks like. We rename the indicator EN.ATM.CO2E.KT  into CO2 emission. Next, the first 10 and last 10 rows of the dataset are shown, to get an idea what the data looks like. "
      ]
    },
    {
      "metadata": {
        "id": "oxY4segPVfzg",
        "colab_type": "code",
        "outputId": "da782f76-45ce-442b-f778-fbce233784e6",
        "colab": {
          "base_uri": "https://localhost:8080/",
          "height": 355
        }
      },
      "cell_type": "code",
      "source": [
        "indicators = {\"EN.ATM.CO2E.KT\":\"CO2_emission\"}\n",
        "df_wb = wb.get_dataframe(indicators, convert_date=True)\n",
        "df_wb.reset_index(inplace = True)\n",
        "df_wb.head(10)"
      ],
      "execution_count": 43,
      "outputs": [
        {
          "output_type": "execute_result",
          "data": {
            "text/html": [
              "<div>\n",
              "<style scoped>\n",
              "    .dataframe tbody tr th:only-of-type {\n",
              "        vertical-align: middle;\n",
              "    }\n",
              "\n",
              "    .dataframe tbody tr th {\n",
              "        vertical-align: top;\n",
              "    }\n",
              "\n",
              "    .dataframe thead th {\n",
              "        text-align: right;\n",
              "    }\n",
              "</style>\n",
              "<table border=\"1\" class=\"dataframe\">\n",
              "  <thead>\n",
              "    <tr style=\"text-align: right;\">\n",
              "      <th></th>\n",
              "      <th>country</th>\n",
              "      <th>date</th>\n",
              "      <th>CO2_emission</th>\n",
              "    </tr>\n",
              "  </thead>\n",
              "  <tbody>\n",
              "    <tr>\n",
              "      <th>0</th>\n",
              "      <td>Arab World</td>\n",
              "      <td>2018-01-01</td>\n",
              "      <td>NaN</td>\n",
              "    </tr>\n",
              "    <tr>\n",
              "      <th>1</th>\n",
              "      <td>Arab World</td>\n",
              "      <td>2017-01-01</td>\n",
              "      <td>NaN</td>\n",
              "    </tr>\n",
              "    <tr>\n",
              "      <th>2</th>\n",
              "      <td>Arab World</td>\n",
              "      <td>2016-01-01</td>\n",
              "      <td>NaN</td>\n",
              "    </tr>\n",
              "    <tr>\n",
              "      <th>3</th>\n",
              "      <td>Arab World</td>\n",
              "      <td>2015-01-01</td>\n",
              "      <td>NaN</td>\n",
              "    </tr>\n",
              "    <tr>\n",
              "      <th>4</th>\n",
              "      <td>Arab World</td>\n",
              "      <td>2014-01-01</td>\n",
              "      <td>1.895700e+06</td>\n",
              "    </tr>\n",
              "    <tr>\n",
              "      <th>5</th>\n",
              "      <td>Arab World</td>\n",
              "      <td>2013-01-01</td>\n",
              "      <td>1.775096e+06</td>\n",
              "    </tr>\n",
              "    <tr>\n",
              "      <th>6</th>\n",
              "      <td>Arab World</td>\n",
              "      <td>2012-01-01</td>\n",
              "      <td>1.796962e+06</td>\n",
              "    </tr>\n",
              "    <tr>\n",
              "      <th>7</th>\n",
              "      <td>Arab World</td>\n",
              "      <td>2011-01-01</td>\n",
              "      <td>1.655808e+06</td>\n",
              "    </tr>\n",
              "    <tr>\n",
              "      <th>8</th>\n",
              "      <td>Arab World</td>\n",
              "      <td>2010-01-01</td>\n",
              "      <td>1.645559e+06</td>\n",
              "    </tr>\n",
              "    <tr>\n",
              "      <th>9</th>\n",
              "      <td>Arab World</td>\n",
              "      <td>2009-01-01</td>\n",
              "      <td>1.581328e+06</td>\n",
              "    </tr>\n",
              "  </tbody>\n",
              "</table>\n",
              "</div>"
            ],
            "text/plain": [
              "      country       date  CO2_emission\n",
              "0  Arab World 2018-01-01           NaN\n",
              "1  Arab World 2017-01-01           NaN\n",
              "2  Arab World 2016-01-01           NaN\n",
              "3  Arab World 2015-01-01           NaN\n",
              "4  Arab World 2014-01-01  1.895700e+06\n",
              "5  Arab World 2013-01-01  1.775096e+06\n",
              "6  Arab World 2012-01-01  1.796962e+06\n",
              "7  Arab World 2011-01-01  1.655808e+06\n",
              "8  Arab World 2010-01-01  1.645559e+06\n",
              "9  Arab World 2009-01-01  1.581328e+06"
            ]
          },
          "metadata": {
            "tags": []
          },
          "execution_count": 43
        }
      ]
    },
    {
      "metadata": {
        "id": "cPbTHZEtXC-4",
        "colab_type": "code",
        "outputId": "01cea318-f0ac-4efe-e5b4-58a3ea8c6527",
        "colab": {
          "base_uri": "https://localhost:8080/",
          "height": 355
        }
      },
      "cell_type": "code",
      "source": [
        "df_wb.tail(10)"
      ],
      "execution_count": 44,
      "outputs": [
        {
          "output_type": "execute_result",
          "data": {
            "text/html": [
              "<div>\n",
              "<style scoped>\n",
              "    .dataframe tbody tr th:only-of-type {\n",
              "        vertical-align: middle;\n",
              "    }\n",
              "\n",
              "    .dataframe tbody tr th {\n",
              "        vertical-align: top;\n",
              "    }\n",
              "\n",
              "    .dataframe thead th {\n",
              "        text-align: right;\n",
              "    }\n",
              "</style>\n",
              "<table border=\"1\" class=\"dataframe\">\n",
              "  <thead>\n",
              "    <tr style=\"text-align: right;\">\n",
              "      <th></th>\n",
              "      <th>country</th>\n",
              "      <th>date</th>\n",
              "      <th>CO2_emission</th>\n",
              "    </tr>\n",
              "  </thead>\n",
              "  <tbody>\n",
              "    <tr>\n",
              "      <th>15566</th>\n",
              "      <td>Zimbabwe</td>\n",
              "      <td>1969-01-01</td>\n",
              "      <td>6750.947</td>\n",
              "    </tr>\n",
              "    <tr>\n",
              "      <th>15567</th>\n",
              "      <td>Zimbabwe</td>\n",
              "      <td>1968-01-01</td>\n",
              "      <td>6384.247</td>\n",
              "    </tr>\n",
              "    <tr>\n",
              "      <th>15568</th>\n",
              "      <td>Zimbabwe</td>\n",
              "      <td>1967-01-01</td>\n",
              "      <td>5298.815</td>\n",
              "    </tr>\n",
              "    <tr>\n",
              "      <th>15569</th>\n",
              "      <td>Zimbabwe</td>\n",
              "      <td>1966-01-01</td>\n",
              "      <td>6046.883</td>\n",
              "    </tr>\n",
              "    <tr>\n",
              "      <th>15570</th>\n",
              "      <td>Zimbabwe</td>\n",
              "      <td>1965-01-01</td>\n",
              "      <td>5214.474</td>\n",
              "    </tr>\n",
              "    <tr>\n",
              "      <th>15571</th>\n",
              "      <td>Zimbabwe</td>\n",
              "      <td>1964-01-01</td>\n",
              "      <td>4473.740</td>\n",
              "    </tr>\n",
              "    <tr>\n",
              "      <th>15572</th>\n",
              "      <td>Zimbabwe</td>\n",
              "      <td>1963-01-01</td>\n",
              "      <td>NaN</td>\n",
              "    </tr>\n",
              "    <tr>\n",
              "      <th>15573</th>\n",
              "      <td>Zimbabwe</td>\n",
              "      <td>1962-01-01</td>\n",
              "      <td>NaN</td>\n",
              "    </tr>\n",
              "    <tr>\n",
              "      <th>15574</th>\n",
              "      <td>Zimbabwe</td>\n",
              "      <td>1961-01-01</td>\n",
              "      <td>NaN</td>\n",
              "    </tr>\n",
              "    <tr>\n",
              "      <th>15575</th>\n",
              "      <td>Zimbabwe</td>\n",
              "      <td>1960-01-01</td>\n",
              "      <td>NaN</td>\n",
              "    </tr>\n",
              "  </tbody>\n",
              "</table>\n",
              "</div>"
            ],
            "text/plain": [
              "        country       date  CO2_emission\n",
              "15566  Zimbabwe 1969-01-01      6750.947\n",
              "15567  Zimbabwe 1968-01-01      6384.247\n",
              "15568  Zimbabwe 1967-01-01      5298.815\n",
              "15569  Zimbabwe 1966-01-01      6046.883\n",
              "15570  Zimbabwe 1965-01-01      5214.474\n",
              "15571  Zimbabwe 1964-01-01      4473.740\n",
              "15572  Zimbabwe 1963-01-01           NaN\n",
              "15573  Zimbabwe 1962-01-01           NaN\n",
              "15574  Zimbabwe 1961-01-01           NaN\n",
              "15575  Zimbabwe 1960-01-01           NaN"
            ]
          },
          "metadata": {
            "tags": []
          },
          "execution_count": 44
        }
      ]
    },
    {
      "metadata": {
        "id": "g4OLKsyCXOqt",
        "colab_type": "text"
      },
      "cell_type": "markdown",
      "source": [
        "By looking at this overview, we can see that the dataset exists of data of all countries in the period 1960-2017. However, the dataset also includes empty cells (NaN)."
      ]
    },
    {
      "metadata": {
        "id": "VAes_UrDM07U",
        "colab_type": "text"
      },
      "cell_type": "markdown",
      "source": [
        "**CO2 emission over time**"
      ]
    },
    {
      "metadata": {
        "id": "6vFWzF8fYFvt",
        "colab_type": "text"
      },
      "cell_type": "markdown",
      "source": [
        "To see if and how CO2 emissions vary over time, we compare the dataset of 1990 with the one of 2014. This data is choosen because by looking more closely into the [dataset](https://databank.worldbank.org/data/reports.aspx?source=2&series=EN.ATM.CO2E.KT&country=) of the Worldbank, many data is availabe for this period. We merge the datasets based on 'inner', which means only countries with data for both periods are included in the new, merged dataset. We start by looking at the complete dataset, so all countries and country groups as stated by the Worldbank."
      ]
    },
    {
      "metadata": {
        "id": "2Dgr6OuwZTrH",
        "colab_type": "code",
        "colab": {}
      },
      "cell_type": "code",
      "source": [
        "df_1990=df_wb[df_wb['date']=='1990-01-01']\n",
        "df_2014=df_wb[df_wb['date']=='2014-01-01']"
      ],
      "execution_count": 0,
      "outputs": []
    },
    {
      "metadata": {
        "id": "Uq8akjNRZkey",
        "colab_type": "code",
        "colab": {}
      },
      "cell_type": "code",
      "source": [
        "df_merged = pd.merge(df_1990, df_2014, on=['country'], suffixes=['_1990', '_2014'], how='inner')"
      ],
      "execution_count": 0,
      "outputs": []
    },
    {
      "metadata": {
        "id": "gUP11QRfGEkt",
        "colab_type": "text"
      },
      "cell_type": "markdown",
      "source": [
        "We again take a look at the first 10 rows to see what the dataset looks like."
      ]
    },
    {
      "metadata": {
        "id": "BnPp4fV5Z4PW",
        "colab_type": "code",
        "outputId": "a8cbc01f-6aaa-4d5b-8240-2fa1f23844bf",
        "colab": {
          "base_uri": "https://localhost:8080/",
          "height": 355
        }
      },
      "cell_type": "code",
      "source": [
        "df_merged.head(10)"
      ],
      "execution_count": 47,
      "outputs": [
        {
          "output_type": "execute_result",
          "data": {
            "text/html": [
              "<div>\n",
              "<style scoped>\n",
              "    .dataframe tbody tr th:only-of-type {\n",
              "        vertical-align: middle;\n",
              "    }\n",
              "\n",
              "    .dataframe tbody tr th {\n",
              "        vertical-align: top;\n",
              "    }\n",
              "\n",
              "    .dataframe thead th {\n",
              "        text-align: right;\n",
              "    }\n",
              "</style>\n",
              "<table border=\"1\" class=\"dataframe\">\n",
              "  <thead>\n",
              "    <tr style=\"text-align: right;\">\n",
              "      <th></th>\n",
              "      <th>country</th>\n",
              "      <th>date_1990</th>\n",
              "      <th>CO2_emission_1990</th>\n",
              "      <th>date_2014</th>\n",
              "      <th>CO2_emission_2014</th>\n",
              "    </tr>\n",
              "  </thead>\n",
              "  <tbody>\n",
              "    <tr>\n",
              "      <th>0</th>\n",
              "      <td>Arab World</td>\n",
              "      <td>1990-01-01</td>\n",
              "      <td>6.717361e+05</td>\n",
              "      <td>2014-01-01</td>\n",
              "      <td>1.895700e+06</td>\n",
              "    </tr>\n",
              "    <tr>\n",
              "      <th>1</th>\n",
              "      <td>Caribbean small states</td>\n",
              "      <td>1990-01-01</td>\n",
              "      <td>3.159487e+04</td>\n",
              "      <td>2014-01-01</td>\n",
              "      <td>6.363712e+04</td>\n",
              "    </tr>\n",
              "    <tr>\n",
              "      <th>2</th>\n",
              "      <td>Central Europe and the Baltics</td>\n",
              "      <td>1990-01-01</td>\n",
              "      <td>9.983024e+05</td>\n",
              "      <td>2014-01-01</td>\n",
              "      <td>6.363858e+05</td>\n",
              "    </tr>\n",
              "    <tr>\n",
              "      <th>3</th>\n",
              "      <td>Early-demographic dividend</td>\n",
              "      <td>1990-01-01</td>\n",
              "      <td>2.851175e+06</td>\n",
              "      <td>2014-01-01</td>\n",
              "      <td>7.079255e+06</td>\n",
              "    </tr>\n",
              "    <tr>\n",
              "      <th>4</th>\n",
              "      <td>East Asia &amp; Pacific</td>\n",
              "      <td>1990-01-01</td>\n",
              "      <td>4.703785e+06</td>\n",
              "      <td>2014-01-01</td>\n",
              "      <td>1.427211e+07</td>\n",
              "    </tr>\n",
              "    <tr>\n",
              "      <th>5</th>\n",
              "      <td>East Asia &amp; Pacific (excluding high income)</td>\n",
              "      <td>1990-01-01</td>\n",
              "      <td>2.864275e+06</td>\n",
              "      <td>2014-01-01</td>\n",
              "      <td>1.168863e+07</td>\n",
              "    </tr>\n",
              "    <tr>\n",
              "      <th>6</th>\n",
              "      <td>East Asia &amp; Pacific (IDA &amp; IBRD countries)</td>\n",
              "      <td>1990-01-01</td>\n",
              "      <td>2.822276e+06</td>\n",
              "      <td>2014-01-01</td>\n",
              "      <td>1.164808e+07</td>\n",
              "    </tr>\n",
              "    <tr>\n",
              "      <th>7</th>\n",
              "      <td>Euro area</td>\n",
              "      <td>1990-01-01</td>\n",
              "      <td>NaN</td>\n",
              "      <td>2014-01-01</td>\n",
              "      <td>2.191542e+06</td>\n",
              "    </tr>\n",
              "    <tr>\n",
              "      <th>8</th>\n",
              "      <td>Europe &amp; Central Asia</td>\n",
              "      <td>1990-01-01</td>\n",
              "      <td>NaN</td>\n",
              "      <td>2014-01-01</td>\n",
              "      <td>6.245992e+06</td>\n",
              "    </tr>\n",
              "    <tr>\n",
              "      <th>9</th>\n",
              "      <td>Europe &amp; Central Asia (excluding high income)</td>\n",
              "      <td>1990-01-01</td>\n",
              "      <td>NaN</td>\n",
              "      <td>2014-01-01</td>\n",
              "      <td>3.029861e+06</td>\n",
              "    </tr>\n",
              "  </tbody>\n",
              "</table>\n",
              "</div>"
            ],
            "text/plain": [
              "                                         country  date_1990  \\\n",
              "0                                     Arab World 1990-01-01   \n",
              "1                         Caribbean small states 1990-01-01   \n",
              "2                 Central Europe and the Baltics 1990-01-01   \n",
              "3                     Early-demographic dividend 1990-01-01   \n",
              "4                            East Asia & Pacific 1990-01-01   \n",
              "5    East Asia & Pacific (excluding high income) 1990-01-01   \n",
              "6     East Asia & Pacific (IDA & IBRD countries) 1990-01-01   \n",
              "7                                      Euro area 1990-01-01   \n",
              "8                          Europe & Central Asia 1990-01-01   \n",
              "9  Europe & Central Asia (excluding high income) 1990-01-01   \n",
              "\n",
              "   CO2_emission_1990  date_2014  CO2_emission_2014  \n",
              "0       6.717361e+05 2014-01-01       1.895700e+06  \n",
              "1       3.159487e+04 2014-01-01       6.363712e+04  \n",
              "2       9.983024e+05 2014-01-01       6.363858e+05  \n",
              "3       2.851175e+06 2014-01-01       7.079255e+06  \n",
              "4       4.703785e+06 2014-01-01       1.427211e+07  \n",
              "5       2.864275e+06 2014-01-01       1.168863e+07  \n",
              "6       2.822276e+06 2014-01-01       1.164808e+07  \n",
              "7                NaN 2014-01-01       2.191542e+06  \n",
              "8                NaN 2014-01-01       6.245992e+06  \n",
              "9                NaN 2014-01-01       3.029861e+06  "
            ]
          },
          "metadata": {
            "tags": []
          },
          "execution_count": 47
        }
      ]
    },
    {
      "metadata": {
        "id": "hm0D5wASFk8P",
        "colab_type": "text"
      },
      "cell_type": "markdown",
      "source": [
        "We describe the total dataset of both 1990 and 2014, to compare the averages of CO2 emission of these years. "
      ]
    },
    {
      "metadata": {
        "id": "lL0ZEm_hb49s",
        "colab_type": "code",
        "outputId": "12713c81-3065-4077-90b6-a737e2542e21",
        "colab": {
          "base_uri": "https://localhost:8080/",
          "height": 294
        }
      },
      "cell_type": "code",
      "source": [
        "df_merged.describe()"
      ],
      "execution_count": 48,
      "outputs": [
        {
          "output_type": "execute_result",
          "data": {
            "text/html": [
              "<div>\n",
              "<style scoped>\n",
              "    .dataframe tbody tr th:only-of-type {\n",
              "        vertical-align: middle;\n",
              "    }\n",
              "\n",
              "    .dataframe tbody tr th {\n",
              "        vertical-align: top;\n",
              "    }\n",
              "\n",
              "    .dataframe thead th {\n",
              "        text-align: right;\n",
              "    }\n",
              "</style>\n",
              "<table border=\"1\" class=\"dataframe\">\n",
              "  <thead>\n",
              "    <tr style=\"text-align: right;\">\n",
              "      <th></th>\n",
              "      <th>CO2_emission_1990</th>\n",
              "      <th>CO2_emission_2014</th>\n",
              "    </tr>\n",
              "  </thead>\n",
              "  <tbody>\n",
              "    <tr>\n",
              "      <th>count</th>\n",
              "      <td>2.150000e+02</td>\n",
              "      <td>2.510000e+02</td>\n",
              "    </tr>\n",
              "    <tr>\n",
              "      <th>mean</th>\n",
              "      <td>7.295739e+05</td>\n",
              "      <td>1.273374e+06</td>\n",
              "    </tr>\n",
              "    <tr>\n",
              "      <th>std</th>\n",
              "      <td>2.476163e+06</td>\n",
              "      <td>4.224365e+06</td>\n",
              "    </tr>\n",
              "    <tr>\n",
              "      <th>min</th>\n",
              "      <td>7.334000e+00</td>\n",
              "      <td>1.100100e+01</td>\n",
              "    </tr>\n",
              "    <tr>\n",
              "      <th>25%</th>\n",
              "      <td>8.599115e+02</td>\n",
              "      <td>2.458724e+03</td>\n",
              "    </tr>\n",
              "    <tr>\n",
              "      <th>50%</th>\n",
              "      <td>1.000358e+04</td>\n",
              "      <td>2.223302e+04</td>\n",
              "    </tr>\n",
              "    <tr>\n",
              "      <th>75%</th>\n",
              "      <td>1.477123e+05</td>\n",
              "      <td>2.455680e+05</td>\n",
              "    </tr>\n",
              "    <tr>\n",
              "      <th>max</th>\n",
              "      <td>2.214940e+07</td>\n",
              "      <td>3.613828e+07</td>\n",
              "    </tr>\n",
              "  </tbody>\n",
              "</table>\n",
              "</div>"
            ],
            "text/plain": [
              "       CO2_emission_1990  CO2_emission_2014\n",
              "count       2.150000e+02       2.510000e+02\n",
              "mean        7.295739e+05       1.273374e+06\n",
              "std         2.476163e+06       4.224365e+06\n",
              "min         7.334000e+00       1.100100e+01\n",
              "25%         8.599115e+02       2.458724e+03\n",
              "50%         1.000358e+04       2.223302e+04\n",
              "75%         1.477123e+05       2.455680e+05\n",
              "max         2.214940e+07       3.613828e+07"
            ]
          },
          "metadata": {
            "tags": []
          },
          "execution_count": 48
        }
      ]
    },
    {
      "metadata": {
        "id": "QPr5bMbZpGXq",
        "colab_type": "text"
      },
      "cell_type": "markdown",
      "source": [
        "If we compare the mean of the CO2 emission of 1990 and 2014, we see that in 2014, the global average level of CO2 emissions is higher. Next, we show this graphically."
      ]
    },
    {
      "metadata": {
        "id": "lkzdIbOieHKU",
        "colab_type": "code",
        "outputId": "82a7a9f7-92ed-4c91-9264-0303c11c09bb",
        "colab": {
          "base_uri": "https://localhost:8080/",
          "height": 390
        }
      },
      "cell_type": "code",
      "source": [
        "plt.scatter(df_merged['CO2_emission_1990'],df_merged['CO2_emission_2014'])\n",
        "plt.xlabel('CO2 emission in 1990')\n",
        "plt.ylabel('CO2 emission in 2014')"
      ],
      "execution_count": 49,
      "outputs": [
        {
          "output_type": "execute_result",
          "data": {
            "text/plain": [
              "Text(0,0.5,'CO2 emission in 2014')"
            ]
          },
          "metadata": {
            "tags": []
          },
          "execution_count": 49
        },
        {
          "output_type": "display_data",
          "data": {
            "image/png": "[encoded data removed]",
            "text/plain": [
              "<Figure size 576x396 with 1 Axes>"
            ]
          },
          "metadata": {
            "tags": []
          }
        }
      ]
    },
    {
      "metadata": {
        "id": "9ZdI0s1iGl5w",
        "colab_type": "text"
      },
      "cell_type": "markdown",
      "source": [
        "Next, we make this graph interactive, to show which point belongs to which country. It is important to remember that becaused we merged the dataset based on 'inner', only countries that have data in both periods are included. "
      ]
    },
    {
      "metadata": {
        "id": "XWdeUiHsizQp",
        "colab_type": "code",
        "outputId": "814af8ba-7840-430e-f6c2-b9149d43ba80",
        "colab": {
          "base_uri": "https://localhost:8080/",
          "height": 647
        }
      },
      "cell_type": "code",
      "source": [
        "from bokeh.io import output_file, show, output_notebook\n",
        "from bokeh.plotting import figure\n",
        "from bokeh.models import HoverTool\n",
        "output_notebook()\n",
        "\n",
        "hover = HoverTool(tooltips=[\n",
        "     ('country','@country'),\n",
        "     ])\n",
        "\n",
        "plot = figure(tools=[hover])\n",
        "plot.circle('CO2_emission_1990','CO2_emission_2014',\n",
        "    size=10, source=df_merged)\n",
        "output_file('inequality.html')\n",
        "show(plot)"
      ],
      "execution_count": 50,
      "outputs": [
        {
          "output_type": "display_data",
          "data": {
            "text/html": [
              "\n",
              "    <div class=\"bk-root\">\n",
              "        <a href=\"https://bokeh.pydata.org\" target=\"_blank\" class=\"bk-logo bk-logo-small bk-logo-notebook\"></a>\n",
              "        <span id=\"1143\">Loading BokehJS ...</span>\n",
              "    </div>"
            ]
          },
          "metadata": {
            "tags": []
          }
        },
        {
          "output_type": "display_data",
          "data": {
            "application/javascript": [
              "\n",
              "(function(root) {\n",
              "  function now() {\n",
              "    return new Date();\n",
              "  }\n",
              "\n",
              "  var force = true;\n",
              "\n",
              "  if (typeof (root._bokeh_onload_callbacks) === \"undefined\" || force === true) {\n",
              "    root._bokeh_onload_callbacks = [];\n",
              "    root._bokeh_is_loading = undefined;\n",
              "  }\n",
              "\n",
              "  var JS_MIME_TYPE = 'application/javascript';\n",
              "  var HTML_MIME_TYPE = 'text/html';\n",
              "  var EXEC_MIME_TYPE = 'application/vnd.bokehjs_exec.v0+json';\n",
              "  var CLASS_NAME = 'output_bokeh rendered_html';\n",
              "\n",
              "  /**\n",
              "   * Render data to the DOM node\n",
              "   */\n",
              "  function render(props, node) {\n",
              "    var script = document.createElement(\"script\");\n",
              "    node.appendChild(script);\n",
              "  }\n",
              "\n",
              "  /**\n",
              "   * Handle when an output is cleared or removed\n",
              "   */\n",
              "  function handleClearOutput(event, handle) {\n",
              "    var cell = handle.cell;\n",
              "\n",
              "    var id = cell.output_area._bokeh_element_id;\n",
              "    var server_id = cell.output_area._bokeh_server_id;\n",
              "    // Clean up Bokeh references\n",
              "    if (id != null && id in Bokeh.index) {\n",
              "      Bokeh.index[id].model.document.clear();\n",
              "      delete Bokeh.index[id];\n",
              "    }\n",
              "\n",
              "    if (server_id !== undefined) {\n",
              "      // Clean up Bokeh references\n",
              "      var cmd = \"from bokeh.io.state import curstate; print(curstate().uuid_to_server['\" + server_id + \"'].get_sessions()[0].document.roots[0]._id)\";\n",
              "      cell.notebook.kernel.execute(cmd, {\n",
              "        iopub: {\n",
              "          output: function(msg) {\n",
              "            var id = msg.content.text.trim();\n",
              "            if (id in Bokeh.index) {\n",
              "              Bokeh.index[id].model.document.clear();\n",
              "              delete Bokeh.index[id];\n",
              "            }\n",
              "          }\n",
              "        }\n",
              "      });\n",
              "      // Destroy server and session\n",
              "      var cmd = \"import bokeh.io.notebook as ion; ion.destroy_server('\" + server_id + \"')\";\n",
              "      cell.notebook.kernel.execute(cmd);\n",
              "    }\n",
              "  }\n",
              "\n",
              "  /**\n",
              "   * Handle when a new output is added\n",
              "   */\n",
              "  function handleAddOutput(event, handle) {\n",
              "    var output_area = handle.output_area;\n",
              "    var output = handle.output;\n",
              "\n",
              "    // limit handleAddOutput to display_data with EXEC_MIME_TYPE content only\n",
              "    if ((output.output_type != \"display_data\") || (!output.data.hasOwnProperty(EXEC_MIME_TYPE))) {\n",
              "      return\n",
              "    }\n",
              "\n",
              "    var toinsert = output_area.element.find(\".\" + CLASS_NAME.split(' ')[0]);\n",
              "\n",
              "    if (output.metadata[EXEC_MIME_TYPE][\"id\"] !== undefined) {\n",
              "      toinsert[toinsert.length - 1].firstChild.textContent = output.data[JS_MIME_TYPE];\n",
              "      // store reference to embed id on output_area\n",
              "      output_area._bokeh_element_id = output.metadata[EXEC_MIME_TYPE][\"id\"];\n",
              "    }\n",
              "    if (output.metadata[EXEC_MIME_TYPE][\"server_id\"] !== undefined) {\n",
              "      var bk_div = document.createElement(\"div\");\n",
              "      bk_div.innerHTML = output.data[HTML_MIME_TYPE];\n",
              "      var script_attrs = bk_div.children[0].attributes;\n",
              "      for (var i = 0; i < script_attrs.length; i++) {\n",
              "        toinsert[toinsert.length - 1].firstChild.setAttribute(script_attrs[i].name, script_attrs[i].value);\n",
              "      }\n",
              "      // store reference to server id on output_area\n",
              "      output_area._bokeh_server_id = output.metadata[EXEC_MIME_TYPE][\"server_id\"];\n",
              "    }\n",
              "  }\n",
              "\n",
              "  function register_renderer(events, OutputArea) {\n",
              "\n",
              "    function append_mime(data, metadata, element) {\n",
              "      // create a DOM node to render to\n",
              "      var toinsert = this.create_output_subarea(\n",
              "        metadata,\n",
              "        CLASS_NAME,\n",
              "        EXEC_MIME_TYPE\n",
              "      );\n",
              "      this.keyboard_manager.register_events(toinsert);\n",
              "      // Render to node\n",
              "      var props = {data: data, metadata: metadata[EXEC_MIME_TYPE]};\n",
              "      render(props, toinsert[toinsert.length - 1]);\n",
              "      element.append(toinsert);\n",
              "      return toinsert\n",
              "    }\n",
              "\n",
              "    /* Handle when an output is cleared or removed */\n",
              "    events.on('clear_output.CodeCell', handleClearOutput);\n",
              "    events.on('delete.Cell', handleClearOutput);\n",
              "\n",
              "    /* Handle when a new output is added */\n",
              "    events.on('output_added.OutputArea', handleAddOutput);\n",
              "\n",
              "    /**\n",
              "     * Register the mime type and append_mime function with output_area\n",
              "     */\n",
              "    OutputArea.prototype.register_mime_type(EXEC_MIME_TYPE, append_mime, {\n",
              "      /* Is output safe? */\n",
              "      safe: true,\n",
              "      /* Index of renderer in `output_area.display_order` */\n",
              "      index: 0\n",
              "    });\n",
              "  }\n",
              "\n",
              "  // register the mime type if in Jupyter Notebook environment and previously unregistered\n",
              "  if (root.Jupyter !== undefined) {\n",
              "    var events = require('base/js/events');\n",
              "    var OutputArea = require('notebook/js/outputarea').OutputArea;\n",
              "\n",
              "    if (OutputArea.prototype.mime_types().indexOf(EXEC_MIME_TYPE) == -1) {\n",
              "      register_renderer(events, OutputArea);\n",
              "    }\n",
              "  }\n",
              "\n",
              "  \n",
              "  if (typeof (root._bokeh_timeout) === \"undefined\" || force === true) {\n",
              "    root._bokeh_timeout = Date.now() + 5000;\n",
              "    root._bokeh_failed_load = false;\n",
              "  }\n",
              "\n",
              "  var NB_LOAD_WARNING = {'data': {'text/html':\n",
              "     \"<div style='background-color: #fdd'>\\n\"+\n",
              "     \"<p>\\n\"+\n",
              "     \"BokehJS does not appear to have successfully loaded. If loading BokehJS from CDN, this \\n\"+\n",
              "     \"may be due to a slow or bad network connection. Possible fixes:\\n\"+\n",
              "     \"</p>\\n\"+\n",
              "     \"<ul>\\n\"+\n",
              "     \"<li>re-rerun `output_notebook()` to attempt to load from CDN again, or</li>\\n\"+\n",
              "     \"<li>use INLINE resources instead, as so:</li>\\n\"+\n",
              "     \"</ul>\\n\"+\n",
              "     \"<code>\\n\"+\n",
              "     \"from bokeh.resources import INLINE\\n\"+\n",
              "     \"output_notebook(resources=INLINE)\\n\"+\n",
              "     \"</code>\\n\"+\n",
              "     \"</div>\"}};\n",
              "\n",
              "  function display_loaded() {\n",
              "    var el = document.getElementById(\"1143\");\n",
              "    if (el != null) {\n",
              "      el.textContent = \"BokehJS is loading...\";\n",
              "    }\n",
              "    if (root.Bokeh !== undefined) {\n",
              "      if (el != null) {\n",
              "        el.textContent = \"BokehJS \" + root.Bokeh.version + \" successfully loaded.\";\n",
              "      }\n",
              "    } else if (Date.now() < root._bokeh_timeout) {\n",
              "      setTimeout(display_loaded, 100)\n",
              "    }\n",
              "  }\n",
              "\n",
              "\n",
              "  function run_callbacks() {\n",
              "    try {\n",
              "      root._bokeh_onload_callbacks.forEach(function(callback) { callback() });\n",
              "    }\n",
              "    finally {\n",
              "      delete root._bokeh_onload_callbacks\n",
              "    }\n",
              "    console.info(\"Bokeh: all callbacks have finished\");\n",
              "  }\n",
              "\n",
              "  function load_libs(js_urls, callback) {\n",
              "    root._bokeh_onload_callbacks.push(callback);\n",
              "    if (root._bokeh_is_loading > 0) {\n",
              "      console.log(\"Bokeh: BokehJS is being loaded, scheduling callback at\", now());\n",
              "      return null;\n",
              "    }\n",
              "    if (js_urls == null || js_urls.length === 0) {\n",
              "      run_callbacks();\n",
              "      return null;\n",
              "    }\n",
              "    console.log(\"Bokeh: BokehJS not loaded, scheduling load and callback at\", now());\n",
              "    root._bokeh_is_loading = js_urls.length;\n",
              "    for (var i = 0; i < js_urls.length; i++) {\n",
              "      var url = js_urls[i];\n",
              "      var s = document.createElement('script');\n",
              "      s.src = url;\n",
              "      s.async = false;\n",
              "      s.onreadystatechange = s.onload = function() {\n",
              "        root._bokeh_is_loading--;\n",
              "        if (root._bokeh_is_loading === 0) {\n",
              "          console.log(\"Bokeh: all BokehJS libraries loaded\");\n",
              "          run_callbacks()\n",
              "        }\n",
              "      };\n",
              "      s.onerror = function() {\n",
              "        console.warn(\"failed to load library \" + url);\n",
              "      };\n",
              "      console.log(\"Bokeh: injecting script tag for BokehJS library: \", url);\n",
              "      document.getElementsByTagName(\"head\")[0].appendChild(s);\n",
              "    }\n",
              "  };var element = document.getElementById(\"1143\");\n",
              "  if (element == null) {\n",
              "    console.log(\"Bokeh: ERROR: autoload.js configured with elementid '1143' but no matching script tag was found. \")\n",
              "    return false;\n",
              "  }\n",
              "\n",
              "  var js_urls = [\"https://cdn.pydata.org/bokeh/release/bokeh-1.0.4.min.js\", \"https://cdn.pydata.org/bokeh/release/bokeh-widgets-1.0.4.min.js\", \"https://cdn.pydata.org/bokeh/release/bokeh-tables-1.0.4.min.js\", \"https://cdn.pydata.org/bokeh/release/bokeh-gl-1.0.4.min.js\"];\n",
              "\n",
              "  var inline_js = [\n",
              "    function(Bokeh) {\n",
              "      Bokeh.set_log_level(\"info\");\n",
              "    },\n",
              "    \n",
              "    function(Bokeh) {\n",
              "      \n",
              "    },\n",
              "    function(Bokeh) {\n",
              "      console.log(\"Bokeh: injecting CSS: https://cdn.pydata.org/bokeh/release/bokeh-1.0.4.min.css\");\n",
              "      Bokeh.embed.inject_css(\"https://cdn.pydata.org/bokeh/release/bokeh-1.0.4.min.css\");\n",
              "      console.log(\"Bokeh: injecting CSS: https://cdn.pydata.org/bokeh/release/bokeh-widgets-1.0.4.min.css\");\n",
              "      Bokeh.embed.inject_css(\"https://cdn.pydata.org/bokeh/release/bokeh-widgets-1.0.4.min.css\");\n",
              "      console.log(\"Bokeh: injecting CSS: https://cdn.pydata.org/bokeh/release/bokeh-tables-1.0.4.min.css\");\n",
              "      Bokeh.embed.inject_css(\"https://cdn.pydata.org/bokeh/release/bokeh-tables-1.0.4.min.css\");\n",
              "    }\n",
              "  ];\n",
              "\n",
              "  function run_inline_js() {\n",
              "    \n",
              "    if ((root.Bokeh !== undefined) || (force === true)) {\n",
              "      for (var i = 0; i < inline_js.length; i++) {\n",
              "        inline_js[i].call(root, root.Bokeh);\n",
              "      }if (force === true) {\n",
              "        display_loaded();\n",
              "      }} else if (Date.now() < root._bokeh_timeout) {\n",
              "      setTimeout(run_inline_js, 100);\n",
              "    } else if (!root._bokeh_failed_load) {\n",
              "      console.log(\"Bokeh: BokehJS failed to load within specified timeout.\");\n",
              "      root._bokeh_failed_load = true;\n",
              "    } else if (force !== true) {\n",
              "      var cell = $(document.getElementById(\"1143\")).parents('.cell').data().cell;\n",
              "      cell.output_area.append_execute_result(NB_LOAD_WARNING)\n",
              "    }\n",
              "\n",
              "  }\n",
              "\n",
              "  if (root._bokeh_is_loading === 0) {\n",
              "    console.log(\"Bokeh: BokehJS loaded, going straight to plotting\");\n",
              "    run_inline_js();\n",
              "  } else {\n",
              "    load_libs(js_urls, function() {\n",
              "      console.log(\"Bokeh: BokehJS plotting callback run at\", now());\n",
              "      run_inline_js();\n",
              "    });\n",
              "  }\n",
              "}(window));"
            ],
            "application/vnd.bokehjs_load.v0+json": "\n(function(root) {\n  function now() {\n    return new Date();\n  }\n\n  var force = true;\n\n  if (typeof (root._bokeh_onload_callbacks) === \"undefined\" || force === true) {\n    root._bokeh_onload_callbacks = [];\n    root._bokeh_is_loading = undefined;\n  }\n\n  \n\n  \n  if (typeof (root._bokeh_timeout) === \"undefined\" || force === true) {\n    root._bokeh_timeout = Date.now() + 5000;\n    root._bokeh_failed_load = false;\n  }\n\n  var NB_LOAD_WARNING = {'data': {'text/html':\n     \"<div style='background-color: #fdd'>\\n\"+\n     \"<p>\\n\"+\n     \"BokehJS does not appear to have successfully loaded. If loading BokehJS from CDN, this \\n\"+\n     \"may be due to a slow or bad network connection. Possible fixes:\\n\"+\n     \"</p>\\n\"+\n     \"<ul>\\n\"+\n     \"<li>re-rerun `output_notebook()` to attempt to load from CDN again, or</li>\\n\"+\n     \"<li>use INLINE resources instead, as so:</li>\\n\"+\n     \"</ul>\\n\"+\n     \"<code>\\n\"+\n     \"from bokeh.resources import INLINE\\n\"+\n     \"output_notebook(resources=INLINE)\\n\"+\n     \"</code>\\n\"+\n     \"</div>\"}};\n\n  function display_loaded() {\n    var el = document.getElementById(\"1143\");\n    if (el != null) {\n      el.textContent = \"BokehJS is loading...\";\n    }\n    if (root.Bokeh !== undefined) {\n      if (el != null) {\n        el.textContent = \"BokehJS \" + root.Bokeh.version + \" successfully loaded.\";\n      }\n    } else if (Date.now() < root._bokeh_timeout) {\n      setTimeout(display_loaded, 100)\n    }\n  }\n\n\n  function run_callbacks() {\n    try {\n      root._bokeh_onload_callbacks.forEach(function(callback) { callback() });\n    }\n    finally {\n      delete root._bokeh_onload_callbacks\n    }\n    console.info(\"Bokeh: all callbacks have finished\");\n  }\n\n  function load_libs(js_urls, callback) {\n    root._bokeh_onload_callbacks.push(callback);\n    if (root._bokeh_is_loading > 0) {\n      console.log(\"Bokeh: BokehJS is being loaded, scheduling callback at\", now());\n      return null;\n    }\n    if (js_urls == null || js_urls.length === 0) {\n      run_callbacks();\n      return null;\n    }\n    console.log(\"Bokeh: BokehJS not loaded, scheduling load and callback at\", now());\n    root._bokeh_is_loading = js_urls.length;\n    for (var i = 0; i < js_urls.length; i++) {\n      var url = js_urls[i];\n      var s = document.createElement('script');\n      s.src = url;\n      s.async = false;\n      s.onreadystatechange = s.onload = function() {\n        root._bokeh_is_loading--;\n        if (root._bokeh_is_loading === 0) {\n          console.log(\"Bokeh: all BokehJS libraries loaded\");\n          run_callbacks()\n        }\n      };\n      s.onerror = function() {\n        console.warn(\"failed to load library \" + url);\n      };\n      console.log(\"Bokeh: injecting script tag for BokehJS library: \", url);\n      document.getElementsByTagName(\"head\")[0].appendChild(s);\n    }\n  };var element = document.getElementById(\"1143\");\n  if (element == null) {\n    console.log(\"Bokeh: ERROR: autoload.js configured with elementid '1143' but no matching script tag was found. \")\n    return false;\n  }\n\n  var js_urls = [\"https://cdn.pydata.org/bokeh/release/bokeh-1.0.4.min.js\", \"https://cdn.pydata.org/bokeh/release/bokeh-widgets-1.0.4.min.js\", \"https://cdn.pydata.org/bokeh/release/bokeh-tables-1.0.4.min.js\", \"https://cdn.pydata.org/bokeh/release/bokeh-gl-1.0.4.min.js\"];\n\n  var inline_js = [\n    function(Bokeh) {\n      Bokeh.set_log_level(\"info\");\n    },\n    \n    function(Bokeh) {\n      \n    },\n    function(Bokeh) {\n      console.log(\"Bokeh: injecting CSS: https://cdn.pydata.org/bokeh/release/bokeh-1.0.4.min.css\");\n      Bokeh.embed.inject_css(\"https://cdn.pydata.org/bokeh/release/bokeh-1.0.4.min.css\");\n      console.log(\"Bokeh: injecting CSS: https://cdn.pydata.org/bokeh/release/bokeh-widgets-1.0.4.min.css\");\n      Bokeh.embed.inject_css(\"https://cdn.pydata.org/bokeh/release/bokeh-widgets-1.0.4.min.css\");\n      console.log(\"Bokeh: injecting CSS: https://cdn.pydata.org/bokeh/release/bokeh-tables-1.0.4.min.css\");\n      Bokeh.embed.inject_css(\"https://cdn.pydata.org/bokeh/release/bokeh-tables-1.0.4.min.css\");\n    }\n  ];\n\n  function run_inline_js() {\n    \n    if ((root.Bokeh !== undefined) || (force === true)) {\n      for (var i = 0; i < inline_js.length; i++) {\n        inline_js[i].call(root, root.Bokeh);\n      }if (force === true) {\n        display_loaded();\n      }} else if (Date.now() < root._bokeh_timeout) {\n      setTimeout(run_inline_js, 100);\n    } else if (!root._bokeh_failed_load) {\n      console.log(\"Bokeh: BokehJS failed to load within specified timeout.\");\n      root._bokeh_failed_load = true;\n    } else if (force !== true) {\n      var cell = $(document.getElementById(\"1143\")).parents('.cell').data().cell;\n      cell.output_area.append_execute_result(NB_LOAD_WARNING)\n    }\n\n  }\n\n  if (root._bokeh_is_loading === 0) {\n    console.log(\"Bokeh: BokehJS loaded, going straight to plotting\");\n    run_inline_js();\n  } else {\n    load_libs(js_urls, function() {\n      console.log(\"Bokeh: BokehJS plotting callback run at\", now());\n      run_inline_js();\n    });\n  }\n}(window));"
          },
          "metadata": {
            "tags": []
          }
        },
        {
          "output_type": "display_data",
          "data": {
            "text/html": [
              "\n",
              "\n",
              "\n",
              "\n",
              "\n",
              "\n",
              "  <div class=\"bk-root\" id=\"fe7433c2-5d94-4a5e-ab6d-66ee1df0d91b\" data-root-id=\"1145\"></div>\n"
            ]
          },
          "metadata": {
            "tags": []
          }
        },
        {
          "output_type": "display_data",
          "data": {
            "application/javascript": [
              "(function(root) {\n",
              "  function embed_document(root) {\n",
              "    \n",
              "  var docs_json = {\"2ae1a3c2-60f3-4a49-a42b-1c67d1e765f3\":{\"roots\":{\"references\":[{\"attributes\":{\"active_drag\":\"auto\",\"active_inspect\":\"auto\",\"active_multi\":null,\"active_scroll\":\"auto\",\"active_tap\":\"auto\",\"tools\":[{\"id\":\"1144\",\"type\":\"HoverTool\"}]},\"id\":\"1164\",\"type\":\"Toolbar\"},{\"attributes\":{\"callback\":null,\"data\":{\"CO2_emission_1990\":{\"__ndarray__\":\"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\",\"dtype\":\"float64\",\"shape\":[264]},\"CO2_emission_2014\":{\"__ndarray__\":\"l/oeUhTtPEGe76fGoxLvQFYOLbLDayNB6ojuolUBW0FAN89VzjhrQQ1Wd2pWS2ZBpHA92ok3ZkGBlUMbW7hAQZZO2vaZ01dBTx1xsrIdR0HJZliAyGtJQaAaLy26u0hBjFObbC/NGUEfhetRtdMGQYDdxLbsEWlB2c73X1nSc0E9256qfpV0QeF6FK6MvxpBZzB7yrhrFUFRO4KVPScoQQJeC5z/x2xBgVAHgdMuPUFaZDu/plg3QTEIrPyFJDxBme+w0sLpEUGP6b96ZAl0QdQHwGNXjgpBx0s3d/8CUEHKnk7y/MhDQf5uT8c8ozVBzczMrIGZNUECvyH15dJzQZzEICBMGFZBAAAAAAAA+H/+1HjRKC1nQYXeaZJGaQpBEFg5tMhdo0DNzMzYW5RlQX15IozINBtB/pX4Fvk+EUGR7Xxf6TJDQZHtfF/pMkNB1i1yEUYcKUExtn1xaxgpQd8tchFGHClBTb2u4f6jb0EAAABoaTuBQc3MzMycKMNAfT81XtpUtkD6fmq8wb8BQQAAAAAAAPh/6SYxCKzgfEDsUbgeZfngQB+F61G4nYBAfT81XsTnCEF1kxgE1pm1QIcW2c73RYtA5dAiW7cMFkFYObTICqvsQMuhRbb3TeJAYOXQIhvhokD4U+Oli5reQMUgsHJa3vFAnu+nxsvhk0AQWDm0OAHvQHe+nxptyvZAH4XrUbjwfkBWDi2yPa64QJhuEoPA/YFAfT81XrpIj0AhsHJooe7TQE5iEFhBttVAkxgEVk55u0AfhetRICsgQWDl0CLbdWZAi2zn+2nKwUBeukkMBrbkQFTjpZuEQqZAcT0K16OAe0A1XrpJDLZ+QIlBYOXwHLpAH4XrUfhbu0Aj2/n+0mQgQX0/NV669YBAyXa+nxrLckC+nxov3c2GQAAAAAAAAPh/SOF6FCgo9EB1kxjcWqFjQarx0k26h/RAnMQgsHJAY0BeukkMwj+yQDeJQWDlLahAHVpkO19PvkCYbhKDgJLFQIts5/uhctBAAAAAAJAC4UDufD813vm2QBkEVg6NrbdA+FPjpbGN90AK16NwQVvgQNV46SYxk4ZAfT81Xrr1YEBkO99P/QjVQAIrhxb1ceVA1XjpJjClCEFzaJHtPI24QNv5fmp84rRApHA9CtfFhUBiEFg53A/TQMl2vp8ay5JANV66SVynxkBU46WbxK2CQDvfT40XR5JATDeJQZQY50DByqFFroISQd0kBoGVGIlAtvP91HhItEDXo3A9CguAQGq8dJPojcFAN4lB4Bb4JUEfhetRKEHMQKrx0k1igIBAarx0k2xv8EDb+X5qvKB/QGIQWDm0QG5AAAAAAAAA+H/Jdr6f6uXRQCcxCKwcI6NAfT81Xrr1cEDy0k1iEGafQOxRuB6FWKZA7nw/Ne5/wkDsUbge0ZHmQAIrhxbFjORA2c73U2P/nkBMN4mR1BNBQZ7vp8bAVBxBj8L1aBHSI0GPwvUo3Y8EQSlcj8JNouBAAAAAAAAA+H+R7Xw/MYvvQJMYBNZtjhNBXrpJDAL+vEBU46VbYIYyQYGVQ4uE1NlAarx0k9RPDkGJQWDlUOfLQAisHFpkK09Az/dT4/XJ40Aj2/m+KOshQQAAAAAAAPh/vHSTGABL90DsUbgexcPCQAaBlUMLip5AqvHSTaI+u0DpJjEIjIHXQHnpJjHIR6NASOF6FK44jUASg8DKhdTrQI2XbhKDAEZAN4lBYBUTyUDy0k1icN3CQM3MzMzMDZRAvHSTGARWvUDl0CLbOQmoQFg5tMh28JNAke18PyukDUH+1HjpJtuUQEjhehQuD5ZA9ihcj8JVokAlBoGVQ6tZQH9qvHTTK6VAGQRWDg2EsECmm8SgOlAdQcl2vp8ay2JACtejcB1Es0AAAAAAAAD4f0SLbOfjWdRA/tR46WZGoUDNzMzM+DrtQF66SQxidcBAmG4Sg+gf1UC8dJMYBFatQNnO91Pj1UdAFK5H4bpev0Bt5/upOWwEQXE9CtdjwrBAtvP91ATt4EDVeOkmcf6yQB+F61G4naBA6SYxCIyB90AAAAAAAAD4f1pkO99fQedABoGVQyfe7UCamZmZ00wEQcHKoUW2RXBAZmZmZmYwwUBWDi2yPa64QMP1KFwvRrZAwcqhRR4m7kBt5/upWcv5QIlBYOWvcBFB8tJNYpj/5UAAAAAAAAD4f6AaL93cVPpArkfhejAX8UC+nxqvgQU6QW3n+6nxPYpAf2q8dJPAaEAAAAAAAAD4fxfZzvdTa1xAnMQg8K1XIkGkcD0K50vBQLByaJFtZOJAH4XrUbjwfkDl0CLbeXSUQGQ730+ZhutAMzMzMzPrhkCHFtnOh/XdQLTIdr4/BslAUrgehes1aUCyne+nxgWDQNv5fmqv5B1BBoGVQ4tgl0BCYOXQxI8MQbpJDAJr9tFA6SYxCKzgbEA730+Nl3B5QAAAAAAAAPh/+FPjpZsgakAK16NwXQLOQE5iEFi5HJ9AqvHSTZ4z5UDpJjEIPD3hQMl2vp/y+91ASOF6FM5EtEAMAiuHBpXGQNEi2/nSTBNBvHSTGARWfUDD9Shcz3ukQGIQWDm0QF5ALbKd7zuY5kAZBFYOfSfcQM3MzMz1HRVBK4cW2Wi08EAlBoGVQ6tpQI2XbhKDACZACKwcWiRttEBcj8L1F78LQTeJQWBMzQlB+FPjpbCfGUGkcD3SIQtUQeF6FK5HW7pAL90kBtmv+UCcxCCwckBjQMP1KFwhnAZBy6FFtvZfBEEAAAAAAAD4fwAAAAAAAPh/hetRuK4q1kB/arx0E5exQAwCK4c2esdA\",\"dtype\":\"float64\",\"shape\":[264]},\"country\":[\"Arab World\",\"Caribbean small states\",\"Central Europe and the Baltics\",\"Early-demographic dividend\",\"East Asia & Pacific\",\"East Asia & Pacific (excluding high income)\",\"East Asia & Pacific (IDA & IBRD countries)\",\"Euro area\",\"Europe & Central Asia\",\"Europe & Central Asia (excluding high income)\",\"Europe & Central Asia (IDA & IBRD countries)\",\"European Union\",\"Fragile and conflict affected situations\",\"Heavily indebted poor countries (HIPC)\",\"High income\",\"IBRD only\",\"IDA & IBRD total\",\"IDA blend\",\"IDA only\",\"IDA total\",\"Late-demographic dividend\",\"Latin America & Caribbean\",\"Latin America & Caribbean (excluding high income)\",\"Latin America & the Caribbean (IDA & IBRD countries)\",\"Least developed countries: UN classification\",\"Low & middle income\",\"Low income\",\"Lower middle income\",\"Middle East & North Africa\",\"Middle East & North Africa (excluding high income)\",\"Middle East & North Africa (IDA & IBRD countries)\",\"Middle income\",\"North America\",\"Not classified\",\"OECD members\",\"Other small states\",\"Pacific island small states\",\"Post-demographic dividend\",\"Pre-demographic dividend\",\"Small states\",\"South Asia\",\"South Asia (IDA & IBRD)\",\"Sub-Saharan Africa\",\"Sub-Saharan Africa (excluding high income)\",\"Sub-Saharan Africa (IDA & IBRD countries)\",\"Upper middle income\",\"World\",\"Afghanistan\",\"Albania\",\"Algeria\",\"American Samoa\",\"Andorra\",\"Angola\",\"Antigua and Barbuda\",\"Argentina\",\"Armenia\",\"Aruba\",\"Australia\",\"Austria\",\"Azerbaijan\",\"Bahamas, The\",\"Bahrain\",\"Bangladesh\",\"Barbados\",\"Belarus\",\"Belgium\",\"Belize\",\"Benin\",\"Bermuda\",\"Bhutan\",\"Bolivia\",\"Bosnia and Herzegovina\",\"Botswana\",\"Brazil\",\"British Virgin Islands\",\"Brunei Darussalam\",\"Bulgaria\",\"Burkina Faso\",\"Burundi\",\"Cabo Verde\",\"Cambodia\",\"Cameroon\",\"Canada\",\"Cayman Islands\",\"Central African Republic\",\"Chad\",\"Channel Islands\",\"Chile\",\"China\",\"Colombia\",\"Comoros\",\"Congo, Dem. Rep.\",\"Congo, Rep.\",\"Costa Rica\",\"Cote d'Ivoire\",\"Croatia\",\"Cuba\",\"Curacao\",\"Cyprus\",\"Czech Republic\",\"Denmark\",\"Djibouti\",\"Dominica\",\"Dominican Republic\",\"Ecuador\",\"Egypt, Arab Rep.\",\"El Salvador\",\"Equatorial Guinea\",\"Eritrea\",\"Estonia\",\"Eswatini\",\"Ethiopia\",\"Faroe Islands\",\"Fiji\",\"Finland\",\"France\",\"French Polynesia\",\"Gabon\",\"Gambia, The\",\"Georgia\",\"Germany\",\"Ghana\",\"Gibraltar\",\"Greece\",\"Greenland\",\"Grenada\",\"Guam\",\"Guatemala\",\"Guinea\",\"Guinea-Bissau\",\"Guyana\",\"Haiti\",\"Honduras\",\"Hong Kong SAR, China\",\"Hungary\",\"Iceland\",\"India\",\"Indonesia\",\"Iran, Islamic Rep.\",\"Iraq\",\"Ireland\",\"Isle of Man\",\"Israel\",\"Italy\",\"Jamaica\",\"Japan\",\"Jordan\",\"Kazakhstan\",\"Kenya\",\"Kiribati\",\"Korea, Dem. People\\u2019s Rep.\",\"Korea, Rep.\",\"Kosovo\",\"Kuwait\",\"Kyrgyz Republic\",\"Lao PDR\",\"Latvia\",\"Lebanon\",\"Lesotho\",\"Liberia\",\"Libya\",\"Liechtenstein\",\"Lithuania\",\"Luxembourg\",\"Macao SAR, China\",\"Macedonia, FYR\",\"Madagascar\",\"Malawi\",\"Malaysia\",\"Maldives\",\"Mali\",\"Malta\",\"Marshall Islands\",\"Mauritania\",\"Mauritius\",\"Mexico\",\"Micronesia, Fed. Sts.\",\"Moldova\",\"Monaco\",\"Mongolia\",\"Montenegro\",\"Morocco\",\"Mozambique\",\"Myanmar\",\"Namibia\",\"Nauru\",\"Nepal\",\"Netherlands\",\"New Caledonia\",\"New Zealand\",\"Nicaragua\",\"Niger\",\"Nigeria\",\"Northern Mariana Islands\",\"Norway\",\"Oman\",\"Pakistan\",\"Palau\",\"Panama\",\"Papua New Guinea\",\"Paraguay\",\"Peru\",\"Philippines\",\"Poland\",\"Portugal\",\"Puerto Rico\",\"Qatar\",\"Romania\",\"Russian Federation\",\"Rwanda\",\"Samoa\",\"San Marino\",\"Sao Tome and Principe\",\"Saudi Arabia\",\"Senegal\",\"Serbia\",\"Seychelles\",\"Sierra Leone\",\"Singapore\",\"Sint Maarten (Dutch part)\",\"Slovak Republic\",\"Slovenia\",\"Solomon Islands\",\"Somalia\",\"South Africa\",\"South Sudan\",\"Spain\",\"Sri Lanka\",\"St. Kitts and Nevis\",\"St. Lucia\",\"St. Martin (French part)\",\"St. Vincent and the Grenadines\",\"Sudan\",\"Suriname\",\"Sweden\",\"Switzerland\",\"Syrian Arab Republic\",\"Tajikistan\",\"Tanzania\",\"Thailand\",\"Timor-Leste\",\"Togo\",\"Tonga\",\"Trinidad and Tobago\",\"Tunisia\",\"Turkey\",\"Turkmenistan\",\"Turks and Caicos Islands\",\"Tuvalu\",\"Uganda\",\"Ukraine\",\"United Arab Emirates\",\"United Kingdom\",\"United States\",\"Uruguay\",\"Uzbekistan\",\"Vanuatu\",\"Venezuela, RB\",\"Vietnam\",\"Virgin Islands (U.S.)\",\"West Bank and Gaza\",\"Yemen, Rep.\",\"Zambia\",\"Zimbabwe\"],\"date_1990\":{\"__ndarray__\":\"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\",\"dtype\":\"float64\",\"shape\":[264]},\"date_2014\":{\"__ndarray__\":\"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\",\"dtype\":\"float64\",\"shape\":[264]},\"index\":[0,1,2,3,4,5,6,7,8,9,10,11,12,13,14,15,16,17,18,19,20,21,22,23,24,25,26,27,28,29,30,31,32,33,34,35,36,37,38,39,40,41,42,43,44,45,46,47,48,49,50,51,52,53,54,55,56,57,58,59,60,61,62,63,64,65,66,67,68,69,70,71,72,73,74,75,76,77,78,79,80,81,82,83,84,85,86,87,88,89,90,91,92,93,94,95,96,97,98,99,100,101,102,103,104,105,106,107,108,109,110,111,112,113,114,115,116,117,118,119,120,121,122,123,124,125,126,127,128,129,130,131,132,133,134,135,136,137,138,139,140,141,142,143,144,145,146,147,148,149,150,151,152,153,154,155,156,157,158,159,160,161,162,163,164,165,166,167,168,169,170,171,172,173,174,175,176,177,178,179,180,181,182,183,184,185,186,187,188,189,190,191,192,193,194,195,196,197,198,199,200,201,202,203,204,205,206,207,208,209,210,211,212,213,214,215,216,217,218,219,220,221,222,223,224,225,226,227,228,229,230,231,232,233,234,235,236,237,238,239,240,241,242,243,244,245,246,247,248,249,250,251,252,253,254,255,256,257,258,259,260,261,262,263]},\"selected\":{\"id\":\"1186\",\"type\":\"Selection\"},\"selection_policy\":{\"id\":\"1187\",\"type\":\"UnionRenderers\"}},\"id\":\"1166\",\"type\":\"ColumnDataSource\"},{\"attributes\":{\"callback\":null},\"id\":\"1146\",\"type\":\"DataRange1d\"},{\"attributes\":{\"callback\":null,\"tooltips\":[[\"country\",\"@country\"]]},\"id\":\"1144\",\"type\":\"HoverTool\"},{\"attributes\":{\"dimension\":1,\"plot\":{\"id\":\"1145\",\"subtype\":\"Figure\",\"type\":\"Plot\"},\"ticker\":{\"id\":\"1160\",\"type\":\"BasicTicker\"}},\"id\":\"1163\",\"type\":\"Grid\"},{\"attributes\":{\"callback\":null},\"id\":\"1148\",\"type\":\"DataRange1d\"},{\"attributes\":{\"fill_color\":{\"value\":\"#1f77b4\"},\"line_color\":{\"value\":\"#1f77b4\"},\"size\":{\"units\":\"screen\",\"value\":10},\"x\":{\"field\":\"CO2_emission_1990\"},\"y\":{\"field\":\"CO2_emission_2014\"}},\"id\":\"1168\",\"type\":\"Circle\"},{\"attributes\":{\"fill_alpha\":{\"value\":0.1},\"fill_color\":{\"value\":\"#1f77b4\"},\"line_alpha\":{\"value\":0.1},\"line_color\":{\"value\":\"#1f77b4\"},\"size\":{\"units\":\"screen\",\"value\":10},\"x\":{\"field\":\"CO2_emission_1990\"},\"y\":{\"field\":\"CO2_emission_2014\"}},\"id\":\"1169\",\"type\":\"Circle\"},{\"attributes\":{},\"id\":\"1160\",\"type\":\"BasicTicker\"},{\"attributes\":{\"below\":[{\"id\":\"1154\",\"type\":\"LinearAxis\"}],\"left\":[{\"id\":\"1159\",\"type\":\"LinearAxis\"}],\"renderers\":[{\"id\":\"1154\",\"type\":\"LinearAxis\"},{\"id\":\"1158\",\"type\":\"Grid\"},{\"id\":\"1159\",\"type\":\"LinearAxis\"},{\"id\":\"1163\",\"type\":\"Grid\"},{\"id\":\"1170\",\"type\":\"GlyphRenderer\"}],\"title\":{\"id\":\"1181\",\"type\":\"Title\"},\"toolbar\":{\"id\":\"1164\",\"type\":\"Toolbar\"},\"x_range\":{\"id\":\"1146\",\"type\":\"DataRange1d\"},\"x_scale\":{\"id\":\"1150\",\"type\":\"LinearScale\"},\"y_range\":{\"id\":\"1148\",\"type\":\"DataRange1d\"},\"y_scale\":{\"id\":\"1152\",\"type\":\"LinearScale\"}},\"id\":\"1145\",\"subtype\":\"Figure\",\"type\":\"Plot\"},{\"attributes\":{\"formatter\":{\"id\":\"1185\",\"type\":\"BasicTickFormatter\"},\"plot\":{\"id\":\"1145\",\"subtype\":\"Figure\",\"type\":\"Plot\"},\"ticker\":{\"id\":\"1160\",\"type\":\"BasicTicker\"}},\"id\":\"1159\",\"type\":\"LinearAxis\"},{\"attributes\":{\"plot\":{\"id\":\"1145\",\"subtype\":\"Figure\",\"type\":\"Plot\"},\"ticker\":{\"id\":\"1155\",\"type\":\"BasicTicker\"}},\"id\":\"1158\",\"type\":\"Grid\"},{\"attributes\":{\"source\":{\"id\":\"1166\",\"type\":\"ColumnDataSource\"}},\"id\":\"1171\",\"type\":\"CDSView\"},{\"attributes\":{\"data_source\":{\"id\":\"1166\",\"type\":\"ColumnDataSource\"},\"glyph\":{\"id\":\"1168\",\"type\":\"Circle\"},\"hover_glyph\":null,\"muted_glyph\":null,\"nonselection_glyph\":{\"id\":\"1169\",\"type\":\"Circle\"},\"selection_glyph\":null,\"view\":{\"id\":\"1171\",\"type\":\"CDSView\"}},\"id\":\"1170\",\"type\":\"GlyphRenderer\"},{\"attributes\":{},\"id\":\"1155\",\"type\":\"BasicTicker\"},{\"attributes\":{\"formatter\":{\"id\":\"1183\",\"type\":\"BasicTickFormatter\"},\"plot\":{\"id\":\"1145\",\"subtype\":\"Figure\",\"type\":\"Plot\"},\"ticker\":{\"id\":\"1155\",\"type\":\"BasicTicker\"}},\"id\":\"1154\",\"type\":\"LinearAxis\"},{\"attributes\":{},\"id\":\"1150\",\"type\":\"LinearScale\"},{\"attributes\":{},\"id\":\"1152\",\"type\":\"LinearScale\"},{\"attributes\":{},\"id\":\"1186\",\"type\":\"Selection\"},{\"attributes\":{},\"id\":\"1187\",\"type\":\"UnionRenderers\"},{\"attributes\":{},\"id\":\"1185\",\"type\":\"BasicTickFormatter\"},{\"attributes\":{},\"id\":\"1183\",\"type\":\"BasicTickFormatter\"},{\"attributes\":{\"plot\":null,\"text\":\"\"},\"id\":\"1181\",\"type\":\"Title\"}],\"root_ids\":[\"1145\"]},\"title\":\"Bokeh Application\",\"version\":\"1.0.4\"}};\n",
              "  var render_items = [{\"docid\":\"2ae1a3c2-60f3-4a49-a42b-1c67d1e765f3\",\"roots\":{\"1145\":\"fe7433c2-5d94-4a5e-ab6d-66ee1df0d91b\"}}];\n",
              "  root.Bokeh.embed.embed_items_notebook(docs_json, render_items);\n",
              "\n",
              "  }\n",
              "  if (root.Bokeh !== undefined) {\n",
              "    embed_document(root);\n",
              "  } else {\n",
              "    var attempts = 0;\n",
              "    var timer = setInterval(function(root) {\n",
              "      if (root.Bokeh !== undefined) {\n",
              "        embed_document(root);\n",
              "        clearInterval(timer);\n",
              "      }\n",
              "      attempts++;\n",
              "      if (attempts > 100) {\n",
              "        console.log(\"Bokeh: ERROR: Unable to run BokehJS code because BokehJS library is missing\");\n",
              "        clearInterval(timer);\n",
              "      }\n",
              "    }, 10, root)\n",
              "  }\n",
              "})(window);"
            ],
            "application/vnd.bokehjs_exec.v0+json": ""
          },
          "metadata": {
            "tags": [],
            "application/vnd.bokehjs_exec.v0+json": {
              "id": "1145"
            }
          }
        }
      ]
    },
    {
      "metadata": {
        "id": "x-h3vJ8UcxUb",
        "colab_type": "text"
      },
      "cell_type": "markdown",
      "source": [
        "We showed that for the dataset as a whole, CO2 emissions rise over time. The quantities have to be interpreted with care, for example in the upper right corner, there is a dot whith enormous CO2 emission. However, this is the CO2 emission level for the world as a total. This has to do with the way the dataset of the Worldbank is build, it consists of both countries and groups of countries. Furthermore, the data creates income classes, namely low income, lower middle income, upper middle income and high income."
      ]
    },
    {
      "metadata": {
        "id": "TVlwmO4HHswX",
        "colab_type": "text"
      },
      "cell_type": "markdown",
      "source": [
        "To be able to make a prediction with regard to the climate accord, and to solve for the earlier mentioned difficulties with the dataset, we now isolate the variable for the European Union. To meet our [research question](https://colab.research.google.com/drive/133wjBNYuZQkdMoPheY4JGEmMivVX3ktp#scrollTo=O6MUvjIMJqGR), we must check whether the emission level of 2030 will be 40 percent lower as compared to 1990. \n",
        "First, we start with selecting the data for the European Union and display the first and last 10 rows. "
      ]
    },
    {
      "metadata": {
        "id": "-Pqd-fCAnM4z",
        "colab_type": "code",
        "colab": {}
      },
      "cell_type": "code",
      "source": [
        "indicators={\"EN.ATM.CO2E.KT\":\"CO2_emission\"}\n",
        "countries=[\"EUU\"]\n",
        "df_wb_1=wb.get_dataframe(indicators, country=countries, convert_date=True)"
      ],
      "execution_count": 0,
      "outputs": []
    },
    {
      "metadata": {
        "id": "3pUZklybn4-e",
        "colab_type": "code",
        "outputId": "c3847d07-39ce-4bf5-f53d-787d9b0e40e9",
        "colab": {
          "base_uri": "https://localhost:8080/",
          "height": 386
        }
      },
      "cell_type": "code",
      "source": [
        "df_wb_1.head(10)"
      ],
      "execution_count": 52,
      "outputs": [
        {
          "output_type": "execute_result",
          "data": {
            "text/html": [
              "<div>\n",
              "<style scoped>\n",
              "    .dataframe tbody tr th:only-of-type {\n",
              "        vertical-align: middle;\n",
              "    }\n",
              "\n",
              "    .dataframe tbody tr th {\n",
              "        vertical-align: top;\n",
              "    }\n",
              "\n",
              "    .dataframe thead th {\n",
              "        text-align: right;\n",
              "    }\n",
              "</style>\n",
              "<table border=\"1\" class=\"dataframe\">\n",
              "  <thead>\n",
              "    <tr style=\"text-align: right;\">\n",
              "      <th></th>\n",
              "      <th>CO2_emission</th>\n",
              "    </tr>\n",
              "    <tr>\n",
              "      <th>date</th>\n",
              "      <th></th>\n",
              "    </tr>\n",
              "  </thead>\n",
              "  <tbody>\n",
              "    <tr>\n",
              "      <th>2018-01-01</th>\n",
              "      <td>NaN</td>\n",
              "    </tr>\n",
              "    <tr>\n",
              "      <th>2017-01-01</th>\n",
              "      <td>NaN</td>\n",
              "    </tr>\n",
              "    <tr>\n",
              "      <th>2016-01-01</th>\n",
              "      <td>NaN</td>\n",
              "    </tr>\n",
              "    <tr>\n",
              "      <th>2015-01-01</th>\n",
              "      <td>NaN</td>\n",
              "    </tr>\n",
              "    <tr>\n",
              "      <th>2014-01-01</th>\n",
              "      <td>3241844.353</td>\n",
              "    </tr>\n",
              "    <tr>\n",
              "      <th>2013-01-01</th>\n",
              "      <td>3421472.348</td>\n",
              "    </tr>\n",
              "    <tr>\n",
              "      <th>2012-01-01</th>\n",
              "      <td>3494155.955</td>\n",
              "    </tr>\n",
              "    <tr>\n",
              "      <th>2011-01-01</th>\n",
              "      <td>3568090.009</td>\n",
              "    </tr>\n",
              "    <tr>\n",
              "      <th>2010-01-01</th>\n",
              "      <td>3709775.555</td>\n",
              "    </tr>\n",
              "    <tr>\n",
              "      <th>2009-01-01</th>\n",
              "      <td>3601566.052</td>\n",
              "    </tr>\n",
              "  </tbody>\n",
              "</table>\n",
              "</div>"
            ],
            "text/plain": [
              "            CO2_emission\n",
              "date                    \n",
              "2018-01-01           NaN\n",
              "2017-01-01           NaN\n",
              "2016-01-01           NaN\n",
              "2015-01-01           NaN\n",
              "2014-01-01   3241844.353\n",
              "2013-01-01   3421472.348\n",
              "2012-01-01   3494155.955\n",
              "2011-01-01   3568090.009\n",
              "2010-01-01   3709775.555\n",
              "2009-01-01   3601566.052"
            ]
          },
          "metadata": {
            "tags": []
          },
          "execution_count": 52
        }
      ]
    },
    {
      "metadata": {
        "id": "AbbeGHF17xX1",
        "colab_type": "code",
        "outputId": "78dc0c2c-1b55-401c-a2ba-2574105eceaf",
        "colab": {
          "base_uri": "https://localhost:8080/",
          "height": 386
        }
      },
      "cell_type": "code",
      "source": [
        "df_wb_1.tail(10)"
      ],
      "execution_count": 53,
      "outputs": [
        {
          "output_type": "execute_result",
          "data": {
            "text/html": [
              "<div>\n",
              "<style scoped>\n",
              "    .dataframe tbody tr th:only-of-type {\n",
              "        vertical-align: middle;\n",
              "    }\n",
              "\n",
              "    .dataframe tbody tr th {\n",
              "        vertical-align: top;\n",
              "    }\n",
              "\n",
              "    .dataframe thead th {\n",
              "        text-align: right;\n",
              "    }\n",
              "</style>\n",
              "<table border=\"1\" class=\"dataframe\">\n",
              "  <thead>\n",
              "    <tr style=\"text-align: right;\">\n",
              "      <th></th>\n",
              "      <th>CO2_emission</th>\n",
              "    </tr>\n",
              "    <tr>\n",
              "      <th>date</th>\n",
              "      <th></th>\n",
              "    </tr>\n",
              "  </thead>\n",
              "  <tbody>\n",
              "    <tr>\n",
              "      <th>1969-01-01</th>\n",
              "      <td>3.520601e+06</td>\n",
              "    </tr>\n",
              "    <tr>\n",
              "      <th>1968-01-01</th>\n",
              "      <td>3.317199e+06</td>\n",
              "    </tr>\n",
              "    <tr>\n",
              "      <th>1967-01-01</th>\n",
              "      <td>3.135495e+06</td>\n",
              "    </tr>\n",
              "    <tr>\n",
              "      <th>1966-01-01</th>\n",
              "      <td>3.066068e+06</td>\n",
              "    </tr>\n",
              "    <tr>\n",
              "      <th>1965-01-01</th>\n",
              "      <td>2.977006e+06</td>\n",
              "    </tr>\n",
              "    <tr>\n",
              "      <th>1964-01-01</th>\n",
              "      <td>2.879590e+06</td>\n",
              "    </tr>\n",
              "    <tr>\n",
              "      <th>1963-01-01</th>\n",
              "      <td>2.763661e+06</td>\n",
              "    </tr>\n",
              "    <tr>\n",
              "      <th>1962-01-01</th>\n",
              "      <td>2.587256e+06</td>\n",
              "    </tr>\n",
              "    <tr>\n",
              "      <th>1961-01-01</th>\n",
              "      <td>2.445946e+06</td>\n",
              "    </tr>\n",
              "    <tr>\n",
              "      <th>1960-01-01</th>\n",
              "      <td>2.359595e+06</td>\n",
              "    </tr>\n",
              "  </tbody>\n",
              "</table>\n",
              "</div>"
            ],
            "text/plain": [
              "            CO2_emission\n",
              "date                    \n",
              "1969-01-01  3.520601e+06\n",
              "1968-01-01  3.317199e+06\n",
              "1967-01-01  3.135495e+06\n",
              "1966-01-01  3.066068e+06\n",
              "1965-01-01  2.977006e+06\n",
              "1964-01-01  2.879590e+06\n",
              "1963-01-01  2.763661e+06\n",
              "1962-01-01  2.587256e+06\n",
              "1961-01-01  2.445946e+06\n",
              "1960-01-01  2.359595e+06"
            ]
          },
          "metadata": {
            "tags": []
          },
          "execution_count": 53
        }
      ]
    },
    {
      "metadata": {
        "id": "UpU8r-1XoR81",
        "colab_type": "code",
        "outputId": "fc3cf48a-c03c-4e63-8883-d2eeaf3d5182",
        "colab": {
          "base_uri": "https://localhost:8080/",
          "height": 379
        }
      },
      "cell_type": "code",
      "source": [
        "df_wb_1.plot()\n",
        "plt.ylabel('CO2 emission European Union in kiloton')\n",
        "plt.xlabel('year')"
      ],
      "execution_count": 54,
      "outputs": [
        {
          "output_type": "execute_result",
          "data": {
            "text/plain": [
              "Text(0.5,0,'year')"
            ]
          },
          "metadata": {
            "tags": []
          },
          "execution_count": 54
        },
        {
          "output_type": "display_data",
          "data": {
            "image/png": "[encoded data removed]",
            "text/plain": [
              "<Figure size 576x396 with 1 Axes>"
            ]
          },
          "metadata": {
            "tags": []
          }
        }
      ]
    },
    {
      "metadata": {
        "id": "TxKj1IVTplDY",
        "colab_type": "text"
      },
      "cell_type": "markdown",
      "source": [
        "By looking at this graph, in contrast to the worldwide data, the CO2 emission level at the EU level is already falling. The decrease in CO2 emissions in the EU over the last decades can be explained by the fact that the Europe is a relatively high developed continent, compared to other continents like Africa or Asia. As a high developed continent, Europe has a large service sector and a small industrial sector. In contrast, developing continents like Asia still have a large industrial sector, which might explain why CO2 emission levels are higher. Furthermore, the graph shows a sharp decline of emissions at the start of the economic crisis in 2007. Because of the economic crisis, [industrial activity slowed down](https://ec.europa.eu/eurostat/statistics-explained/pdfscache/1180.pdf). Consequently, CO2 emissions were reduced. Now we are going to predict whether the target will be reached. "
      ]
    },
    {
      "metadata": {
        "id": "LKF3zkXFNDle",
        "colab_type": "text"
      },
      "cell_type": "markdown",
      "source": [
        "**Prediction**"
      ]
    },
    {
      "metadata": {
        "id": "14KGAlBuCVty",
        "colab_type": "text"
      },
      "cell_type": "markdown",
      "source": [
        "We are going the predict the EU wide level of CO2 emission. We start we a naive prediction inspired by an [example](https://machinelearningmastery.com/time-series-forecast-study-python-monthly-sales-french-champagne/) about predicting the level of sales of champagne."
      ]
    },
    {
      "metadata": {
        "id": "NZ1seI4C74ZB",
        "colab_type": "code",
        "colab": {}
      },
      "cell_type": "code",
      "source": [
        "import scipy as sc\n",
        "import sklearn as sk\n",
        "import statsmodels as st"
      ],
      "execution_count": 0,
      "outputs": []
    },
    {
      "metadata": {
        "id": "kWJQ0olOpGCP",
        "colab_type": "text"
      },
      "cell_type": "markdown",
      "source": [
        "The dataset needs to be adapted, it consists of empty cells for the period 2015-2017. This is solved by dropping the first three rows of the dataset."
      ]
    },
    {
      "metadata": {
        "id": "jFurE_zVFJvU",
        "colab_type": "code",
        "colab": {}
      },
      "cell_type": "code",
      "source": [
        "df_wb_1.drop(df_wb_1.index[:3], inplace=True)"
      ],
      "execution_count": 0,
      "outputs": []
    },
    {
      "metadata": {
        "id": "0zyv-EC7GyXo",
        "colab_type": "code",
        "outputId": "bd253ec8-c76c-41a3-f81a-3bf3415be0dd",
        "colab": {
          "base_uri": "https://localhost:8080/",
          "height": 386
        }
      },
      "cell_type": "code",
      "source": [
        "df_wb_1.head(10)"
      ],
      "execution_count": 57,
      "outputs": [
        {
          "output_type": "execute_result",
          "data": {
            "text/html": [
              "<div>\n",
              "<style scoped>\n",
              "    .dataframe tbody tr th:only-of-type {\n",
              "        vertical-align: middle;\n",
              "    }\n",
              "\n",
              "    .dataframe tbody tr th {\n",
              "        vertical-align: top;\n",
              "    }\n",
              "\n",
              "    .dataframe thead th {\n",
              "        text-align: right;\n",
              "    }\n",
              "</style>\n",
              "<table border=\"1\" class=\"dataframe\">\n",
              "  <thead>\n",
              "    <tr style=\"text-align: right;\">\n",
              "      <th></th>\n",
              "      <th>CO2_emission</th>\n",
              "    </tr>\n",
              "    <tr>\n",
              "      <th>date</th>\n",
              "      <th></th>\n",
              "    </tr>\n",
              "  </thead>\n",
              "  <tbody>\n",
              "    <tr>\n",
              "      <th>2015-01-01</th>\n",
              "      <td>NaN</td>\n",
              "    </tr>\n",
              "    <tr>\n",
              "      <th>2014-01-01</th>\n",
              "      <td>3241844.353</td>\n",
              "    </tr>\n",
              "    <tr>\n",
              "      <th>2013-01-01</th>\n",
              "      <td>3421472.348</td>\n",
              "    </tr>\n",
              "    <tr>\n",
              "      <th>2012-01-01</th>\n",
              "      <td>3494155.955</td>\n",
              "    </tr>\n",
              "    <tr>\n",
              "      <th>2011-01-01</th>\n",
              "      <td>3568090.009</td>\n",
              "    </tr>\n",
              "    <tr>\n",
              "      <th>2010-01-01</th>\n",
              "      <td>3709775.555</td>\n",
              "    </tr>\n",
              "    <tr>\n",
              "      <th>2009-01-01</th>\n",
              "      <td>3601566.052</td>\n",
              "    </tr>\n",
              "    <tr>\n",
              "      <th>2008-01-01</th>\n",
              "      <td>3915303.571</td>\n",
              "    </tr>\n",
              "    <tr>\n",
              "      <th>2007-01-01</th>\n",
              "      <td>4003410.580</td>\n",
              "    </tr>\n",
              "    <tr>\n",
              "      <th>2006-01-01</th>\n",
              "      <td>4071767.127</td>\n",
              "    </tr>\n",
              "  </tbody>\n",
              "</table>\n",
              "</div>"
            ],
            "text/plain": [
              "            CO2_emission\n",
              "date                    \n",
              "2015-01-01           NaN\n",
              "2014-01-01   3241844.353\n",
              "2013-01-01   3421472.348\n",
              "2012-01-01   3494155.955\n",
              "2011-01-01   3568090.009\n",
              "2010-01-01   3709775.555\n",
              "2009-01-01   3601566.052\n",
              "2008-01-01   3915303.571\n",
              "2007-01-01   4003410.580\n",
              "2006-01-01   4071767.127"
            ]
          },
          "metadata": {
            "tags": []
          },
          "execution_count": 57
        }
      ]
    },
    {
      "metadata": {
        "id": "pK-m8dPRIjiN",
        "colab_type": "text"
      },
      "cell_type": "markdown",
      "source": [
        "*Naive prediction*\n",
        "\n",
        "Next, we start with preparing the dataset for the naive forecast. The naive forecast is a baseline prediction with which more elaborate predictions are compared with. This naive way of predicting uses the data of the previous period for the prediction for the next period, and predicts the average outcome to get a naive of baseline forecast.\n"
      ]
    },
    {
      "metadata": {
        "id": "pg9u-uvCZr0W",
        "colab_type": "text"
      },
      "cell_type": "markdown",
      "source": [
        "Next, we run the naive model, with both a train and a test set, who both consists of half of the data. This code displays both the predicted value by the model and the expected value, so the real values in the test dataset. We also calculate the RMSE (root-mean-square deviation), to see how well the model fits."
      ]
    },
    {
      "metadata": {
        "id": "yxvo-NXS8B9f",
        "colab_type": "code",
        "outputId": "03ca1aac-559b-493f-80ae-c0711f04bf99",
        "colab": {
          "base_uri": "https://localhost:8080/",
          "height": 520
        }
      },
      "cell_type": "code",
      "source": [
        "from sklearn.metrics import mean_squared_error\n",
        "from math import sqrt\n",
        "\n",
        "X = df_wb_1.values\n",
        "X = X.astype('float32')\n",
        "train_size = int(len(X) * 0.50)\n",
        "train, test = X[0:train_size], X[train_size:]\n",
        "\n",
        "history = [x for x in train]\n",
        "predictions = list()\n",
        "for i in range(len(test)):\n",
        "\t\n",
        "\tyhat = history[-1]\n",
        "\tpredictions.append(yhat)\n",
        "\t\n",
        "\tobs = test[i]\n",
        "\thistory.append(obs)\n",
        "\tprint('>Predicted=%.3f, Expected=%3.f' % (yhat, obs))\n",
        "\n",
        "mse = mean_squared_error(test, predictions)\n",
        "rmse = sqrt(mse)\n",
        "print('RMSE: %.3f' % rmse)"
      ],
      "execution_count": 58,
      "outputs": [
        {
          "output_type": "stream",
          "text": [
            ">Predicted=4202996.500, Expected=4258990\n",
            ">Predicted=4258990.000, Expected=4179574\n",
            ">Predicted=4179574.000, Expected=4189512\n",
            ">Predicted=4189511.500, Expected=4084429\n",
            ">Predicted=4084428.750, Expected=4111986\n",
            ">Predicted=4111986.250, Expected=4171917\n",
            ">Predicted=4171917.000, Expected=4266013\n",
            ">Predicted=4266013.000, Expected=4518359\n",
            ">Predicted=4518359.000, Expected=4647644\n",
            ">Predicted=4647644.000, Expected=4457561\n",
            ">Predicted=4457561.000, Expected=4315908\n",
            ">Predicted=4315908.000, Expected=4331570\n",
            ">Predicted=4331569.500, Expected=4065318\n",
            ">Predicted=4065317.500, Expected=4142868\n",
            ">Predicted=4142868.500, Expected=4203896\n",
            ">Predicted=4203895.500, Expected=3999496\n",
            ">Predicted=3999496.000, Expected=3846742\n",
            ">Predicted=3846742.000, Expected=3753441\n",
            ">Predicted=3753440.750, Expected=3520601\n",
            ">Predicted=3520600.750, Expected=3317199\n",
            ">Predicted=3317198.750, Expected=3135495\n",
            ">Predicted=3135494.750, Expected=3066068\n",
            ">Predicted=3066068.250, Expected=2977006\n",
            ">Predicted=2977005.750, Expected=2879590\n",
            ">Predicted=2879590.500, Expected=2763661\n",
            ">Predicted=2763661.250, Expected=2587256\n",
            ">Predicted=2587256.000, Expected=2445946\n",
            ">Predicted=2445945.750, Expected=2359595\n",
            "RMSE: 139885.056\n"
          ],
          "name": "stdout"
        }
      ]
    },
    {
      "metadata": {
        "id": "YZqa5yoObR2w",
        "colab_type": "text"
      },
      "cell_type": "markdown",
      "source": [
        "The RMSE is about 139885. This means for each prediction, the model is 139885 kiloton CO2 emission wrong. "
      ]
    },
    {
      "metadata": {
        "id": "jw0amhE5beOk",
        "colab_type": "text"
      },
      "cell_type": "markdown",
      "source": [
        "*Optimal ARIMA model*"
      ]
    },
    {
      "metadata": {
        "id": "UtPEVN_sbp5k",
        "colab_type": "text"
      },
      "cell_type": "markdown",
      "source": [
        "Next, we use the [ARIMA model](https://www.digitalocean.com/community/tutorials/a-guide-to-time-series-forecasting-with-arima-in-python-3). The ARIMA (AutoRegressive Integrated Moving Average) model is one of the most used model in time series forecasting. \n",
        "\n",
        "\n"
      ]
    },
    {
      "metadata": {
        "id": "ElbRaozlbyNC",
        "colab_type": "text"
      },
      "cell_type": "markdown",
      "source": [
        "We start with preparing the data for the model. The data is divided in both a dataset and a validation set. The validation set is used for checking how well the model performs, after building it with making use of the dataset. We choose to use the period 1960-1999 for the dataset, and 2000-2014 for the validation set. "
      ]
    },
    {
      "metadata": {
        "id": "JEXlKQoR6lHq",
        "colab_type": "code",
        "outputId": "a1766e7f-67c2-485c-e6da-df4aa51e16d6",
        "colab": {
          "base_uri": "https://localhost:8080/",
          "height": 35
        }
      },
      "cell_type": "code",
      "source": [
        "split_point = len(df_wb_1) - 15\n",
        "dataset, validation = df_wb_1[0:split_point], df_wb_1[split_point:]\n",
        "print('Dataset %d, Validation %d' % (len(dataset), len(validation)))\n",
        "dataset.to_csv('dataset.csv')\n",
        "validation.to_csv('validation.csv')"
      ],
      "execution_count": 59,
      "outputs": [
        {
          "output_type": "stream",
          "text": [
            "Dataset 41, Validation 15\n"
          ],
          "name": "stdout"
        }
      ]
    },
    {
      "metadata": {
        "id": "u-OhDRlFcVbI",
        "colab_type": "text"
      },
      "cell_type": "markdown",
      "source": [
        "The division went well, 40 observations are included in the dataset, and 15 in the validation set which makes 55 observations in total."
      ]
    },
    {
      "metadata": {
        "id": "rUkSn6ufljSN",
        "colab_type": "text"
      },
      "cell_type": "markdown",
      "source": [
        "Making use of the following [example](https://machinelearningmastery.com/time-series-forecast-study-python-annual-water-usage-baltimore/), we are going to search for the optimal ARIMA parameters for our model. The code evaluates ARIMA models with different parameters and looks for the optimal combination of parameters by making use of our observations. The values of the parameters have to be in a certain range. P has to be between 0 and 5, d between 0 and 3, and q between 0 and 5. "
      ]
    },
    {
      "metadata": {
        "id": "iLgCd2ZDzByC",
        "colab_type": "code",
        "outputId": "1834cb41-a23e-432a-d7e1-5f755b148b1d",
        "colab": {
          "base_uri": "https://localhost:8080/",
          "height": 35
        }
      },
      "cell_type": "code",
      "source": [
        "import warnings\n",
        "from statsmodels.tsa.arima_model import ARIMA\n",
        "from sklearn.metrics import mean_squared_error\n",
        "\n",
        "def evaluate_arima_model(X, arima_order):\n",
        "\t\n",
        "\tX = df_wb_1.astype('float32')\n",
        "\ttrain_size = int(len(X) * 0.50)\n",
        "\ttrain, test = X[0:train_size], X[train_size:]\n",
        "\thistory = [x for x in train]\n",
        "\t\n",
        "\tpredictions = list()\n",
        "\tfor t in range(len(test)):\n",
        "\t\tmodel = ARIMA(history, order=arima_order)\n",
        "\t\t\n",
        "\t\tmodel_fit = model.fit(trend='nc', disp=0)\n",
        "\t\tyhat = model_fit.forecast()[0]\n",
        "\t\tpredictions.append(yhat)\n",
        "\t\thistory.append(test[t])\n",
        "\n",
        "\tmse = mean_squared_error(test, predictions)\n",
        "\trmse = sqrt(mse)\n",
        "\treturn rmse\n",
        "\n",
        "def evaluate_models(dataset, p_values, d_values, q_values):\n",
        "\tdataset = dataset.astype('float32')\n",
        "\tbest_score, best_cfg = float(\"inf\"), None\n",
        "\tfor p in p_values:\n",
        "\t\tfor d in d_values:\n",
        "\t\t\tfor q in q_values:\n",
        "\t\t\t\torder = (p,d,q)\n",
        "\t\t\t\ttry:\n",
        "\t\t\t\t\tmse = evaluate_arima_model(dataset, order)\n",
        "\t\t\t\t\tif mse < best_score:\n",
        "\t\t\t\t\t\tbest_score, best_cfg = mse, order\n",
        "\t\t\t\t\tprint('ARIMA%s RMSE=%.3f' % (order,mse))\n",
        "\t\t\t\texcept:\n",
        "\t\t\t\t\tcontinue\n",
        "\tprint('Best ARIMA%s RMSE=%.3f' % (best_cfg, best_score))\n",
        " \n",
        "p_values = range(0, 5)\n",
        "d_values = range(0, 3)\n",
        "q_values = range(0, 5)\n",
        "warnings.filterwarnings(\"ignore\")\n",
        "evaluate_models(df_wb_1.values, p_values, d_values, q_values)"
      ],
      "execution_count": 60,
      "outputs": [
        {
          "output_type": "stream",
          "text": [
            "Best ARIMANone RMSE=inf\n"
          ],
          "name": "stdout"
        }
      ]
    },
    {
      "metadata": {
        "id": "3jh-OBbKDYp1",
        "colab_type": "text"
      },
      "cell_type": "markdown",
      "source": [
        "Unfortunately, we do not find an optimal model is this way, so we figure it out manually. First, for ARIMA, stationary data is assumed. However, in general time series data is often non-stationary, which means there is a trend or seasonality. We perform an Augmented Dickey Fuller test to see whether our dataset is stationary. The null hypothesis of this test is that the dataset is non-stationary. Before we perform the test, we have to drop the cells empty cells. "
      ]
    },
    {
      "metadata": {
        "id": "j0oDeiEhHVPy",
        "colab_type": "code",
        "outputId": "dec5e30f-eab6-4107-8e03-1ca03960bc5a",
        "colab": {
          "base_uri": "https://localhost:8080/",
          "height": 121
        }
      },
      "cell_type": "code",
      "source": [
        "from statsmodels.tsa.stattools import adfuller\n",
        "df_wb_1.dropna(inplace=True)\n",
        "\n",
        "X = df_wb_1['CO2_emission'].values\n",
        "result = adfuller(X)\n",
        "print('ADF Statistic: %f' % result[0])\n",
        "print('p-value: %f' % result[1])\n",
        "print('Critical Values:')\n",
        "for key, value in result[4].items():\n",
        "\tprint('\\t%s: %.3f' % (key, value))"
      ],
      "execution_count": 61,
      "outputs": [
        {
          "output_type": "stream",
          "text": [
            "ADF Statistic: 1.095357\n",
            "p-value: 0.995177\n",
            "Critical Values:\n",
            "\t5%: -2.917\n",
            "\t1%: -3.558\n",
            "\t10%: -2.596\n"
          ],
          "name": "stdout"
        }
      ]
    },
    {
      "metadata": {
        "id": "SKLxuDXkPNxb",
        "colab_type": "text"
      },
      "cell_type": "markdown",
      "source": [
        "By looking at the p-value of this test, we cannot reject the null hypothesis, and it is likely that our dataset is non-stationary. We therefore choose the first parameter in our ARIMA model (the p) as a 1. We do not choose a higher number because although our dataset is non-stationary, it is not likely that seasonality is present because we work with annual data. "
      ]
    },
    {
      "metadata": {
        "id": "Kfkd4M_9vtaP",
        "colab_type": "text"
      },
      "cell_type": "markdown",
      "source": [
        "For the other parameters of the ARIMA model, we use two graphs, one for autocorrelation and one for partial autocorrelation. "
      ]
    },
    {
      "metadata": {
        "id": "8F6etgBysart",
        "colab_type": "code",
        "outputId": "9c9e9b11-c863-438d-aec4-14c26b464175",
        "colab": {
          "base_uri": "https://localhost:8080/",
          "height": 363
        }
      },
      "cell_type": "code",
      "source": [
        "from statsmodels.graphics.tsaplots import plot_acf\n",
        "from statsmodels.graphics.tsaplots import plot_pacf\n",
        "from matplotlib import pyplot\n",
        "\n",
        "pyplot.figure()\n",
        "pyplot.subplot(211)\n",
        "plot_acf(df_wb_1, ax=pyplot.gca())\n",
        "pyplot.subplot(212)\n",
        "plot_pacf(df_wb_1, ax=pyplot.gca())\n",
        "pyplot.show()"
      ],
      "execution_count": 62,
      "outputs": [
        {
          "output_type": "display_data",
          "data": {
            "image/png": "[encoded data removed]",
            "text/plain": [
              "<Figure size 576x396 with 2 Axes>"
            ]
          },
          "metadata": {
            "tags": []
          }
        }
      ]
    },
    {
      "metadata": {
        "id": "C6RGEZaDxOF8",
        "colab_type": "text"
      },
      "cell_type": "markdown",
      "source": [
        "If we compare these graphs to [this example](https://machinelearningmastery.com/time-series-forecast-study-python-annual-water-usage-baltimore/), we assume that we need to correct for autocorrelation, when looking at the first graph. The second graph can be used as a way to see whether there is seasonality. In this case, the data is yearly, and seasonality would not be an issue. So, the resulting ARIMA model might have the parameters (1,1,0)."
      ]
    },
    {
      "metadata": {
        "id": "xNsRGrdg-0HO",
        "colab_type": "text"
      },
      "cell_type": "markdown",
      "source": [
        "Additional to the ARIMA model, we add for the model trend=nc, this means that trend is not constant, which we expect from our graph. \n",
        "However, simply running the ARIMA model like the next code is not enough. We have to correct for a bias, like in the previous mentioned [example](https://machinelearningmastery.com/time-series-forecast-study-python-annual-water-usage-baltimore/). This bias is calculated as the mean of the residuals. The residuals are the difference between the observed values and the estimated values. "
      ]
    },
    {
      "metadata": {
        "id": "JbgC9bX-CMDl",
        "colab_type": "text"
      },
      "cell_type": "markdown",
      "source": [
        "Starting from this point, some codes included a part for ignoring several warnings, they are irrelevant for this research. "
      ]
    },
    {
      "metadata": {
        "id": "XOjKBfrM-HFA",
        "colab_type": "code",
        "outputId": "2ea8fa10-c323-43f3-e63b-2316c6059cad",
        "colab": {
          "base_uri": "https://localhost:8080/",
          "height": 173
        }
      },
      "cell_type": "code",
      "source": [
        "from pandas import DataFrame\n",
        "from sklearn.metrics import mean_squared_error\n",
        "from statsmodels.tsa.arima_model import ARIMA\n",
        "from math import sqrt\n",
        "\n",
        "import warnings\n",
        "warnings.filterwarnings(\"ignore\")\n",
        "\n",
        "X = df_wb_1.values\n",
        "X = X.astype('float32')\n",
        "train_size = int(len(X) * 0.50)\n",
        "train, test = X[0:train_size], X[train_size:]\n",
        "\n",
        "history = [x for x in train]\n",
        "predictions = list()\n",
        "for i in range(len(test)):\n",
        "\n",
        "\tmodel = ARIMA(history, order=(1,1,0))\n",
        "\tmodel_fit = model.fit(trend='nc', disp=0)\n",
        "\tyhat = model_fit.forecast()[0]\n",
        "\tpredictions.append(yhat)\n",
        "\n",
        "\tobs = test[i]\n",
        "\thistory.append(obs)\n",
        "\n",
        "residuals = [test[i]-predictions[i] for i in range(len(test))]\n",
        "residuals = DataFrame(residuals)\n",
        "print(residuals.describe())"
      ],
      "execution_count": 63,
      "outputs": [
        {
          "output_type": "stream",
          "text": [
            "                   0\n",
            "count      28.000000\n",
            "mean   -55680.228195\n",
            "std    123274.267497\n",
            "min   -267147.470520\n",
            "25%   -148860.867479\n",
            "50%    -76258.964200\n",
            "75%     30327.246300\n",
            "max    261212.428277\n"
          ],
          "name": "stdout"
        }
      ]
    },
    {
      "metadata": {
        "id": "Cx43TIEQ8Nuq",
        "colab_type": "text"
      },
      "cell_type": "markdown",
      "source": [
        "The mean of the residuals is about -55680, so we take this value as the bias of our model."
      ]
    },
    {
      "metadata": {
        "id": "I-NFma7QAJq7",
        "colab_type": "text"
      },
      "cell_type": "markdown",
      "source": [
        "The following code is one way of running the model, including the calculated bias (so the mean of the residuals). However, for saving the model, there is a bug, so we have to create a path around it, which is the first part of the code. The rest is the creation of the ARIMA model with the parameters (1,1,0) and our dataset. The created model will be saved."
      ]
    },
    {
      "metadata": {
        "id": "sAhmagRKxvpl",
        "colab_type": "code",
        "colab": {}
      },
      "cell_type": "code",
      "source": [
        "from statsmodels.tsa.arima_model import ARIMA\n",
        "from scipy.stats import boxcox\n",
        "import numpy\n",
        "\n",
        "warnings.filterwarnings(\"ignore\")\n",
        "\n",
        "def __getnewargs__(self):\n",
        "\treturn ((self.endog),(self.k_lags, self.k_diff, self.k_ma))\n",
        " \n",
        "ARIMA.__getnewargs__ = __getnewargs__\n",
        "\n",
        "X = df_wb_1.values\n",
        "X = X.astype('float32')\n",
        "\n",
        "model = ARIMA(X, order=(1,1,0))\n",
        "model_fit = model.fit(trend='nc', disp=0)\n",
        "\n",
        "bias = -55680\n",
        "\n",
        "model_fit.save('model.pkl')\n",
        "numpy.save('model_bias.npy', [bias])"
      ],
      "execution_count": 0,
      "outputs": []
    },
    {
      "metadata": {
        "id": "4GG2gEoMBCCT",
        "colab_type": "text"
      },
      "cell_type": "markdown",
      "source": [
        "An example of what we are able to do now is to load our model and to predict one period in the future, based on a prediction and the bias. "
      ]
    },
    {
      "metadata": {
        "id": "TkFBwYvK-qw0",
        "colab_type": "code",
        "outputId": "0087c29b-e3df-4d2e-e49f-f052a9be633e",
        "colab": {
          "base_uri": "https://localhost:8080/",
          "height": 35
        }
      },
      "cell_type": "code",
      "source": [
        "warnings.filterwarnings(\"ignore\")\n",
        "from statsmodels.tsa.arima_model import ARIMAResults\n",
        "\n",
        "model_fit = ARIMAResults.load('model.pkl')\n",
        "bias = numpy.load('model_bias.npy')\n",
        "yhat = bias + float(model_fit.forecast()[0])\n",
        "print('Predicted: %.3f' % yhat)\n"
      ],
      "execution_count": 65,
      "outputs": [
        {
          "output_type": "stream",
          "text": [
            "Predicted: 2278999.538\n"
          ],
          "name": "stdout"
        }
      ]
    },
    {
      "metadata": {
        "id": "3EMFi7qjCP45",
        "colab_type": "text"
      },
      "cell_type": "markdown",
      "source": [
        "However, it is not finished yet, the model needs to be validated using the dataset and the validationset, which were seperated earlier. We include this data and load our created model. However, we start with transforming our data in a dataframe. Next, predictions are created which can be compared to the expected values, as long as the number of predictions is between one and the length of the validation set, 15 . We also calculate the RMSE."
      ]
    },
    {
      "metadata": {
        "id": "s7j97kyOCVK4",
        "colab_type": "code",
        "outputId": "03e0c9ad-dea8-438a-ef6a-acbc8dc874ab",
        "colab": {
          "base_uri": "https://localhost:8080/",
          "height": 625
        }
      },
      "cell_type": "code",
      "source": [
        "from statsmodels.tsa.arima_model import ARIMAResults\n",
        "from sklearn.metrics import mean_squared_error\n",
        "from matplotlib import pyplot\n",
        "from math import sqrt\n",
        "\n",
        "def difference(dataset):\n",
        "        diff = list()\n",
        "        for i in range(1, len(dataset)):\n",
        "                value = dataset[i] - dataset[i - 1]\n",
        "                diff.append(value)\n",
        "        return diff\n",
        "\n",
        "\n",
        "X = df_wb_1.values\n",
        "X = X.astype('float32')\n",
        "\n",
        "stationary = difference(X)\n",
        "\n",
        "df_X = pd.DataFrame({'year': df_wb_1.index.values, 'X':X.flatten()})\n",
        "\n",
        "validation = df_wb_1.from_csv('validation.csv')\n",
        "\n",
        "\n",
        "def difference(validation):\n",
        "        diff = list()\n",
        "        for i in range(1, len(validation)):\n",
        "                value = validation[i] - validation[i - 1]\n",
        "                diff.append(value)\n",
        "        return diff\n",
        "\n",
        "y = validation.values\n",
        "y = y.astype('float32')\n",
        "      \n",
        "stationary = difference(y)\n",
        "\n",
        "df_y = pd.DataFrame({'year': validation.index.values, 'y':y.flatten()})\n",
        "\n",
        "history = [x for x in X]\n",
        "\n",
        "model_fit = ARIMAResults.load('model.pkl')\n",
        "bias = numpy.load('model_bias.npy')\n",
        "\n",
        "predictions = list()\n",
        "yhat = bias + float(model_fit.forecast()[0])\n",
        "predictions.append(yhat)\n",
        "history.append(y[0])\n",
        "print('>Predicted=%.3f, Expected=%3.f' % (yhat, y[0]))\n",
        "\n",
        "for i in range(1, len(y)):\n",
        "  model = ARIMA(history, order=(1,1,0))\n",
        "  model_fit = model.fit(trend='nc', disp=0)\n",
        "  yhat = bias + float(model_fit.forecast()[0])\n",
        "  predictions.append(yhat)\n",
        "\t\n",
        "  obs=y[i]\n",
        "  history.append(obs)\n",
        "  print('>Predicted=%.3f, Expected=%3.f' % (yhat, obs))\n",
        "\n",
        "mse = mean_squared_error(y, predictions)\n",
        "rmse = sqrt(mse)\n",
        "print('RMSE: %.3f' % rmse)\n",
        "pyplot.plot(y)\n",
        "pyplot.plot(predictions, color='red')\n",
        "pyplot.show()\n"
      ],
      "execution_count": 66,
      "outputs": [
        {
          "output_type": "stream",
          "text": [
            ">Predicted=2278999.538, Expected=4142868\n",
            ">Predicted=4260634.509, Expected=4203896\n",
            ">Predicted=4151156.709, Expected=3999496\n",
            ">Predicted=3934596.764, Expected=3846742\n",
            ">Predicted=3783084.680, Expected=3753441\n",
            ">Predicted=3692593.857, Expected=3520601\n",
            ">Predicted=3450835.816, Expected=3317199\n",
            ">Predicted=3247083.943, Expected=3135495\n",
            ">Predicted=3065463.945, Expected=3066068\n",
            ">Predicted=3004741.505, Expected=2977006\n",
            ">Predicted=2913960.048, Expected=2879590\n",
            ">Predicted=2815670.410, Expected=2763661\n",
            ">Predicted=2697890.689, Expected=2587256\n",
            ">Predicted=2515431.752, Expected=2445946\n",
            ">Predicted=2376613.583, Expected=2359595\n",
            "RMSE: 489266.900\n"
          ],
          "name": "stdout"
        },
        {
          "output_type": "display_data",
          "data": {
            "image/png": "[encoded data removed]",
            "text/plain": [
              "<Figure size 576x396 with 1 Axes>"
            ]
          },
          "metadata": {
            "tags": []
          }
        }
      ]
    },
    {
      "metadata": {
        "id": "PCH1RWUkzGGM",
        "colab_type": "text"
      },
      "cell_type": "markdown",
      "source": [
        "The lines of the graph follow the same trend so the fit of our model looks quite nice. However, a remark must be made. The RMSE of about 489267 is higher compared to the naive forecast. "
      ]
    },
    {
      "metadata": {
        "id": "NmzLKk3iyJWJ",
        "colab_type": "text"
      },
      "cell_type": "markdown",
      "source": [
        "*Out of sample forecast*"
      ]
    },
    {
      "metadata": {
        "id": "Ac1Udm0TEWp2",
        "colab_type": "text"
      },
      "cell_type": "markdown",
      "source": [
        "Now we have found our model, we are going to predict the CO2 emission level of 2030. We load our created model and do a forecast with 16 steps, from the last year of our dataset (2014) until 2030."
      ]
    },
    {
      "metadata": {
        "id": "NW3pLWHFejCH",
        "colab_type": "code",
        "colab": {
          "base_uri": "https://localhost:8080/",
          "height": 87
        },
        "outputId": "2396563b-ff32-4170-8b92-ece8cdbd41a3"
      },
      "cell_type": "code",
      "source": [
        "model_fit = ARIMAResults.load('model.pkl')\n",
        "bias = numpy.load('model_bias.npy')\n",
        "forecast = model_fit.forecast(steps=16)[0]\n",
        "print (forecast)\n"
      ],
      "execution_count": 67,
      "outputs": [
        {
          "output_type": "stream",
          "text": [
            "[2334679.53800977 2327490.48352922 2325416.16901943 2324817.65071676\n",
            " 2324644.955517   2324595.12641088 2324580.74882644 2324576.60034876\n",
            " 2324575.40335583 2324575.05797803 2324574.95832345 2324574.92956933\n",
            " 2324574.92127268 2324574.91887878 2324574.91818805 2324574.91798875]\n"
          ],
          "name": "stdout"
        }
      ]
    },
    {
      "metadata": {
        "id": "yHe0pUjWFbwP",
        "colab_type": "text"
      },
      "cell_type": "markdown",
      "source": [
        "According to the predictions of our model, the level of CO2 emission in 2030 will be about 2324575 kiloton. "
      ]
    },
    {
      "metadata": {
        "id": "2ik1mchL1Mn1",
        "colab_type": "code",
        "colab": {
          "base_uri": "https://localhost:8080/",
          "height": 69
        },
        "outputId": "aad3c18c-1155-49eb-fa2e-d93291f83e65"
      },
      "cell_type": "code",
      "source": [
        "df_wb_1['1990-01-01'].describe"
      ],
      "execution_count": 68,
      "outputs": [
        {
          "output_type": "execute_result",
          "data": {
            "text/plain": [
              "<bound method DataFrame.describe of             CO2_emission\n",
              "date                    \n",
              "1990-01-01  4.100787e+06>"
            ]
          },
          "metadata": {
            "tags": []
          },
          "execution_count": 68
        }
      ]
    },
    {
      "metadata": {
        "id": "j0LCqzbX1V0z",
        "colab_type": "text"
      },
      "cell_type": "markdown",
      "source": [
        "The level of CO2 emission in 1990 is about 4100787. In order to reach the climate accord, the level of 2030 has to be 40 percent lower, so the target level is approsimately 2460472. This would imply that the goal set in the Paris agreement would be reached in 2030. \n"
      ]
    },
    {
      "metadata": {
        "id": "GGlA_Tj6NXdx",
        "colab_type": "text"
      },
      "cell_type": "markdown",
      "source": [
        "##Conclusion"
      ]
    },
    {
      "metadata": {
        "id": "f-It-x9vmJPJ",
        "colab_type": "text"
      },
      "cell_type": "markdown",
      "source": [
        "Using the ARIMA model, we find that the Paris agreement requirements regarding the reduction of CO2 emissions in the EU will be reached in 2030. We found that CO2 emissions are already declining in the period 1990-2014, but a further forecasted decline in the period 2014-2030 meets the CO2 requirements for 2030. So, the answer to the [research question](https://colab.research.google.com/drive/133wjBNYuZQkdMoPheY4JGEmMivVX3ktp#scrollTo=O6MUvjIMJqGR) is: Yes, the requirements will be reached."
      ]
    },
    {
      "metadata": {
        "id": "4Op9jggvNbrN",
        "colab_type": "text"
      },
      "cell_type": "markdown",
      "source": [
        "##Discussion"
      ]
    },
    {
      "metadata": {
        "id": "_BsDvvfhKfNl",
        "colab_type": "text"
      },
      "cell_type": "markdown",
      "source": [
        "To be able to better estimate the future emissions of CO2, it would be easier to have more data (for example on a monthly basis instead of a yearly basis). Monthly data would have to be adjusted for seasonality, as it would be logical to have higher CO2 emissions in winter than in the summer. Other [examples](https://www.digitalocean.com/community/tutorials/a-guide-to-time-series-forecasting-with-arima-in-python-3) also show that monthly data on CO2 emissions show seasonality. \n"
      ]
    },
    {
      "metadata": {
        "id": "ujG5Ojagnc64",
        "colab_type": "text"
      },
      "cell_type": "markdown",
      "source": [
        "When we look for the optimal ARIMA model, we do not find any optimal model. The model we used is based on our own assumptions which can always be questioned. As we showed, the dataset is non-stationary. A possible explanation why we cannot find an optimal model can be that another model instead of an ARIMA model would be better to use. Another option could be to transform the dataset into a stationary dataset, instead of only correcting the parameters of the model for this. A way to transform the dataset would be to use a logaritm. So, we admit that next to our prediction, other way of prediction are possible and might even be better. This also turns out when we look at the RMSE of our model, which is relatively high. "
      ]
    }
  ]
}